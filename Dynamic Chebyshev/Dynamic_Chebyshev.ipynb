{
 "cells": [
  {
   "cell_type": "code",
   "execution_count": 28,
   "id": "3a02dc60-f9dd-48af-b932-a42ce52a971c",
   "metadata": {},
   "outputs": [],
   "source": [
    "import numpy as np"
   ]
  },
  {
   "cell_type": "code",
   "execution_count": 34,
   "id": "a51e0710-0f67-4c47-9241-0834f5818fe5",
   "metadata": {},
   "outputs": [],
   "source": [
    "def cartesian_product(*arrays):\n",
    "    \"\"\"\n",
    "    Calculate the cartesian product of a list of input arrays.\n",
    "    \n",
    "    Parameters:\n",
    "        arrays: a parameter list of 1d arrays\n",
    "\n",
    "    Returns:\n",
    "        ndarray of shape (N, D): a matrix with columns D equal to number of input arrays and \n",
    "        rows N equal to the product of number of elements in input arrays\n",
    "    \"\"\"\n",
    "    # create a grid where each point is a combination of Chebyshev nodes across each dimension\n",
    "    mg = np.meshgrid(*arrays, indexing='ij')\n",
    "    st = np.stack(mg)\n",
    "    st = np.transpose(st, list(range(1,len(st.shape))) + [0])\n",
    "    return np.reshape(st, (-1, len(mg)))\n",
    "\n",
    "def chebyshev_transform(x, a = -1.0, b = 1.0):\n",
    "    \"\"\"\n",
    "    Transform input x from standard domain [-1, 1] to general\n",
    "    hyper-rectangular domain.\n",
    "\n",
    "    Parameters:\n",
    "        x : 1d array or 2d array on the standard domain [-1, 1]\n",
    "        a (float or 1d array) :\n",
    "            lower boundary of domain, if a is array then we require a.shape[0]\n",
    "            equal to x.shape[-1]\n",
    "        b (float or 1d array):\n",
    "            upper boundary of domain, if b is array then we require b.shape[0]\n",
    "            equal to x.shape[-1]\n",
    "    \n",
    "    Returns:\n",
    "        1d array or 2d array of shape x.shape    \n",
    "    \"\"\"\n",
    "    return a + 0.5 * (b - a) * (x + 1.0)\n",
    "\n",
    "def chebyshev_inverse_transform(y, a = -1.0, b = 1.0):\n",
    "    \"\"\"\n",
    "    Transform input y from general hyper-rectangular domain to\n",
    "    standard domain [-1, 1].\n",
    "\n",
    "    Parameters\n",
    "    ----------\n",
    "    y : 1d array or 2d array on general hyper-rectangular domain\n",
    "    a : float or 1d array\n",
    "        lower boundary of domain, if a is array then we require a.shape[0]\n",
    "        equal to y.shape[-1]\n",
    "    b : float or 1d array\n",
    "        upper boundary of domain, if b is array then we require b.shape[0]\n",
    "        equal to y.shape[-1]\n",
    "    \n",
    "    Returns\n",
    "    -------\n",
    "    1d array or 2d array of shape y.shape    \n",
    "    \"\"\"\n",
    "    return 2 / (b-a) * (y-a) - 1.0\n",
    "\n",
    "\n",
    "def chebyshev_points(degrees):\n",
    "    \"\"\"\n",
    "    Calculate the Chebyshev points (of second kind) used for interpolation.\n",
    "\n",
    "    Parameters\n",
    "    ----------\n",
    "    degrees : list of int\n",
    "        each entry represents the maximum polynomial degree per dimension,\n",
    "\n",
    "    Returns\n",
    "    -------\n",
    "    list of 1d arrays\n",
    "\n",
    "\n",
    "    Chebyshev points of second represent the extrema of Chebyshev polynomials\n",
    "    of first kind.\n",
    "    \"\"\"\n",
    "    \n",
    "    return [ np.cos(np.pi * np.linspace(0, 1, n+1)) for n in degrees]\n",
    "\n",
    "\n",
    "def chebyshev_multi_points(degrees):\n",
    "    \"\"\"\n",
    "    Calculate multivariate Chebyshev points on a standard domain [-1,1].\n",
    "    \n",
    "    Parameters:\n",
    "    degrees (list of int): each entry represents the maximum polynomial degree per dimension,\n",
    "        len(degrees) corresponds to the number of dimensions\n",
    "        \n",
    "    Returns:\n",
    "    2d array of shape (N,D): number of rows N equals product over all (N_d + 1) where N_d is\n",
    "        the maximum polynomial degree in dimension d (d=1...D) and D is\n",
    "        the number of dimensions of the tensor.\n",
    "    \"\"\"\n",
    "    points = chebyshev_points(degrees)\n",
    "    multi_points = cartesian_product(*points)\n",
    "    \n",
    "    return multi_points\n",
    "\n",
    "def chebyshev_polynomials(x, max_degree):\n",
    "    \"\"\"\n",
    "    Calculate the Chebyshev polynomials T_0(x), ..., T_N(x) for up to maximum degree N.\n",
    "\n",
    "    Parameters:\n",
    "        x : float or 1d array for interpolation x is assumed to be in [-1, 1] (element-wise)\n",
    "\n",
    "    Returns: \n",
    "        1d array if input is float or 2d array if input is array. First dimension represents maximum degree N.\n",
    "    \"\"\"\n",
    "    T = [ 1.0 + 0*x ]\n",
    "    if max_degree==0:\n",
    "        return np.array(T)\n",
    "    T += [ x ]\n",
    "    if max_degree==1:\n",
    "        return np.array(T)\n",
    "    for d in range(2, max_degree+1):\n",
    "        T += [ 2*x*T[-1] - T[-2] ]\n",
    "        \n",
    "    return np.array(T)\n",
    "\n",
    "def chebyshev_batch_call(C, x):\n",
    "    \"\"\"\n",
    "    Calculate\n",
    "    z = [...[C * T(x_D)] * ...] * T(x_1)\n",
    "    for a tensor C and input points x.\n",
    "    T(x_d) are Chebyshev polynomials to degree N_d.\n",
    "\n",
    "    Parameters:\n",
    "        C (ndarray): a tensor with suitable shape specifying the maximum polynomial degrees per dimension.\n",
    "        x (ndarray): a (N,D) matrix where first dimension N represents batch size and\n",
    "            second dimension D represents number of dimensions of tensor.\n",
    "        \n",
    "    Returns:\n",
    "        1d array of shape (N,)\n",
    "\n",
    "    This is the basic operation for interpolation.\n",
    "\n",
    "    Re-shaping is to ensure proper broadcast in matmul.\n",
    "    \"\"\"\n",
    "    degrees = [ d-1 for d in C.shape ]\n",
    "    assert len(x.shape)==2\n",
    "    assert x.shape[1]==len(degrees)\n",
    "    res = np.reshape(C, [1] + list(C.shape))\n",
    "    for xi, Nd in zip(reversed(x.T), reversed(degrees)):\n",
    "        T = chebyshev_polynomials(xi, Nd)\n",
    "        T = np.reshape(T.T, [T.shape[1]] + [1]*(len(res.shape)-3) + [T.shape[0]] + [1])\n",
    "        if len(res.shape)==2: # last iteration\n",
    "            res = np.reshape(res, [res.shape[0]]+[1]+[res.shape[1]])\n",
    "        res = np.matmul(res, T)\n",
    "        res = np.reshape(res, res.shape[:-1])\n",
    "    \n",
    "    return np.reshape(res, (-1))\n",
    "\n",
    "def chebyshev_coefficients(degrees, multi_points, values):\n",
    "    \"\"\"\n",
    "    Calculate coefficients of Chebyshev basis functions.\n",
    "\n",
    "    Parameters:\n",
    "        degrees (list of int): each entry represents the maximum polynomial degree per dimension,\n",
    "            len(degrees) corresponds to the number of dimensions\n",
    "        multi_points (2d array): multivariate Chebyshev points on a standard domain [-1,1]\n",
    "        values (1d array): the target function values for each D-dimensional multivariate\n",
    "            Chebyshev point on the transformed domain of the tagret function.\n",
    "        \n",
    "    Returns: \n",
    "        ndarray of shape (degrees + 1)\n",
    "    \"\"\"\n",
    "    assert len(multi_points.shape) == 2\n",
    "    assert len(values.shape) == 1\n",
    "    assert multi_points.shape[0] == np.prod([n+1 for n in degrees])\n",
    "    assert multi_points.shape[0] == values.shape[0]\n",
    "    assert multi_points.shape[1] == len(degrees)\n",
    "    #\n",
    "    idx_list = [ np.arange(n+1) for n in degrees]\n",
    "    multi_idx = cartesian_product(*idx_list)\n",
    "    inner_node_factor = np.sum(\n",
    "        (0<multi_idx) & (multi_idx<np.array(degrees)),\n",
    "        axis = 1\n",
    "    )\n",
    "    values_adj = values * 0.5**(len(degrees) - inner_node_factor)\n",
    "    values_adj = np.reshape(values_adj, [n+1 for n in degrees])  # as tensor\n",
    "    multi_coeff = chebyshev_batch_call(values_adj, multi_points)\n",
    "    multi_coeff *= 2**inner_node_factor / np.prod(degrees)\n",
    "    coeff = np.reshape(multi_coeff, [n+1 for n in degrees]) # as tensor \n",
    "    \n",
    "    return coeff\n",
    "\n",
    "def chebyshev_interpolation(y, coeff, a = -1.0, b = 1.0):\n",
    "    \"\"\"\n",
    "    Calcuate multivariate Chebyshev interpolation.\n",
    "\n",
    "    Parameters:\n",
    "        y (2d array): Inputs of shape (N, D) where N is batch size and D is the number\n",
    "            of dimensios. Input is assumed from general hyper-rectangular domain\n",
    "        coeff (ndarray): calibrated Chebyshev tensor coefficients\n",
    "        a (float or 1d array): lower boundary of domain, if a is array then we require a.shape[0]\n",
    "            equal to y.shape[-1]\n",
    "        b (float or 1d array): upper boundary of domain, if b is array then we require b.shape[0]\n",
    "            equal to y.shape[-1]\n",
    "    \n",
    "    Returns: \n",
    "        1darray of shape (N,)\n",
    "    \"\"\"\n",
    "    x = chebyshev_inverse_transform(y, a, b)\n",
    "    \n",
    "    return chebyshev_batch_call(coeff, x)"
   ]
  },
  {
   "cell_type": "code",
   "execution_count": 52,
   "id": "1b3eeb45-5ca9-4c1e-9b58-bd334b41398f",
   "metadata": {},
   "outputs": [
    {
     "name": "stderr",
     "output_type": "stream",
     "text": [
      "/var/folders/3j/22yv_sj10t96slp1b8b6z1zw0000gn/T/ipykernel_22746/1734803278.py:26: RuntimeWarning: invalid value encountered in arccos\n",
      "  p_j_values = np.cos(j * np.arccos(scaled_end_points))\n"
     ]
    }
   ],
   "source": [
    "# Example parameters for the GBM\n",
    "S_0 = 100  # Initial stock price\n",
    "mu = 0.05  # Drift term\n",
    "sigma = 0.2  # Volatility\n",
    "delta_t = 1/252  # Time step in years (daily step in a 252-day trading year)\n",
    "N_MC = 10000  # Number of Monte Carlo simulations\n",
    "\n",
    "# Nodal points corresponding to Chebyshev nodes\n",
    "nodal_points = np.array([-0.5,0,0.5])\n",
    "\n",
    "def simulate_gbm_end_points(S_0, mu, sigma, delta_t, N_MC):\n",
    "    # Simulate end points directly using the GBM formula\n",
    "    Z = np.random.randn(N_MC)  # Random draws from standard normal distribution\n",
    "    end_points = S_0 * np.exp((mu - 0.5 * sigma**2) * delta_t + sigma * np.sqrt(delta_t) * Z)\n",
    "    return end_points\n",
    "\n",
    "def monte_carlo_generalized_moments_chebyshev(nodal_points, N_MC, delta_t, mu, sigma):\n",
    "    N = len(nodal_points)\n",
    "    Gamma = np.zeros((N, N))\n",
    "    \n",
    "    for k, x_k in enumerate(nodal_points):\n",
    "        end_points = simulate_gbm_end_points(x_k, mu, sigma, delta_t, N_MC)\n",
    "        for j in range(N):\n",
    "            # The Chebyshev polynomials are defined on the domain [-1, 1], hence we rescale the simulation end points\n",
    "            scaled_end_points = 2 * (end_points - nodal_points[0]) / (nodal_points[-1] - nodal_points[0]) - 1\n",
    "            p_j_values = np.cos(j * np.arccos(scaled_end_points))\n",
    "            Gamma[k, j] = np.mean(p_j_values)\n",
    "\n",
    "# Calculate the generalized moments matrix using the adjusted Monte Carlo simulation\n",
    "Gamma = monte_carlo_generalized_moments_chebyshev(nodal_points, N_MC, delta_t, mu, sigma)\n",
    "Gamma"
   ]
  },
  {
   "cell_type": "code",
   "execution_count": 53,
   "id": "1091ac54-e891-43ba-8563-d8afccfb109d",
   "metadata": {},
   "outputs": [],
   "source": [
    "# Define the number of nodes (degree of Chebyshev polynomial) for each dimension\n",
    "degrees = [3]  # Replace with actual degrees\n",
    "\n",
    "# Calculate the Chebyshev points\n",
    "chebyshev_nodes = chebyshev_multi_points(degrees)\n",
    "\n",
    "# Define the domain boundaries for each dimension\n",
    "domain_boundaries = [(30,40)]  # Replace with actual boundaries"
   ]
  },
  {
   "cell_type": "code",
   "execution_count": 42,
   "id": "4e409159-992a-4616-9310-ef343063c6dc",
   "metadata": {},
   "outputs": [
    {
     "data": {
      "text/plain": [
       "array([[ 1. ],\n",
       "       [ 0.5],\n",
       "       [-0.5],\n",
       "       [-1. ]])"
      ]
     },
     "execution_count": 42,
     "metadata": {},
     "output_type": "execute_result"
    }
   ],
   "source": [
    "chebyshev_nodes"
   ]
  },
  {
   "cell_type": "markdown",
   "id": "864fc515-c4da-4583-ad5f-24896713aab8",
   "metadata": {},
   "source": [
    "# Exploring the methods"
   ]
  },
  {
   "cell_type": "code",
   "execution_count": 35,
   "id": "2d5d5398-9768-41a6-8f50-c596f0516837",
   "metadata": {},
   "outputs": [
    {
     "data": {
      "text/plain": [
       "array([[1, 4, 6],\n",
       "       [1, 4, 7],\n",
       "       [1, 5, 6],\n",
       "       [1, 5, 7],\n",
       "       [2, 4, 6],\n",
       "       [2, 4, 7],\n",
       "       [2, 5, 6],\n",
       "       [2, 5, 7]])"
      ]
     },
     "execution_count": 35,
     "metadata": {},
     "output_type": "execute_result"
    }
   ],
   "source": [
    "# Example arrays\n",
    "array1 = np.array([1, 2])\n",
    "array2 = np.array([4, 5])\n",
    "array3 = np.array([6, 7])\n",
    "\n",
    "# Calculate the cartesian product of the example arrays\n",
    "cartesian_product_result = cartesian_product(array1, array2, array3)\n",
    "cartesian_product_result"
   ]
  },
  {
   "cell_type": "code",
   "execution_count": 36,
   "id": "ed07d470-4458-4e65-af53-a1de50022a7b",
   "metadata": {},
   "outputs": [
    {
     "data": {
      "text/plain": [
       "array([ 0. ,  2.5,  5. ,  7.5, 10. ])"
      ]
     },
     "execution_count": 36,
     "metadata": {},
     "output_type": "execute_result"
    }
   ],
   "source": [
    "z = np.array([-1, -0.5, 0, 0.5, 1])  # univariate chebyshev nodes on standardized domain\n",
    "x_lower, x_upper = 0, 10  # domain bounds on the general domain\n",
    "\n",
    "# Apply the transformations\n",
    "transformed_z = chebyshev_transform(z, x_lower, x_upper)\n",
    "transformed_z"
   ]
  },
  {
   "cell_type": "code",
   "execution_count": 37,
   "id": "5ef2040e-4b96-4d44-b483-e01c1d462d64",
   "metadata": {},
   "outputs": [
    {
     "data": {
      "text/plain": [
       "array([[ 1. ,  1. ,  1. ,  1. ,  1. ],\n",
       "       [-1. , -0.5,  0. ,  0.5,  1. ],\n",
       "       [ 1. , -0.5, -1. , -0.5,  1. ],\n",
       "       [-1. ,  1. , -0. , -1. ,  1. ],\n",
       "       [ 1. , -0.5,  1. , -0.5,  1. ],\n",
       "       [-1. , -0.5,  0. ,  0.5,  1. ]])"
      ]
     },
     "execution_count": 37,
     "metadata": {},
     "output_type": "execute_result"
    }
   ],
   "source": [
    "# Example usage\n",
    "x_values = np.linspace(-1, 1, 5)  # Example x values in the range [-1, 1]\n",
    "max_degree = 5  # Compute Chebyshev polynomials up to degree 5\n",
    "\n",
    "# Compute the Chebyshev polynomials for the given x_values\n",
    "chebyshev_poly_values = chebyshev_polynomials(x_values, max_degree)\n",
    "\n",
    "chebyshev_poly_values  # Display the computed Chebyshev polynomial"
   ]
  },
  {
   "cell_type": "code",
   "execution_count": 38,
   "id": "c5326c77-5e29-4b83-aeb2-8ea621797712",
   "metadata": {},
   "outputs": [
    {
     "data": {
      "text/plain": [
       "array([0.2036025 , 0.60786277, 0.6191806 , 1.36291899, 0.24367263])"
      ]
     },
     "execution_count": 38,
     "metadata": {},
     "output_type": "execute_result"
    }
   ],
   "source": [
    "# Example usage:\n",
    "# Create a tensor C with random coefficients\n",
    "C = np.random.rand(3, 3, 3)  # Example tensor for a 3D Chebyshev series up to degree 2 in each dimension\n",
    "\n",
    "# Create an array of points x where each row is a point in 3D space\n",
    "x = np.random.rand(5, 3) * 2 - 1  # 5 points in the range [-1, 1] for each dimension\n",
    "\n",
    "# Call the function\n",
    "z = chebyshev_batch_call(C, x)\n",
    "z"
   ]
  },
  {
   "cell_type": "code",
   "execution_count": null,
   "id": "6f8cc86c-422d-4f6e-b20a-bdf500a27160",
   "metadata": {},
   "outputs": [],
   "source": []
  },
  {
   "cell_type": "code",
   "execution_count": null,
   "id": "ce44e079-bc00-4be0-819f-bcfe0a1d0509",
   "metadata": {},
   "outputs": [],
   "source": []
  }
 ],
 "metadata": {
  "kernelspec": {
   "display_name": "Python 3 (ipykernel)",
   "language": "python",
   "name": "python3"
  },
  "language_info": {
   "codemirror_mode": {
    "name": "ipython",
    "version": 3
   },
   "file_extension": ".py",
   "mimetype": "text/x-python",
   "name": "python",
   "nbconvert_exporter": "python",
   "pygments_lexer": "ipython3",
   "version": "3.9.12"
  }
 },
 "nbformat": 4,
 "nbformat_minor": 5
}
