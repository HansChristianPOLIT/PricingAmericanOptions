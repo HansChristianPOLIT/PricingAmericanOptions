{
 "cells": [
  {
   "cell_type": "markdown",
   "id": "bfef63cb-3a45-47ab-8f3c-c69b52b83369",
   "metadata": {},
   "source": [
    "# Dynamic Chebyshev Method"
   ]
  },
  {
   "cell_type": "code",
   "execution_count": 1,
   "id": "927d7dd8-cbda-4c3e-9e21-eb53ea9c40c9",
   "metadata": {},
   "outputs": [],
   "source": [
    "import numpy as np\n",
    "import matplotlib.pyplot as plt\n",
    "from scipy.interpolate import interp1d"
   ]
  },
  {
   "cell_type": "code",
   "execution_count": 2,
   "id": "c3271324-658f-4912-9cc5-669814856556",
   "metadata": {},
   "outputs": [],
   "source": [
    "S0 = 36. # current stock price\n",
    "K = 40. # strike price\n",
    "r = 0.06 # risk-free rate\n",
    "σ = 0.2 # volatility\n",
    "T = 1. # time to maturity, in years, a float number\n",
    "n_timesteps = 50 # between time 0 and time T, the number of time steps \n",
    "dim = 1_000 # number of paths to simulate\n",
    "n_chebyshev_pol = 100 # degree of chebyshev polynomials\n",
    "n_chebyshev_point = n_chebyshev_pol + 1 # number of chebyshev points\n",
    "seed = 150_000 # random seed for reproducibility\n",
    "np.random.seed(seed)\n",
    "Z = np.random.normal(0, 1, (dim, n_chebyshev_point)) # white noise (drawn all at once)\n",
    "Δ = T / n_timesteps"
   ]
  },
  {
   "cell_type": "markdown",
   "id": "bdf242d7-33ff-4f25-a1bf-cf2f38263ffb",
   "metadata": {
    "tags": []
   },
   "source": [
    "### Define Truncated Domain (here, one-dimensional)"
   ]
  },
  {
   "cell_type": "code",
   "execution_count": 3,
   "id": "225d3ce6-cc01-4887-89a9-b888bd66c35c",
   "metadata": {},
   "outputs": [],
   "source": [
    "# Truncated general domain, χ\n",
    "μ = np.log(S0) + (r - 0.5*σ**2)*T\n",
    "trunc = 3 * np.sqrt(T) * σ # truncate\n",
    "general_domain = [μ - trunc, μ + trunc] # truncated domain"
   ]
  },
  {
   "cell_type": "markdown",
   "id": "139297b3-83b9-4d4a-a558-cc3366747400",
   "metadata": {
    "tags": []
   },
   "source": [
    "### Determine Nodal Points"
   ]
  },
  {
   "cell_type": "code",
   "execution_count": 4,
   "id": "dae9e531-e263-4ef3-9840-7dd4dbf9d0bb",
   "metadata": {},
   "outputs": [],
   "source": [
    "def chebyshev_points_1d(degree: int):\n",
    "    \"\"\"\n",
    "    Calculate the chebyshev points used for one-dimensional interpolation.\n",
    "    \n",
    "    Parameters:\n",
    "    degrees (int): degree of chebyshev polynomial.\n",
    "        \n",
    "    Returns:\n",
    "    1d array\n",
    "    \"\"\"\n",
    "    # x_i = (j * π / N) for i in range 0,...,N\n",
    "    return np.cos(np.pi * np.linspace(0, 1, degree+1))\n",
    "\n",
    "def chebyshev_transform_1d(z, a: float, b: float):\n",
    "    \"\"\"\n",
    "    Transform input z from standardized domain [-1,1] to general domain χ.\n",
    "    \n",
    "    Parameters:\n",
    "    z (1d array): chebyshev points on standardized domain [-1,1]\n",
    "    a (float): lower boundary on domain\n",
    "    b (float): upper boundary on domain\n",
    "    \n",
    "    Returns: \n",
    "    1d array of shape z.shape on χ.\n",
    "    \"\"\"\n",
    "    \n",
    "    return b + 0.5*(a-b)*(1.0-z)\n",
    "\n",
    "def chebyshev_inverse_transform_1d(x, a: float, b: float):\n",
    "    \"\"\"\n",
    "    Transform input x from general domain χ to standardized domain [-1,1].\n",
    "    \n",
    "    Parameters:\n",
    "    x (1d array): chebyshev points on general domain χ\n",
    "    a (float): lower boundary of general domain\n",
    "    b (float): upper boundary of general domain\n",
    "    \n",
    "    Returns:\n",
    "    1d array of shape x.shape\n",
    "    \"\"\"\n",
    "    \n",
    "    return 2*(x-a)/(b-a) - 1"
   ]
  },
  {
   "cell_type": "markdown",
   "id": "02223616-149c-4024-a8f3-73881a7ea0c5",
   "metadata": {},
   "source": [
    "### Pre-Computation Step"
   ]
  },
  {
   "cell_type": "code",
   "execution_count": 5,
   "id": "6bf3b66e-541c-4f2e-93a0-31d91371d5af",
   "metadata": {},
   "outputs": [],
   "source": [
    "# nodal points\n",
    "z = chebyshev_points_1d(n_chebyshev_pol) # standardized domain [-1,1]\n",
    "x = chebyshev_transform_1d(z,general_domain[0],general_domain[1]) # transform to hyperrectangular domain\n",
    "\n",
    "# Monte Carlo Simulation\n",
    "# initialize\n",
    "x_next = np.zeros((dim, n_chebyshev_point))\n",
    "# simulate stock pricess process\n",
    "for i in range(n_chebyshev_point):\n",
    "    x_next[:,i] = x[i] + (r-0.5*σ**2)*Δ + σ*np.sqrt(Δ)*Z[:,i]\n",
    "    \n",
    "check = (x_next > general_domain[0]) & (x_next < general_domain[1]) # indicator function\n",
    "valid_points = np.sum(check, axis=0)\n",
    "\n",
    "# Compute Generalized Moments\n",
    "Γ = np.zeros((n_chebyshev_point, n_chebyshev_point)) # initialize\n",
    "chebypol_eval = np.zeros((dim, n_chebyshev_point, n_chebyshev_point))\n",
    "\n",
    "for j in range(n_chebyshev_point):\n",
    "    y = np.zeros(n_chebyshev_point)\n",
    "    y[j] = 1\n",
    "    cheb_fun = interp1d(x, y, kind='linear', fill_value=\"extrapolate\")\n",
    "    chebypol_eval[:,:,j] = cheb_fun(x_next)*check\n",
    "\n",
    "# nested for loop, very slow\n",
    "for i in range(n_chebyshev_point):\n",
    "    for j in range(n_chebyshev_point):\n",
    "        Γ[i,j] = np.sum(chebypol_eval[:,i,j])/valid_points[i]"
   ]
  },
  {
   "cell_type": "markdown",
   "id": "494c1430-d152-4809-b6bb-04ae5a97d4a0",
   "metadata": {},
   "source": [
    "### Terminal Period, $t=T$"
   ]
  },
  {
   "cell_type": "code",
   "execution_count": 6,
   "id": "014ac40b-479a-4110-93ff-0de627936c51",
   "metadata": {},
   "outputs": [],
   "source": [
    "V = np.zeros((n_chebyshev_point, n_timesteps))\n",
    "C = np.zeros((n_chebyshev_point, n_timesteps-1))\n",
    "payoff = np.maximum(K - np.exp(x), 0) # remember to exponentiate since we have form S = e^{x}\n",
    "V[:,-1] = payoff"
   ]
  },
  {
   "cell_type": "markdown",
   "id": "f6e7b529-fcc5-48e1-985b-b87591cbe583",
   "metadata": {},
   "source": [
    "### Backward Induction"
   ]
  },
  {
   "cell_type": "code",
   "execution_count": 7,
   "id": "53b5c3d0-2766-4f66-9dc2-a6c004eb28b8",
   "metadata": {},
   "outputs": [],
   "source": [
    "# Backward induction\n",
    "for i in range(n_timesteps-2, -1, -1):\n",
    "    C[:,i] = np.exp(-r*Δ)*Γ@V[:,i+1] # discounted next-period continuation value\n",
    "    V[:,i] = np.where(payoff>C[:,i], payoff, C[:,i])\n",
    "    #np.max(np.column_stack((payoff, C[:,i], np.zeros_like(payoff))), axis=1)"
   ]
  },
  {
   "cell_type": "markdown",
   "id": "fd7451e5-56e8-43bb-9534-78e5c7b77363",
   "metadata": {},
   "source": [
    "### Time zero"
   ]
  },
  {
   "cell_type": "code",
   "execution_count": 8,
   "id": "9a6b5076-f373-4b9c-bdfb-a7f4fc205109",
   "metadata": {},
   "outputs": [],
   "source": [
    "# At t = 0\n",
    "C0 = np.exp(-r*Δ)*Γ@V[:,0]\n",
    "V0 = interp1d(x, C0, kind='linear', fill_value=\"extrapolate\")(np.log(S0))"
   ]
  },
  {
   "cell_type": "code",
   "execution_count": 9,
   "id": "ba9ee794-4daf-4dc9-b16d-53a7eb894d9d",
   "metadata": {},
   "outputs": [
    {
     "data": {
      "text/plain": [
       "array(4.34038684)"
      ]
     },
     "execution_count": 9,
     "metadata": {},
     "output_type": "execute_result"
    }
   ],
   "source": [
    "V0"
   ]
  },
  {
   "cell_type": "code",
   "execution_count": 10,
   "id": "60f98132-28e2-42af-a7bc-f2f417dfd737",
   "metadata": {},
   "outputs": [
    {
     "data": {
      "image/png": "[encoded data removed]",
      "text/plain": [
       "<Figure size 720x432 with 1 Axes>"
      ]
     },
     "metadata": {
      "needs_background": "light"
     },
     "output_type": "display_data"
    }
   ],
   "source": [
    "# Plotting\n",
    "plt.figure(figsize=(10, 6))\n",
    "\n",
    "# Plot the intrinsic value\n",
    "asset_prices_range = np.exp(np.arange(general_domain[0], general_domain[1], 0.01))\n",
    "intrinsic_value = np.maximum(K - asset_prices_range, 0)\n",
    "plt.plot(asset_prices_range, intrinsic_value, '-r', label='Intrinsic Value')\n",
    "\n",
    "# Plot the continuation value at t=0\n",
    "plt.plot(np.exp(x), C[:,0], '.-k', label='Continuation Value at $t=0$')\n",
    "\n",
    "# Adding labels and title\n",
    "plt.xlabel('Asset Price, $S_0$')\n",
    "plt.ylabel('Option Value')\n",
    "plt.title('Dynamic Chebyshev Method - Generalized Moments Approximated by Monte Carlo')\n",
    "\n",
    "# Adding a legend\n",
    "plt.legend()\n",
    "\n",
    "# Display the plot\n",
    "plt.show()"
   ]
  },
  {
   "cell_type": "code",
   "execution_count": null,
   "id": "d881f6d0-4993-494f-ab75-28d4c64117b7",
   "metadata": {},
   "outputs": [],
   "source": []
  }
 ],
 "metadata": {
  "kernelspec": {
   "display_name": "Python 3 (ipykernel)",
   "language": "python",
   "name": "python3"
  },
  "language_info": {
   "codemirror_mode": {
    "name": "ipython",
    "version": 3
   },
   "file_extension": ".py",
   "mimetype": "text/x-python",
   "name": "python",
   "nbconvert_exporter": "python",
   "pygments_lexer": "ipython3",
   "version": "3.9.12"
  }
 },
 "nbformat": 4,
 "nbformat_minor": 5
}
