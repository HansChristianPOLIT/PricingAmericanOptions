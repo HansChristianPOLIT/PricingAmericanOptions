{
 "cells": [
  {
   "cell_type": "code",
   "execution_count": null,
   "id": "7256f5ed-d2e2-4671-8ca7-157ee26cd9a2",
   "metadata": {},
   "outputs": [],
   "source": [
    "# MonteCarlo simulation function for Geometric Brownian Motion or Jump Diffusion\n",
    "def monte_carlo_simulation(num_simulations, time_steps, mu, sigma, initial_price, diffusion_type='GBM', mu_j=0, sigma_j=0, lambda_=0):\n",
    "    '''\n",
    "    This function performs a Monte Carlo simulation of stock prices. It takes in the following parameters:\n",
    "\n",
    "    num_simulations: the number of simulations to run\n",
    "    time_steps: the number of time steps to simulate over\n",
    "    mu: the mean of the log returns\n",
    "    sigma: the standard deviation of the log returns\n",
    "    initial_price: the initial stock price\n",
    "    diffusion_type: the type of diffusion to use, either 'GBM' (Geometric Brownian Motion) or 'Jump' (Jump Diffusion). Default is 'GBM'.\n",
    "    mu_j: the mean of the jump component. Default is 0.\n",
    "    sigma_j: the standard deviation of the jump component. Default is 0.\n",
    "    lambda_: the frequency of jumps. Default is 0.\n",
    "\n",
    "    The function creates an array to store the simulated prices and sets the initial price for all simulations. \n",
    "    It then sets the time step and chooses the type of diffusion. If the diffusion type is 'GBM', \n",
    "    it uses the GBM equation to calculate the next price for each simulation. If the diffusion type is 'Jump', \n",
    "    it uses the Jump Diffusion equation to calculate the next price for each simulation. The function returns an array of simulated prices.    \n",
    "    '''    \n",
    "    # Create an array to store the simulated prices\n",
    "    sim_prices = np.zeros((num_simulations, time_steps))\n",
    "    # Set the initial price for all simulations\n",
    "    sim_prices[:, 0] = initial_price\n",
    "    # Set the time step\n",
    "    dt = 1 / time_steps\n",
    "    # Choose the type of diffusion\n",
    "    if diffusion_type == 'GBM':\n",
    "        for i in range(1, time_steps):\n",
    "            # Generate random numbers for each simulation\n",
    "            rand = np.random.normal(0, 1, num_simulations)\n",
    "            # Use GBM to calculate the next price for each simulation\n",
    "            sim_prices[:, i] = sim_prices[:, i-1] * np.exp((mu - sigma**2 / 2) * dt + sigma * np.sqrt(dt) * rand)\n",
    "    elif diffusion_type == 'Jump':\n",
    "        for i in range(1, time_steps):\n",
    "            # Generate random numbers for each simulation\n",
    "            rand = np.random.normal(0, 1, num_simulations)\n",
    "            # Generate random numbers for the jump component\n",
    "            jump = np.random.normal(mu_j, sigma_j, num_simulations)\n",
    "            # Use Jump Diffusion to calculate the next price for each simulation\n",
    "            sim_prices[:, i] = sim_prices[:, i-1] * np.exp((mu - sigma**2 / 2 - lambda_ * (np.exp(mu_j + sigma_j ** 2 / 2) - 1)) * dt + sigma * np.sqrt(dt) * rand + jump)\n",
    "    else:\n",
    "        raise ValueError('Invalid diffusion type. Choose either GBM or Jump.')\n",
    "    return sim_prices"
   ]
  }
 ],
 "metadata": {
  "kernelspec": {
   "display_name": "Python 3 (ipykernel)",
   "language": "python",
   "name": "python3"
  },
  "language_info": {
   "codemirror_mode": {
    "name": "ipython",
    "version": 3
   },
   "file_extension": ".py",
   "mimetype": "text/x-python",
   "name": "python",
   "nbconvert_exporter": "python",
   "pygments_lexer": "ipython3",
   "version": "3.9.12"
  }
 },
 "nbformat": 4,
 "nbformat_minor": 5
}
