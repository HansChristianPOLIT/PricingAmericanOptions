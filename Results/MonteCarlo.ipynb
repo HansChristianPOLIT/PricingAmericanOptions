{
 "cells": [
  {
   "cell_type": "markdown",
   "id": "9ff6f447-c718-4878-be2c-95cafbbc1a91",
   "metadata": {},
   "source": [
    "# Monte Carlo Simulation of Stock Price Processes"
   ]
  },
  {
   "cell_type": "markdown",
   "id": "6fee63c0-5505-4ca5-836b-5bdf9b2b224d",
   "metadata": {},
   "source": [
    "## Table of Contents\n",
    "* [1) Generate Geometric Brownian Motion (GBM)](#first-bullet)\n",
    "    - [1a) GBM Non-Vectorized](#firsta-bullet)\n",
    "    - [1b) GBM Vectorized](#firstb-bullet)\n",
    "* [2) Generate Log-Normal (LN) Jump Processes](#second-bullet)\n",
    "    - [2a) LN Jump Process Non-Vectorized](#seconda-bullet)\n",
    "    - [2b) LN Jump Process Vectorized](#secondb-bullet)\n",
    "* [3) Generate Constant Elasticity of Variance (CEV) Processes](#third-bullet)"
   ]
  },
  {
   "cell_type": "markdown",
   "id": "4733e7ce-7c6d-47e8-9bc8-af6e92044fb5",
   "metadata": {},
   "source": [
    "## Setup"
   ]
  },
  {
   "cell_type": "code",
   "execution_count": null,
   "id": "052439ee-3b32-4175-bc06-88b5383250fa",
   "metadata": {},
   "outputs": [],
   "source": [
    "%load_ext autoreload\n",
    "%autoreload 2\n",
    "\n",
    "import numpy as np\n",
    "import matplotlib.pyplot as plt\n",
    "import os\n",
    "\n",
    "# local\n",
    "from LSM import MonteCarloOptionPricing\n",
    "from figs import plot_stock_price_simulations"
   ]
  },
  {
   "cell_type": "code",
   "execution_count": null,
   "id": "7abf5e6f-e861-42b2-81bb-5135da42c0e0",
   "metadata": {},
   "outputs": [],
   "source": [
    "# Initialize instance from class\n",
    "mc_option_pricing = MonteCarloOptionPricing(r=0.06, S0=36., K=40., T=2., σ=0.2, λ=0.4, dim=10_000, n=50, seed=150_000)"
   ]
  },
  {
   "cell_type": "markdown",
   "id": "b886eb9a-dece-4eff-a7bd-10f045a08093",
   "metadata": {},
   "source": [
    "## 1) Generate Geometric Brownian Motion (GBM) <a class=\"anchor\" id=\"first-bullet\"></a>"
   ]
  },
  {
   "cell_type": "markdown",
   "id": "ab2c12d3-373e-422d-93ff-2f12dfbbd8f4",
   "metadata": {},
   "source": [
    "### 1a) GBM Non-Vectorized <a class=\"anchor\" id=\"firsta-bullet\"></a>"
   ]
  },
  {
   "cell_type": "code",
   "execution_count": null,
   "id": "c37901e4-4a98-4359-be0e-87c95c7970cb",
   "metadata": {},
   "outputs": [],
   "source": [
    "# Generate 'dim' no. of stock price process paths\n",
    "simulated_paths = mc_option_pricing.GeometricBrownianMotion()\n",
    "\n",
    "plot_stock_price_simulations(mc_option_pricing.T, mc_option_pricing.n, simulated_paths, mc_option_pricing.dim)"
   ]
  },
  {
   "cell_type": "markdown",
   "id": "1306c296-4523-45f3-bbea-8def148e252b",
   "metadata": {},
   "source": [
    "### 1b) GBM Vectorized <a class=\"anchor\" id=\"firstb-bullet\"></a>"
   ]
  },
  {
   "cell_type": "code",
   "execution_count": null,
   "id": "3c606701-b80b-43ea-b666-993808ecc3a6",
   "metadata": {},
   "outputs": [],
   "source": [
    "# Generate 'dim' no. of stock price process paths\n",
    "simulated_paths = mc_option_pricing.GeometricBrownianMotion_vec()\n",
    "\n",
    "# plot stock price process\n",
    "plot_stock_price_simulations(mc_option_pricing.T, mc_option_pricing.n, simulated_paths, mc_option_pricing.dim)"
   ]
  },
  {
   "cell_type": "markdown",
   "id": "6a090927-4b7e-48a3-80bb-b6dccc3c878b",
   "metadata": {},
   "source": [
    "## 2) Generate Log-Normal (LN) Jump Processes <a class=\"anchor\" id=\"second-bullet\"></a>"
   ]
  },
  {
   "cell_type": "markdown",
   "id": "e48a0cfe-403a-4221-8768-35bd1e8989dd",
   "metadata": {},
   "source": [
    "### 2a) LN Jump Processes Non-Vectorized <a class=\"anchor\" id=\"seconda-bullet\"></a>"
   ]
  },
  {
   "cell_type": "code",
   "execution_count": null,
   "id": "86b6918b-4f40-4715-954b-9e022ab8b74b",
   "metadata": {},
   "outputs": [],
   "source": [
    "# Generate 'dim' no. of stock price process paths\n",
    "simulated_paths = mc_option_pricing.MertonJumpDiffusion(α=-0.5,β=0.4)\n",
    "\n",
    "# plot stock price process\n",
    "plot_stock_price_simulations(mc_option_pricing.T, mc_option_pricing.n, simulated_paths, mc_option_pricing.dim)"
   ]
  },
  {
   "cell_type": "markdown",
   "id": "5c2b5a2e-b3aa-485c-9a63-da42d29ca031",
   "metadata": {},
   "source": [
    "### 2b) LN Jump Processes Vectorized <a class=\"anchor\" id=\"secondb-bullet\"></a>"
   ]
  },
  {
   "cell_type": "code",
   "execution_count": null,
   "id": "a52f2066-5d9a-4bf9-9fd9-cfa683a7c722",
   "metadata": {},
   "outputs": [],
   "source": [
    "# Generate 'dim' no. of stock price process paths\n",
    "simulated_paths = mc_option_pricing.MertonJumpDiffusion_vec(α=-0.5,β=0.4)\n",
    "\n",
    "# plot stock price process\n",
    "plot_stock_price_simulations(mc_option_pricing.T, mc_option_pricing.n, simulated_paths, mc_option_pricing.dim)"
   ]
  },
  {
   "cell_type": "markdown",
   "id": "8873d900-cad6-4543-aa06-021e2bfdb020",
   "metadata": {},
   "source": [
    "## 3) Generate Constant Elasticity of Variance (CEV) Processes <a class=\"anchor\" id=\"third-bullet\"></a>"
   ]
  },
  {
   "cell_type": "code",
   "execution_count": null,
   "id": "1a9e7ad6-956d-4e96-b681-b2dbc6428da5",
   "metadata": {},
   "outputs": [],
   "source": [
    "# Generate 'dim' no. of stock price process paths\n",
    "simulated_paths = mc_option_pricing.CEV(γ=1.5)\n",
    "\n",
    "# plot stock price process\n",
    "plot_stock_price_simulations(mc_option_pricing.T, mc_option_pricing.n, simulated_paths, mc_option_pricing.dim)"
   ]
  },
  {
   "cell_type": "code",
   "execution_count": null,
   "id": "9c532d18-7bdb-462c-9a2f-6e445a14dbac",
   "metadata": {},
   "outputs": [],
   "source": []
  }
 ],
 "metadata": {
  "kernelspec": {
   "display_name": "Python 3 (ipykernel)",
   "language": "python",
   "name": "python3"
  },
  "language_info": {
   "codemirror_mode": {
    "name": "ipython",
    "version": 3
   },
   "file_extension": ".py",
   "mimetype": "text/x-python",
   "name": "python",
   "nbconvert_exporter": "python",
   "pygments_lexer": "ipython3",
   "version": "3.9.12"
  }
 },
 "nbformat": 4,
 "nbformat_minor": 5
}
