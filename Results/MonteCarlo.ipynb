{
 "cells": [
  {
   "cell_type": "markdown",
   "id": "9ff6f447-c718-4878-be2c-95cafbbc1a91",
   "metadata": {},
   "source": [
    "# Sample Paths"
   ]
  },
  {
   "cell_type": "code",
   "execution_count": 1,
   "id": "052439ee-3b32-4175-bc06-88b5383250fa",
   "metadata": {},
   "outputs": [],
   "source": [
    "import numpy as np\n",
    "import matplotlib.pyplot as plt\n",
    "from mpl_toolkits.mplot3d import Axes3D\n",
    "from scipy.interpolate import griddata\n",
    "import os\n",
    "\n",
    "# local\n",
    "from LSM import MonteCarloOptionPricing"
   ]
  },
  {
   "cell_type": "code",
   "execution_count": 2,
   "id": "7abf5e6f-e861-42b2-81bb-5135da42c0e0",
   "metadata": {},
   "outputs": [],
   "source": [
    "# Initialize instance from class\n",
    "mc_option_pricing = MonteCarloOptionPricing(r=0.06, S0=36., K=40., T=2., σ=0.2, dim=1_000, n=50, seed=150_000)"
   ]
  },
  {
   "cell_type": "code",
   "execution_count": null,
   "id": "1a9e7ad6-956d-4e96-b681-b2dbc6428da5",
   "metadata": {},
   "outputs": [],
   "source": [
    "# Generate 'dim' no. of stock price process paths\n",
    "#simulated_paths = mc_option_pricing.GeometricBrownianMotion()\n",
    "#simulated_paths = mc_option_pricing.GeometricBrownianMotion_vec()\n",
    "simulated_paths = mc_option_pricing.MertonJumpDiffusion(α=-0.5,β=0.4,λ=0.4)\n",
    "#simulated_paths = mc_option_pricing.MertonJumpDiffusion_vec(α=-0.5,β=0.4,λ=0.4)\n",
    "#simulated_paths = mc_option_pricing.CEV(γ=1.5)\n",
    "\n",
    "# plot stock price process\n",
    "mc_option_pricing.plot_paths() "
   ]
  }
 ],
 "metadata": {
  "kernelspec": {
   "display_name": "Python 3 (ipykernel)",
   "language": "python",
   "name": "python3"
  },
  "language_info": {
   "codemirror_mode": {
    "name": "ipython",
    "version": 3
   },
   "file_extension": ".py",
   "mimetype": "text/x-python",
   "name": "python",
   "nbconvert_exporter": "python",
   "pygments_lexer": "ipython3",
   "version": "3.9.12"
  }
 },
 "nbformat": 4,
 "nbformat_minor": 5
}
