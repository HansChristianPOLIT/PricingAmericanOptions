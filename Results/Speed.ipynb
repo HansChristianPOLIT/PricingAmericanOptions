{
 "cells": [
  {
   "cell_type": "markdown",
   "id": "3028ffa0-5a0e-4894-b417-12fc9b7540a8",
   "metadata": {},
   "source": [
    "# Speed of Dynamic Chebyshev"
   ]
  },
  {
   "cell_type": "markdown",
   "id": "ba26c931-3252-4cf8-93e3-49dbd89f7d15",
   "metadata": {},
   "source": [
    "## Table of Contents\n",
    "* [1) A Comparison with LSM](#first-bullet)\n",
    "    - [1a) DC](#firsta-bullet)\n",
    "    - [1b) LSM](#firstb-bullet)\n",
    "* [2) Increasing Number of Nodal Points](#second-bullet)"
   ]
  },
  {
   "cell_type": "markdown",
   "id": "3ab8b20a-bf7e-48e0-ad5d-d544d4c9c50f",
   "metadata": {},
   "source": [
    "## Setup"
   ]
  },
  {
   "cell_type": "code",
   "execution_count": 1,
   "id": "e6e0bb02-7ffc-41cf-8e9b-66f0ea563846",
   "metadata": {},
   "outputs": [],
   "source": [
    "import numpy as np\n",
    "import matplotlib.pyplot as plt\n",
    "import matplotlib.ticker as ticker\n",
    "from mpl_toolkits.mplot3d import Axes3D\n",
    "from scipy.interpolate import griddata\n",
    "import os\n",
    "import time\n",
    "import warnings\n",
    "\n",
    "\n",
    "# Global settings for LaTeX rendering\n",
    "plt.rcParams['text.usetex'] = True\n",
    "plt.rcParams['font.family'] = 'serif'\n",
    "plt.rcParams['mathtext.fontset'] = 'cm'\n",
    "\n",
    "# local\n",
    "from LSM import MonteCarloOptionPricing\n",
    "from DC import DynamicChebyshev"
   ]
  },
  {
   "cell_type": "markdown",
   "id": "f019c88c-4030-4513-8843-8f51b5f2ba57",
   "metadata": {},
   "source": [
    "## A Comparison with LSM <a class=\"anchor\" id=\"first-bullet\"></a>"
   ]
  },
  {
   "cell_type": "markdown",
   "id": "e959b080-790b-48de-90db-9ef1cc49ca5e",
   "metadata": {},
   "source": [
    "### DC <a class=\"anchor\" id=\"firsta-bullet\"></a>"
   ]
  },
  {
   "cell_type": "code",
   "execution_count": 2,
   "id": "8c0328cf-e036-408f-8c4e-b7d727d43812",
   "metadata": {},
   "outputs": [],
   "source": [
    "runtimes_offline = []\n",
    "runtimes_online = []\n",
    "\n",
    "# Define a range of strikes for the number of option\n",
    "total_time_offline = 0\n",
    "total_time_online = 0\n",
    "\n",
    "DC_option_pricing = DynamicChebyshev(r=0.03, S0=90., K=100., T=1., σ=0.25, λ=0.4, dim=100_000, n=32, n_chebyshev_pol=100, seed=15_001)\n",
    "# offline phase\n",
    "start_time_offline = time.time()\n",
    "domain = DC_option_pricing.calculate_truncated_domain_GBM()\n",
    "xknots = DC_option_pricing.calculate_nodal_points(domain)\n",
    "BS = DC_option_pricing.generate_GBM_path(xknots)\n",
    "Γ = DC_option_pricing.compute_generalized_moments(domain, xknots)\n",
    "end_time_offline = time.time()\n",
    "total_time_offline += end_time_offline - start_time_offline\n",
    "\n",
    "# online phase\n",
    "start_time_online = time.time()\n",
    "DC_price = DC_option_pricing.price_option_with_dynamic_chebyshev(xknots, Γ)\n",
    "end_time_online = time.time()\n",
    "total_time_online += end_time_online - start_time_online\n",
    "\n",
    "runtimes_offline.append(total_time_offline)\n",
    "runtimes_online.append(total_time_online)"
   ]
  },
  {
   "cell_type": "code",
   "execution_count": 3,
   "id": "3f20f330-5b35-4723-b3bd-50e8cbc70ee7",
   "metadata": {},
   "outputs": [
    {
     "data": {
      "text/plain": [
       "[0.0013890266418457031]"
      ]
     },
     "execution_count": 3,
     "metadata": {},
     "output_type": "execute_result"
    }
   ],
   "source": [
    "runtimes_online"
   ]
  },
  {
   "cell_type": "code",
   "execution_count": 4,
   "id": "df6c95c9-83e1-4f7d-a97b-06e83fb10094",
   "metadata": {},
   "outputs": [
    {
     "data": {
      "text/plain": [
       "[63.604697942733765]"
      ]
     },
     "execution_count": 4,
     "metadata": {},
     "output_type": "execute_result"
    }
   ],
   "source": [
    "runtimes_offline"
   ]
  },
  {
   "cell_type": "code",
   "execution_count": 2,
   "id": "7499701b-c963-4662-95f5-87e7e5ee9aa9",
   "metadata": {},
   "outputs": [
    {
     "name": "stdout",
     "output_type": "stream",
     "text": [
      "Total cumulative runtime for offline phase: 651.3668377399445\n",
      "Total cumulative runtime for online phase: 0.013289928436279297\n"
     ]
    }
   ],
   "source": [
    "# Initialize variables to store cumulative runtimes\n",
    "total_time_offline = 0\n",
    "total_time_online = 0\n",
    "\n",
    "# Run the simulation 10 times\n",
    "for _ in range(10):\n",
    "    DC_option_pricing = DynamicChebyshev(r=0.03, S0=90., K=100., T=1., σ=0.25, λ=0.4, dim=100_000, n=32, n_chebyshev_pol=100, seed=15_001)\n",
    "    # Offline phase\n",
    "    start_time_offline = time.time()\n",
    "    domain = DC_option_pricing.calculate_truncated_domain_GBM()\n",
    "    xknots = DC_option_pricing.calculate_nodal_points(domain)\n",
    "    BS = DC_option_pricing.generate_GBM_path(xknots)\n",
    "    Γ = DC_option_pricing.compute_generalized_moments(domain, xknots)\n",
    "    end_time_offline = time.time()\n",
    "    total_time_offline += end_time_offline - start_time_offline\n",
    "\n",
    "    # Online phase\n",
    "    start_time_online = time.time()\n",
    "    DC_price = DC_option_pricing.price_option_with_dynamic_chebyshev(xknots, Γ)\n",
    "    end_time_online = time.time()\n",
    "    total_time_online += end_time_online - start_time_online\n",
    "\n",
    "# Print the cumulative runtimes\n",
    "print(\"Total cumulative runtime for offline phase:\", total_time_offline)\n",
    "print(\"Total cumulative runtime for online phase:\", total_time_online)"
   ]
  },
  {
   "cell_type": "markdown",
   "id": "eb9fa986-217a-434b-92ff-d0174f87e97f",
   "metadata": {},
   "source": [
    "### 1b) LSM <a class=\"anchor\" id=\"firstb-bullet\"></a>"
   ]
  },
  {
   "cell_type": "code",
   "execution_count": 53,
   "id": "cd55fc50-f9f0-495b-b85f-34e398ada831",
   "metadata": {},
   "outputs": [],
   "source": [
    "# Suppress RankWarning\n",
    "warnings.filterwarnings('ignore', category=np.RankWarning) # due to poly overfit when using poly_degree > 10\n",
    "runtimes_LSM3 = []\n",
    "runtimes_LSM15 = []\n",
    "\n",
    "# Define a range of strikes for the number of options\n",
    "\n",
    "total_time_LSM3 = 0\n",
    "total_time_LSM15 = 0\n",
    "\n",
    "mc_option_pricing = MonteCarloOptionPricing(r=0.03, S0=90., K=100., T=1., σ=0.25, λ=0.4, dim=10_000, n=252, seed=15_001)\n",
    "\n",
    "# LSM for 3 basis functions\n",
    "start_time_LSM3 = time.time()\n",
    "simulated_paths = mc_option_pricing.GeometricBrownianMotion_vec() \n",
    "mc_option_pricing.american_option_LSM(poly_degree = 3, otype= 'put')\n",
    "end_time_LSM3 = time.time()\n",
    "total_time_LSM3 += end_time_LSM3 - start_time_LSM3\n",
    "\n",
    "# LSM for 15 basis functions\n",
    "start_time_LSM15 = time.time()\n",
    "simulated_paths = mc_option_pricing.GeometricBrownianMotion_vec() \n",
    "mc_option_pricing.american_option_LSM(poly_degree = 15, otype= 'put')\n",
    "end_time_LSM15 = time.time()\n",
    "total_time_LSM15 += end_time_LSM15 - start_time_LSM15\n",
    "\n",
    "runtimes_LSM3.append(total_time_LSM3)\n",
    "runtimes_LSM15.append(total_time_LSM15)"
   ]
  },
  {
   "cell_type": "code",
   "execution_count": 54,
   "id": "6845c287-b184-4a29-b814-a3fd5bdb561e",
   "metadata": {},
   "outputs": [
    {
     "data": {
      "text/plain": [
       "[0.5016312599182129]"
      ]
     },
     "execution_count": 54,
     "metadata": {},
     "output_type": "execute_result"
    }
   ],
   "source": [
    "runtimes_LSM3"
   ]
  },
  {
   "cell_type": "code",
   "execution_count": 55,
   "id": "37c45ed5-489d-4d7d-9afe-b5ee79b3a628",
   "metadata": {},
   "outputs": [
    {
     "data": {
      "text/plain": [
       "[0.8213160037994385]"
      ]
     },
     "execution_count": 55,
     "metadata": {},
     "output_type": "execute_result"
    }
   ],
   "source": [
    "runtimes_LSM15"
   ]
  },
  {
   "cell_type": "code",
   "execution_count": 22,
   "id": "a56f3a3e-29a6-4c80-b1ee-2e78587564b7",
   "metadata": {},
   "outputs": [
    {
     "name": "stdout",
     "output_type": "stream",
     "text": [
      "Total cumulative runtime for LSM with 3 basis functions: 5.4958884716033936\n",
      "Total cumulative runtime for LSM with 15 basis functions: 8.521041870117188\n"
     ]
    }
   ],
   "source": [
    "# Suppress RankWarning due to potential overfitting with high degree polynomials\n",
    "warnings.filterwarnings('ignore', category=np.RankWarning)\n",
    "\n",
    "# Initialize variables to store cumulative runtimes\n",
    "total_time_LSM3 = 0\n",
    "total_time_LSM15 = 0\n",
    "\n",
    "# Instance of the MonteCarloOptionPricing class\n",
    "mc_option_pricing = MonteCarloOptionPricing(r=0.03, S0=90., K=100., T=1., σ=0.25, λ=0.4, dim=10_000, n=252, seed=15_001)\n",
    "\n",
    "# Run the simulation 10 times\n",
    "for _ in range(10):\n",
    "    # LSM for 3 basis functions\n",
    "    start_time_LSM3 = time.time()\n",
    "    simulated_paths = mc_option_pricing.GeometricBrownianMotion_vec() \n",
    "    mc_option_pricing.american_option_LSM(poly_degree=3, otype='put')\n",
    "    end_time_LSM3 = time.time()\n",
    "    total_time_LSM3 += end_time_LSM3 - start_time_LSM3\n",
    "\n",
    "    # LSM for 15 basis functions\n",
    "    start_time_LSM15 = time.time()\n",
    "    simulated_paths = mc_option_pricing.GeometricBrownianMotion_vec() \n",
    "    mc_option_pricing.american_option_LSM(poly_degree=15, otype='put')\n",
    "    end_time_LSM15 = time.time()\n",
    "    total_time_LSM15 += end_time_LSM15 - start_time_LSM15\n",
    "\n",
    "# Print the cumulative runtimes\n",
    "print(\"Total cumulative runtime for LSM with 3 basis functions:\", total_time_LSM3)\n",
    "print(\"Total cumulative runtime for LSM with 15 basis functions:\", total_time_LSM15)"
   ]
  },
  {
   "cell_type": "markdown",
   "id": "3cc19f64-e6fa-4423-a676-0e994c396277",
   "metadata": {},
   "source": [
    "## Increasing Number of Nodal Points <a class=\"anchor\" id=\"second-bullet\"></a>"
   ]
  },
  {
   "cell_type": "code",
   "execution_count": 58,
   "id": "7d730f2c-4568-410c-97b8-b3c0bb058dd0",
   "metadata": {},
   "outputs": [
    {
     "name": "stdout",
     "output_type": "stream",
     "text": [
      "Offline phase runtimes: [0.6075127124786377, 3.4605109691619873, 14.149925708770752, 34.100123167037964, 60.684009075164795, 97.77113699913025, 146.81015610694885, 415.1864221096039]\n",
      "Online phase runtimes: [0.0006189346313476562, 0.0006690025329589844, 0.0007050037384033203, 0.0008258819580078125, 0.007149219512939453, 0.006079912185668945, 0.00935816764831543, 0.010871171951293945]\n"
     ]
    }
   ],
   "source": [
    "# List of different node counts\n",
    "node_counts = [10, 25, 50, 75, 100, 125, 150, 200]\n",
    "\n",
    "# Initialize lists to store runtimes for each node count\n",
    "runtimes_offline = []\n",
    "runtimes_online = []\n",
    "\n",
    "# Iterate over different node counts\n",
    "for n_chebyshev_pol in node_counts:\n",
    "    # Instance of the DynamicChebyshev class with varying number of nodes\n",
    "    DC_option_pricing = DynamicChebyshev(r=0.03, S0=90., K=100., T=1., σ=0.25, λ=0.4, dim=100_000, n=32, n_chebyshev_pol=n_chebyshev_pol, seed=15_001)\n",
    "\n",
    "    # Offline phase\n",
    "    start_time_offline = time.time()\n",
    "    domain = DC_option_pricing.calculate_truncated_domain_GBM()\n",
    "    xknots = DC_option_pricing.calculate_nodal_points(domain)\n",
    "    BS = DC_option_pricing.generate_GBM_path(xknots)\n",
    "    Γ = DC_option_pricing.compute_generalized_moments(domain, xknots)\n",
    "    end_time_offline = time.time()\n",
    "    runtime_offline = end_time_offline - start_time_offline\n",
    "\n",
    "    # Online phase\n",
    "    start_time_online = time.time()\n",
    "    DC_price = DC_option_pricing.price_option_with_dynamic_chebyshev(xknots, Γ)\n",
    "    end_time_online = time.time()\n",
    "    runtime_online = end_time_online - start_time_online\n",
    "\n",
    "    # Append the runtimes\n",
    "    runtimes_offline.append(runtime_offline)\n",
    "    runtimes_online.append(runtime_online)\n",
    "\n",
    "# Print the runtimes for each node count\n",
    "print(\"Offline phase runtimes:\", runtimes_offline)\n",
    "print(\"Online phase runtimes:\", runtimes_online)"
   ]
  },
  {
   "cell_type": "markdown",
   "id": "63259f5f-5e4a-4ff8-9053-9c826763635e",
   "metadata": {},
   "source": [
    "**Plot**"
   ]
  },
  {
   "cell_type": "code",
   "execution_count": 9,
   "id": "5df2930e-1876-4d89-a8fb-00c8742462c4",
   "metadata": {},
   "outputs": [],
   "source": [
    "runtimes_offline = [0.6075127124786377, 3.4605109691619873, 14.149925708770752, 34.100123167037964, 60.684009075164795, 97.77113699913025, 146.81015610694885, 415.1864221096039]\n",
    "runtimes_online = [0.0006189346313476562, 0.0006690025329589844, 0.0007050037384033203, 0.0008258819580078125, 0.007149219512939453, 0.006079912185668945, 0.00935816764831543, 0.010871171951293945]"
   ]
  },
  {
   "cell_type": "code",
   "execution_count": 13,
   "id": "2cad3479-67f1-42cf-a1e9-d3bcf57eeaf0",
   "metadata": {},
   "outputs": [
    {
     "data": {
      "image/png": "[encoded data removed]",
      "text/plain": [
       "<Figure size 1440x576 with 2 Axes>"
      ]
     },
     "metadata": {
      "needs_background": "light"
     },
     "output_type": "display_data"
    }
   ],
   "source": [
    "# The node counts and runtimes data (you should replace these with your actual data)\n",
    "node_counts = [10, 25, 50, 75, 100, 125, 150, 200]\n",
    "\n",
    "# Initialize figure with two subplots\n",
    "plt.figure(figsize=(20, 8))\n",
    "\n",
    "# First subplot for offline runtimes\n",
    "plt.subplot(1, 2, 1)\n",
    "plt.plot(node_counts, runtimes_offline, color='black', marker='s', label='Offline Phase Runtime')\n",
    "plt.xlabel('Number of Chebyshev Nodes, $N_{CN}$', fontsize=14)\n",
    "plt.ylabel('Run time (seconds)', fontsize=14)\n",
    "plt.title('A) Offline Phase - Run Time', size=18)\n",
    "plt.tick_params(axis='both', direction='in', length=6, width=1, colors='black', grid_alpha=0.5, labelsize=14)\n",
    "plt.grid(True)\n",
    "\n",
    "# Second subplot for online runtimes\n",
    "plt.subplot(1, 2, 2)\n",
    "plt.plot(node_counts, runtimes_online, color='red', marker='s', label='Online Phase Runtime')\n",
    "plt.xlabel('Number of Chebyshev Nodes, $N_{CN}$', fontsize=14)\n",
    "plt.ylabel('Run time (seconds)', fontsize=14)\n",
    "plt.title('B) Online Phase - Run Time', size=18)\n",
    "plt.tick_params(axis='both', direction='in', length=6, width=1, colors='black', grid_alpha=0.5, labelsize=14)\n",
    "plt.grid(True)\n",
    "\n",
    "plt.tight_layout()\n",
    "\n",
    "# Check for directory and save the figure\n",
    "output_directory = \"../Results/plots\"\n",
    "if not os.path.exists(output_directory):\n",
    "    os.makedirs(output_directory)\n",
    "\n",
    "plt.savefig(f\"{output_directory}/RuntimeAnalysis.pdf\", bbox_inches='tight')\n",
    "\n",
    "# Display the plot\n",
    "plt.show()"
   ]
  },
  {
   "cell_type": "code",
   "execution_count": null,
   "id": "a32beff6-c821-4075-8d37-30993e398039",
   "metadata": {},
   "outputs": [],
   "source": []
  }
 ],
 "metadata": {
  "kernelspec": {
   "display_name": "Python 3 (ipykernel)",
   "language": "python",
   "name": "python3"
  },
  "language_info": {
   "codemirror_mode": {
    "name": "ipython",
    "version": 3
   },
   "file_extension": ".py",
   "mimetype": "text/x-python",
   "name": "python",
   "nbconvert_exporter": "python",
   "pygments_lexer": "ipython3",
   "version": "3.9.12"
  }
 },
 "nbformat": 4,
 "nbformat_minor": 5
}
