{
 "cells": [
  {
   "cell_type": "markdown",
   "id": "d7942cf2-db0c-43b7-aae4-8fa13ace1d50",
   "metadata": {},
   "source": [
    "# Results"
   ]
  },
  {
   "cell_type": "markdown",
   "id": "c0f439b3-c597-4134-be53-17bbc188f66d",
   "metadata": {},
   "source": [
    "## Table of Contents\n",
    "* [1)*American Put Prices* Applying Least-Square Monte Carlo with Longstaff-Schwartz Parameters](#first-bullet)\n",
    "    - [1a) Black-Scholes (*Akin to Table 1 in Longstaff-Schwartz*)](#firsta-bullet)\n",
    "    - [1b) Jump Merton](#firstb-bullet)\n",
    "    - [1c) Constant Elasticity of Variance (CEV)](#firstc-bullet)\n",
    "* [2) *American Put Prices* Applying Least-Square Monte Carlo with Our Own Parameter Values](#second-bullet)\n",
    "    - [2a) Black-Scholes](#seconda-bullet)\n",
    "    - [2b) Jump Merton](#secondb-bullet)\n",
    "    - [2c) Constant Elasticity of Variance (CEV)](#secondc-bullet)"
   ]
  },
  {
   "cell_type": "markdown",
   "id": "dd33b3a8-0512-469a-9109-eae22e4e2935",
   "metadata": {},
   "source": [
    "## Setup"
   ]
  },
  {
   "cell_type": "code",
   "execution_count": 1,
   "id": "e6fa62cb-125b-470c-adf6-1a8906847242",
   "metadata": {},
   "outputs": [],
   "source": [
    "%load_ext autoreload\n",
    "%autoreload 2\n",
    "\n",
    "import numpy as np\n",
    "import matplotlib.pyplot as plt\n",
    "import os\n",
    "\n",
    "# local\n",
    "from LSM import MonteCarloOptionPricing\n",
    "from FD import AmericanPutFiniteDifference"
   ]
  },
  {
   "cell_type": "markdown",
   "id": "a3781ed2-6b66-4db7-94f6-862c8ba88125",
   "metadata": {},
   "source": [
    "## 1) *American Put Prices* Applying Least-Square Monte Carlo with Longstaff-Schwartz Parameters <a class=\"anchor\" id=\"first-bullet\"></a>\n",
    "The simulation is based on 100,000 (50,000 plus 50,000 antithetic) paths for the stock price."
   ]
  },
  {
   "cell_type": "code",
   "execution_count": 2,
   "id": "020ce567-efde-48d0-8c61-0b34d4c81223",
   "metadata": {},
   "outputs": [],
   "source": [
    "# Parameter inputs\n",
    "r = 0.06  # risk-free rate\n",
    "K = 40.   # strike price\n",
    "λ = 0.4 # intensity rate of the Poisson process\n",
    "dim = 100_000  # number of simulation paths\n",
    "n = 50  # number of exercise rights per year\n",
    "seed = 15001  # random seed for reproducibility\n",
    "use_AV = True  # antithetic variates\n",
    "poly_degree = 3  # polynomial degree for LSM regression"
   ]
  },
  {
   "cell_type": "code",
   "execution_count": 3,
   "id": "d4eac0d9-3285-4060-a307-7c2095da3979",
   "metadata": {},
   "outputs": [],
   "source": [
    "# Varying option parameters\n",
    "S0_values = [36, 38, 40, 42, 44]\n",
    "σ_values = [0.20, 0.40]\n",
    "T_values = [1, 2]"
   ]
  },
  {
   "cell_type": "markdown",
   "id": "9993aa54-7826-43d7-a446-29b30807ff7d",
   "metadata": {},
   "source": [
    "### 1a) Black-Scholes (*Akin to Table 1 in Longstaff-Schwartz*) <a class=\"anchor\" id=\"firsta-bullet\"></a>\n"
   ]
  },
  {
   "cell_type": "code",
   "execution_count": 4,
   "id": "7cdebacf-b9f7-4c10-bb4e-9dd3bfcb4aa6",
   "metadata": {},
   "outputs": [
    {
     "name": "stdout",
     "output_type": "stream",
     "text": [
      "S0/Sigma/T: 36/0.2/1, European Put: 3.8443, American Put Option: 4.4720, Premium: 0.6277\n",
      "S0/Sigma/T: 36/0.2/2, European Put: 3.7630, American Put Option: 4.8259, Premium: 1.0629\n",
      "S0/Sigma/T: 36/0.4/1, European Put: 6.7114, American Put Option: 7.0751, Premium: 0.3637\n",
      "S0/Sigma/T: 36/0.4/2, European Put: 7.7000, American Put Option: 8.4595, Premium: 0.7594\n",
      "S0/Sigma/T: 38/0.2/1, European Put: 2.8519, American Put Option: 3.2400, Premium: 0.3881\n",
      "S0/Sigma/T: 38/0.2/2, European Put: 2.9906, American Put Option: 3.7267, Premium: 0.7361\n",
      "S0/Sigma/T: 38/0.4/1, European Put: 5.8343, American Put Option: 6.1222, Premium: 0.2879\n",
      "S0/Sigma/T: 38/0.4/2, European Put: 6.9788, American Put Option: 7.6295, Premium: 0.6507\n",
      "S0/Sigma/T: 40/0.2/1, European Put: 2.0664, American Put Option: 2.3049, Premium: 0.2385\n",
      "S0/Sigma/T: 40/0.2/2, European Put: 2.3559, American Put Option: 2.8727, Premium: 0.5168\n",
      "S0/Sigma/T: 40/0.4/1, European Put: 5.0596, American Put Option: 5.2752, Premium: 0.2155\n",
      "S0/Sigma/T: 40/0.4/2, European Put: 6.3260, American Put Option: 6.8784, Premium: 0.5524\n",
      "S0/Sigma/T: 42/0.2/1, European Put: 1.4645, American Put Option: 1.6036, Premium: 0.1391\n",
      "S0/Sigma/T: 42/0.2/2, European Put: 1.8414, American Put Option: 2.1992, Premium: 0.3578\n",
      "S0/Sigma/T: 42/0.4/1, European Put: 4.3787, American Put Option: 4.5470, Premium: 0.1683\n",
      "S0/Sigma/T: 42/0.4/2, European Put: 5.7356, American Put Option: 6.1980, Premium: 0.4624\n",
      "S0/Sigma/T: 44/0.2/1, European Put: 1.0169, American Put Option: 1.0945, Premium: 0.0776\n",
      "S0/Sigma/T: 44/0.2/2, European Put: 1.4292, American Put Option: 1.6688, Premium: 0.2396\n",
      "S0/Sigma/T: 44/0.4/1, European Put: 3.7828, American Put Option: 3.9050, Premium: 0.1222\n",
      "S0/Sigma/T: 44/0.4/2, European Put: 5.2020, American Put Option: 5.5882, Premium: 0.3862\n"
     ]
    }
   ],
   "source": [
    "# Store results\n",
    "Option_Pricing_Results_BS = []\n",
    "\n",
    "# Iterate over each combination of S, sigma, and T\n",
    "for S0 in S0_values:\n",
    "    for σ in σ_values:\n",
    "        for T in T_values:\n",
    "            # Create instance from class\n",
    "            MC_Option_Pricing_BS = MonteCarloOptionPricing(r, S0, K, T, σ, λ, dim, n, seed, use_AV)\n",
    "            \n",
    "            # 1) Calculate European Put using Black-Scholes\n",
    "            BS_Price = MC_Option_Pricing_BS.BS_option_value('put')\n",
    "            \n",
    "            # 2) Compute American Put using LSM\n",
    "            MC_Option_Pricing_BS.GeometricBrownianMotion_vec() # simulate GBM paths\n",
    "            American_put_price = MC_Option_Pricing_BS.american_option_LSM(poly_degree, otype='put') # price option\n",
    "            \n",
    "            # 3) Calculate premium\n",
    "            Option_Premium = American_put_price[0] - BS_Price \n",
    "            \n",
    "            # 4) Store the results\n",
    "            Option_Pricing_Results_BS.append((S0, σ, T, BS_Price, American_put_price, Option_Premium))\n",
    "            \n",
    "            # Print\n",
    "            print(f'S0/Sigma/T: {S0}/{σ}/{T}, European Put: {BS_Price:.4f}, American Put Option: {American_put_price[0]:.4f}, Premium: {Option_Premium:.4f}')"
   ]
  },
  {
   "cell_type": "markdown",
   "id": "e10d8ccf-2158-431a-8dbf-21a6c1959911",
   "metadata": {},
   "source": [
    "### 1b) Jump Merton <a class=\"anchor\" id=\"firstb-bullet\"></a>"
   ]
  },
  {
   "cell_type": "code",
   "execution_count": 5,
   "id": "143eafe4-164a-4137-90c1-55dab4e11609",
   "metadata": {},
   "outputs": [],
   "source": [
    "λ = 0.4 # intensity rate of the Poisson process\n",
    "α = -0.5 # Mean of log-normal jump size\n",
    "β = 0.4 # Volatility of log-normal jump size"
   ]
  },
  {
   "cell_type": "code",
   "execution_count": 6,
   "id": "08f1a1fa-19f7-4531-a217-841909be7027",
   "metadata": {},
   "outputs": [
    {
     "name": "stdout",
     "output_type": "stream",
     "text": [
      "S0/Sigma/T: 36/0.2/1, European Put: 5.7636, American Put Option: 6.0735, Premium: 0.3099\n",
      "S0/Sigma/T: 36/0.2/2, European Put: 7.1273, American Put Option: 8.0148, Premium: 0.8875\n",
      "S0/Sigma/T: 36/0.4/1, European Put: 8.0853, American Put Option: 8.3795, Premium: 0.2942\n",
      "S0/Sigma/T: 36/0.4/2, European Put: 9.8050, American Put Option: 10.6486, Premium: 0.8435\n",
      "S0/Sigma/T: 38/0.2/1, European Put: 5.0684, American Put Option: 5.2855, Premium: 0.2171\n",
      "S0/Sigma/T: 38/0.2/2, European Put: 6.5609, American Put Option: 7.3615, Premium: 0.8005\n",
      "S0/Sigma/T: 38/0.4/1, European Put: 7.3232, American Put Option: 7.5697, Premium: 0.2464\n",
      "S0/Sigma/T: 38/0.4/2, European Put: 9.1839, American Put Option: 9.9464, Premium: 0.7625\n",
      "S0/Sigma/T: 40/0.2/1, European Put: 4.5068, American Put Option: 4.6781, Premium: 0.1713\n",
      "S0/Sigma/T: 40/0.2/2, European Put: 6.0619, American Put Option: 6.7859, Premium: 0.7241\n",
      "S0/Sigma/T: 40/0.4/1, European Put: 6.6461, American Put Option: 6.8395, Premium: 0.1934\n",
      "S0/Sigma/T: 40/0.4/2, European Put: 8.6154, American Put Option: 9.3051, Premium: 0.6896\n",
      "S0/Sigma/T: 42/0.2/1, European Put: 4.0494, American Put Option: 4.1951, Premium: 0.1458\n",
      "S0/Sigma/T: 42/0.2/2, European Put: 5.6189, American Put Option: 6.2728, Premium: 0.6539\n",
      "S0/Sigma/T: 42/0.4/1, European Put: 6.0448, American Put Option: 6.1989, Premium: 0.1541\n",
      "S0/Sigma/T: 42/0.4/2, European Put: 8.0946, American Put Option: 8.7170, Premium: 0.6224\n",
      "S0/Sigma/T: 44/0.2/1, European Put: 3.6710, American Put Option: 3.8027, Premium: 0.1316\n",
      "S0/Sigma/T: 44/0.2/2, European Put: 5.2229, American Put Option: 5.8230, Premium: 0.6001\n",
      "S0/Sigma/T: 44/0.4/1, European Put: 5.5109, American Put Option: 5.6392, Premium: 0.1283\n",
      "S0/Sigma/T: 44/0.4/2, European Put: 7.6165, American Put Option: 8.1907, Premium: 0.5741\n"
     ]
    }
   ],
   "source": [
    "# Store results\n",
    "Option_Pricing_Results_JM = []\n",
    "\n",
    "# Iterate over each combination of S, sigma, and T\n",
    "for S0 in S0_values:\n",
    "    for σ in σ_values:\n",
    "        for T in T_values:\n",
    "            # Create instance from class\n",
    "            MC_Option_Pricing_JM = MonteCarloOptionPricing(r, S0, K, T, σ, λ, dim, n, seed, use_AV)\n",
    "            \n",
    "            # 1) Calculate European Put using Jump Merton semi-closed solution\n",
    "            JumpMerton_price = MC_Option_Pricing_JM.merton_jump_option_value(α, β)\n",
    "            \n",
    "            # 2) Compute American Put using LSM\n",
    "            MC_Option_Pricing_JM.MertonJumpDiffusion_vec(α, β) # simulate jump paths\n",
    "            American_put_price = MC_Option_Pricing_JM.american_option_LSM(poly_degree, otype='put') # price option\n",
    "            \n",
    "            # 3) Calculate premium\n",
    "            Option_Premium = American_put_price[0] - JumpMerton_price \n",
    "            \n",
    "            # 4) Store the results\n",
    "            Option_Pricing_Results_JM.append((S0, σ, T, JumpMerton_price, American_put_price, Option_Premium))\n",
    "            \n",
    "            # Print\n",
    "            print(f'S0/Sigma/T: {S0}/{σ}/{T}, European Put: {JumpMerton_price:.4f}, American Put Option: {American_put_price[0]:.4f}, Premium: {Option_Premium:.4f}')"
   ]
  },
  {
   "cell_type": "markdown",
   "id": "3bc0d3de-84d3-4cb8-9977-ebc3c611080b",
   "metadata": {},
   "source": [
    "### 1c) Constant Elasticity of Variance (CEV) <a class=\"anchor\" id=\"firstc-bullet\"></a>"
   ]
  },
  {
   "cell_type": "code",
   "execution_count": 7,
   "id": "3d4de9fe-9989-4fb5-a13b-8fa32d0269b0",
   "metadata": {},
   "outputs": [],
   "source": [
    "γ = 1.5 # parameter governing elasticity with respect to price, if set = 2 then we obtain BS prices"
   ]
  },
  {
   "cell_type": "code",
   "execution_count": 8,
   "id": "8cecbcf9-0b08-4a67-9606-e8d428240299",
   "metadata": {},
   "outputs": [
    {
     "name": "stdout",
     "output_type": "stream",
     "text": [
      "S0/Sigma/T: 36/0.2/1, American Put Option: 3.9521\n",
      "S0/Sigma/T: 36/0.2/2, American Put Option: 3.9042\n",
      "S0/Sigma/T: 36/0.4/1, American Put Option: 4.0976\n",
      "S0/Sigma/T: 36/0.4/2, American Put Option: 4.2488\n",
      "S0/Sigma/T: 38/0.2/1, American Put Option: 1.9581\n",
      "S0/Sigma/T: 38/0.2/2, American Put Option: 1.9365\n",
      "S0/Sigma/T: 38/0.4/1, American Put Option: 2.6965\n",
      "S0/Sigma/T: 38/0.4/2, American Put Option: 2.9877\n",
      "S0/Sigma/T: 40/0.2/1, American Put Option: 0.6200\n",
      "S0/Sigma/T: 40/0.2/2, American Put Option: 0.6864\n",
      "S0/Sigma/T: 40/0.4/1, American Put Option: 1.7071\n",
      "S0/Sigma/T: 40/0.4/2, American Put Option: 2.0702\n",
      "S0/Sigma/T: 42/0.2/1, American Put Option: 0.1616\n",
      "S0/Sigma/T: 42/0.2/2, American Put Option: 0.2268\n",
      "S0/Sigma/T: 42/0.4/1, American Put Option: 1.0298\n",
      "S0/Sigma/T: 42/0.4/2, American Put Option: 1.4140\n",
      "S0/Sigma/T: 44/0.2/1, American Put Option: 0.0356\n",
      "S0/Sigma/T: 44/0.2/2, American Put Option: 0.0714\n",
      "S0/Sigma/T: 44/0.4/1, American Put Option: 0.5994\n",
      "S0/Sigma/T: 44/0.4/2, American Put Option: 0.9461\n"
     ]
    }
   ],
   "source": [
    "# Store results\n",
    "Option_Pricing_Results_CEV = []\n",
    "\n",
    "# Iterate over each combination of S, sigma, and T\n",
    "for S0 in S0_values:\n",
    "    for σ in σ_values:\n",
    "        for T in T_values:\n",
    "            # Create instance from class\n",
    "            MC_Option_Pricing_CEV = MonteCarloOptionPricing(r, S0, K, T, σ, λ, dim, n, seed, use_AV)\n",
    "            \n",
    "            # 1) Compute American Put using LSM\n",
    "            MC_Option_Pricing_CEV.CEV(γ) # simulate CEV paths\n",
    "            American_put_price = MC_Option_Pricing_CEV.american_option_LSM(poly_degree, otype='put') # price option\n",
    "            \n",
    "            # 2) Store the results\n",
    "            Option_Pricing_Results_CEV.append((S0, σ, T, American_put_price))\n",
    "            \n",
    "            # Print\n",
    "            print(f'S0/Sigma/T: {S0}/{σ}/{T}, American Put Option: {American_put_price[0]:.4f}')"
   ]
  },
  {
   "cell_type": "markdown",
   "id": "8609c565-7d30-4b32-8132-d81fa9b11e98",
   "metadata": {},
   "source": [
    "## 2) *American Put Prices* Applying Least-Square Monte Carlo with Our Own Parameter Values <a class=\"anchor\" id=\"second-bullet\"></a>\n",
    "The simulation is based on 100,000 (50,000 plus 50,000 antithetic) paths for the stock price."
   ]
  },
  {
   "cell_type": "code",
   "execution_count": 9,
   "id": "febfde22-9651-41a6-94c5-c134d2c93dd0",
   "metadata": {},
   "outputs": [],
   "source": [
    "# Parameter inputs\n",
    "r = 0.04  # risk-free rate\n",
    "K = 100.   # strike price\n",
    "λ = 0.4 # intensity rate of the Poisson process\n",
    "dim = 100_000  # number of simulation paths\n",
    "n = 50  # number of exercise rights per year\n",
    "seed = 15001  # random seed for reproducibility\n",
    "use_AV = True  # antithetic variates\n",
    "poly_degree = 3  # polynomial degree for LSM regression"
   ]
  },
  {
   "cell_type": "code",
   "execution_count": 10,
   "id": "d884a001-f571-4cf1-a7d6-e507f6cf7a0c",
   "metadata": {},
   "outputs": [],
   "source": [
    "# Option parameters\n",
    "S0_values = [90, 95, 100, 105, 110]\n",
    "σ_values = [0.20, 0.40]\n",
    "T_values = [1, 2]"
   ]
  },
  {
   "cell_type": "markdown",
   "id": "485aa59c-67e1-43de-bd43-db3956744c26",
   "metadata": {
    "tags": []
   },
   "source": [
    "## 2a) Black-Scholes <a class=\"anchor\" id=\"seconda-bullet\"></a>"
   ]
  },
  {
   "cell_type": "code",
   "execution_count": 11,
   "id": "194f6a7f-95e5-4a78-9221-5b0499075c35",
   "metadata": {},
   "outputs": [
    {
     "name": "stdout",
     "output_type": "stream",
     "text": [
      "S0/Sigma/T: 90/0.2/1, European Put: 10.8414, American Put Option: 11.7552, Premium: 0.9138\n",
      "S0/Sigma/T: 90/0.2/2, European Put: 11.4484, American Put Option: 13.0895, Premium: 1.6411\n",
      "S0/Sigma/T: 90/0.4/1, European Put: 17.9818, American Put Option: 18.4854, Premium: 0.5036\n",
      "S0/Sigma/T: 90/0.4/2, European Put: 21.4763, American Put Option: 22.6126, Premium: 1.1363\n",
      "S0/Sigma/T: 95/0.2/1, European Put: 8.1618, American Put Option: 8.7427, Premium: 0.5809\n",
      "S0/Sigma/T: 95/0.2/2, European Put: 9.2425, American Put Option: 10.3973, Premium: 1.1548\n",
      "S0/Sigma/T: 95/0.4/1, European Put: 15.6903, American Put Option: 16.0652, Premium: 0.3749\n",
      "S0/Sigma/T: 95/0.4/2, European Put: 19.5394, American Put Option: 20.5113, Premium: 0.9720\n",
      "S0/Sigma/T: 100/0.2/1, European Put: 6.0040, American Put Option: 6.3504, Premium: 0.3464\n",
      "S0/Sigma/T: 100/0.2/2, European Put: 7.3963, American Put Option: 8.2211, Premium: 0.8248\n",
      "S0/Sigma/T: 100/0.4/1, European Put: 13.6572, American Put Option: 13.9399, Premium: 0.2827\n",
      "S0/Sigma/T: 100/0.4/2, European Put: 17.7780, American Put Option: 18.5763, Premium: 0.7983\n",
      "S0/Sigma/T: 105/0.2/1, European Put: 4.3213, American Put Option: 4.5206, Premium: 0.1993\n",
      "S0/Sigma/T: 105/0.2/2, European Put: 5.8722, American Put Option: 6.4477, Premium: 0.5755\n",
      "S0/Sigma/T: 105/0.4/1, European Put: 11.8625, American Put Option: 12.0817, Premium: 0.2192\n",
      "S0/Sigma/T: 105/0.4/2, European Put: 16.1778, American Put Option: 16.8341, Premium: 0.6563\n",
      "S0/Sigma/T: 110/0.2/1, European Put: 3.0476, American Put Option: 3.1602, Premium: 0.1126\n",
      "S0/Sigma/T: 110/0.2/2, European Put: 4.6292, American Put Option: 5.0178, Premium: 0.3886\n",
      "S0/Sigma/T: 110/0.4/1, European Put: 10.2849, American Put Option: 10.4279, Premium: 0.1430\n",
      "S0/Sigma/T: 110/0.4/2, European Put: 14.7251, American Put Option: 15.3015, Premium: 0.5764\n"
     ]
    }
   ],
   "source": [
    "# Store results\n",
    "Results_BS = []\n",
    "\n",
    "# Iterate over each combination of S, sigma, and T\n",
    "for S0 in S0_values:\n",
    "    for σ in σ_values:\n",
    "        for T in T_values:\n",
    "            # Create instance from class\n",
    "            MC_Option_Pricing_BS = MonteCarloOptionPricing(r, S0, K, T, σ, λ, dim, n, seed, use_AV)\n",
    "            \n",
    "            # 1) Calculate European Put using Black-Scholes\n",
    "            BS_Price = MC_Option_Pricing_BS.BS_option_value('put')\n",
    "            \n",
    "            # 2) Compute American Put using LSM\n",
    "            MC_Option_Pricing_BS.GeometricBrownianMotion_vec() # simulate GBM paths\n",
    "            American_put_price = MC_Option_Pricing_BS.american_option_LSM(poly_degree, otype='put') # price option\n",
    "            \n",
    "            # 3) Calculate premium\n",
    "            Option_Premium = American_put_price[0] - BS_Price \n",
    "            \n",
    "            # 4) Store the results\n",
    "            Results_BS.append((S0, σ, T, BS_Price, American_put_price, Option_Premium))\n",
    "            \n",
    "            # Print\n",
    "            print(f'S0/Sigma/T: {S0}/{σ}/{T}, European Put: {BS_Price:.4f}, American Put Option: {American_put_price[0]:.4f}, Premium: {Option_Premium:.4f}')"
   ]
  },
  {
   "cell_type": "markdown",
   "id": "a0517fe5-dc35-44b4-87ed-21535ee87cc1",
   "metadata": {},
   "source": [
    "## 2b) Jump Merton <a class=\"anchor\" id=\"secondb-bullet\"></a>"
   ]
  },
  {
   "cell_type": "code",
   "execution_count": 12,
   "id": "a2269dfc-5467-45ef-bff6-0457b1bb14d2",
   "metadata": {},
   "outputs": [],
   "source": [
    "λ = 0.4 # intensity rate of the Poisson process\n",
    "α = -0.5 # Mean of log-normal jump size\n",
    "β = 0.4 # Volatility of log-normal jump size"
   ]
  },
  {
   "cell_type": "code",
   "execution_count": 13,
   "id": "8334d63d-c3fa-408c-8531-30de51300835",
   "metadata": {},
   "outputs": [
    {
     "name": "stdout",
     "output_type": "stream",
     "text": [
      "S0/Sigma/T: 90/0.2/1, European Put: 15.4293, American Put Option: 15.7966, Premium: 0.3673\n",
      "S0/Sigma/T: 90/0.2/2, European Put: 19.7099, American Put Option: 21.1163, Premium: 1.4064\n",
      "S0/Sigma/T: 90/0.4/1, European Put: 21.3713, American Put Option: 21.7120, Premium: 0.3407\n",
      "S0/Sigma/T: 90/0.4/2, European Put: 26.7443, American Put Option: 28.0151, Premium: 1.2708\n",
      "S0/Sigma/T: 95/0.2/1, European Put: 13.5498, American Put Option: 13.7760, Premium: 0.2262\n",
      "S0/Sigma/T: 95/0.2/2, European Put: 18.1511, American Put Option: 19.4070, Premium: 1.2558\n",
      "S0/Sigma/T: 95/0.4/1, European Put: 19.3825, American Put Option: 19.6271, Premium: 0.2446\n",
      "S0/Sigma/T: 95/0.4/2, European Put: 25.0869, American Put Option: 26.2253, Premium: 1.1384\n",
      "S0/Sigma/T: 100/0.2/1, European Put: 12.0261, American Put Option: 12.1877, Premium: 0.1616\n",
      "S0/Sigma/T: 100/0.2/2, European Put: 16.7778, American Put Option: 17.8976, Premium: 1.1198\n",
      "S0/Sigma/T: 100/0.4/1, European Put: 17.6104, American Put Option: 17.7853, Premium: 0.1748\n",
      "S0/Sigma/T: 100/0.4/2, European Put: 23.5664, American Put Option: 24.5869, Premium: 1.0206\n",
      "S0/Sigma/T: 105/0.2/1, European Put: 10.7852, American Put Option: 10.9131, Premium: 0.1279\n",
      "S0/Sigma/T: 105/0.2/2, European Put: 15.5598, American Put Option: 16.5698, Premium: 1.0100\n",
      "S0/Sigma/T: 105/0.4/1, European Put: 16.0329, American Put Option: 16.1512, Premium: 0.1183\n",
      "S0/Sigma/T: 105/0.4/2, European Put: 22.1697, American Put Option: 23.1194, Premium: 0.9498\n",
      "S0/Sigma/T: 110/0.2/1, European Put: 9.7621, American Put Option: 9.8585, Premium: 0.0964\n",
      "S0/Sigma/T: 110/0.2/2, European Put: 14.4721, American Put Option: 15.3760, Premium: 0.9039\n",
      "S0/Sigma/T: 110/0.4/1, European Put: 14.6290, American Put Option: 14.7114, Premium: 0.0824\n",
      "S0/Sigma/T: 110/0.4/2, European Put: 20.8850, American Put Option: 21.7420, Premium: 0.8570\n"
     ]
    }
   ],
   "source": [
    "# Store results\n",
    "Results_JM = []\n",
    "\n",
    "# Iterate over each combination of S, sigma, and T\n",
    "for S0 in S0_values:\n",
    "    for σ in σ_values:\n",
    "        for T in T_values:\n",
    "            # Create instance from class\n",
    "            MC_Option_Pricing_JM = MonteCarloOptionPricing(r, S0, K, T, σ, λ, dim, n, seed, use_AV)\n",
    "            \n",
    "            # 1) Calculate European Put using Jump Merton semi-closed solution\n",
    "            JumpMerton_price = MC_Option_Pricing_JM.merton_jump_option_value(α, β)\n",
    "            \n",
    "            # 2) Compute American Put using LSM\n",
    "            MC_Option_Pricing_JM.MertonJumpDiffusion_vec(α, β) # simulate jump paths\n",
    "            American_put_price = MC_Option_Pricing_JM.american_option_LSM(poly_degree, otype='put') # price option\n",
    "            \n",
    "            # 3) Calculate premium\n",
    "            Option_Premium = American_put_price[0] - JumpMerton_price \n",
    "            \n",
    "            # 4) Store the results\n",
    "            Results_JM.append((S0, σ, T, JumpMerton_price, American_put_price, Option_Premium))\n",
    "            \n",
    "            # Print\n",
    "            print(f'S0/Sigma/T: {S0}/{σ}/{T}, European Put: {JumpMerton_price:.4f}, American Put Option: {American_put_price[0]:.4f}, Premium: {Option_Premium:.4f}')"
   ]
  },
  {
   "cell_type": "markdown",
   "id": "1d15eb99-b47d-44c8-95e5-8d3eeb9c32c7",
   "metadata": {},
   "source": [
    "## 2c) Constant Elasticity of Variance (CEV) <a class=\"anchor\" id=\"secondc-bullet\"></a>"
   ]
  },
  {
   "cell_type": "code",
   "execution_count": 14,
   "id": "40e6eae9-a0a2-4a7d-b0f7-5d96c45aece6",
   "metadata": {},
   "outputs": [],
   "source": [
    "γ = 1.5 # parameter governing elasticity with respect to price, if set = 2 then we obtain BS prices"
   ]
  },
  {
   "cell_type": "code",
   "execution_count": null,
   "id": "e136eac5-1669-4757-acca-c2189cb9c092",
   "metadata": {},
   "outputs": [
    {
     "name": "stdout",
     "output_type": "stream",
     "text": [
      "S0/Sigma/T: 90/0.2/1, American Put Option: 9.9201\n",
      "S0/Sigma/T: 90/0.2/2, American Put Option: 9.8402\n",
      "S0/Sigma/T: 90/0.4/1, American Put Option: 10.0503\n",
      "S0/Sigma/T: 90/0.4/2, American Put Option: 10.2995\n",
      "S0/Sigma/T: 95/0.2/1, American Put Option: 4.9222\n",
      "S0/Sigma/T: 95/0.2/2, American Put Option: 4.8630\n",
      "S0/Sigma/T: 95/0.4/1, American Put Option: 6.2244\n",
      "S0/Sigma/T: 95/0.4/2, American Put Option: 6.8937\n",
      "S0/Sigma/T: 100/0.2/1, American Put Option: 1.3677\n",
      "S0/Sigma/T: 100/0.2/2, American Put Option: 1.5591\n",
      "S0/Sigma/T: 100/0.4/1, American Put Option: 3.6065\n",
      "S0/Sigma/T: 100/0.4/2, American Put Option: 4.4842\n"
     ]
    }
   ],
   "source": [
    "# Store results\n",
    "Results_CEV = []\n",
    "\n",
    "# Iterate over each combination of S, sigma, and T\n",
    "for S0 in S0_values:\n",
    "    for σ in σ_values:\n",
    "        for T in T_values:\n",
    "            # Create instance from class\n",
    "            MC_Option_Pricing_CEV = MonteCarloOptionPricing(r, S0, K, T, σ, λ, dim, n, seed, use_AV)\n",
    "            \n",
    "            # 1) Compute American Put using LSM\n",
    "            MC_Option_Pricing_CEV.CEV(γ) # simulate CEV paths\n",
    "            American_put_price = MC_Option_Pricing_CEV.american_option_LSM(poly_degree, otype='put') # price option\n",
    "            \n",
    "            # 2) Store the results\n",
    "            Results_CEV.append((S0, σ, T, American_put_price))\n",
    "            \n",
    "            # Print\n",
    "            print(f'S0/Sigma/T: {S0}/{σ}/{T}, American Put Option: {American_put_price[0]:.4f}')"
   ]
  }
 ],
 "metadata": {
  "kernelspec": {
   "display_name": "Python 3 (ipykernel)",
   "language": "python",
   "name": "python3"
  },
  "language_info": {
   "codemirror_mode": {
    "name": "ipython",
    "version": 3
   },
   "file_extension": ".py",
   "mimetype": "text/x-python",
   "name": "python",
   "nbconvert_exporter": "python",
   "pygments_lexer": "ipython3",
   "version": "3.9.12"
  }
 },
 "nbformat": 4,
 "nbformat_minor": 5
}
