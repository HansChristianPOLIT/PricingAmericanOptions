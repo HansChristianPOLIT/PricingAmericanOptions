{
 "cells": [
  {
   "cell_type": "markdown",
   "id": "d7942cf2-db0c-43b7-aae4-8fa13ace1d50",
   "metadata": {},
   "source": [
    "# Results"
   ]
  },
  {
   "cell_type": "markdown",
   "id": "c0f439b3-c597-4134-be53-17bbc188f66d",
   "metadata": {},
   "source": [
    "## Table of Contents\n",
    "1. [Definint MonteCarloOptionPricing Class](#Introduction)\n",
    "2. [Producing *American put prices* similar to *Simulated American* in table 1 in Longstaff.\n",
    " (to ensure correct implmenetation)-](#Data-Loading-and-Preparation)\n",
    "3. [Finite Difference results (benchmark for analysis)](#Exploratory-Data-Analysis)"
   ]
  },
  {
   "cell_type": "markdown",
   "id": "dd33b3a8-0512-469a-9109-eae22e4e2935",
   "metadata": {},
   "source": [
    "## Setup"
   ]
  },
  {
   "cell_type": "code",
   "execution_count": 1,
   "id": "e6fa62cb-125b-470c-adf6-1a8906847242",
   "metadata": {},
   "outputs": [],
   "source": [
    "%load_ext autoreload\n",
    "%autoreload 2\n",
    "\n",
    "import numpy as np\n",
    "import matplotlib.pyplot as plt\n",
    "import os\n",
    "\n",
    "# local\n",
    "from LSM import MonteCarloOptionPricing\n",
    "from FD import AmericanPutFiniteDifference"
   ]
  },
  {
   "cell_type": "markdown",
   "id": "9993aa54-7826-43d7-a446-29b30807ff7d",
   "metadata": {},
   "source": [
    "## 2.1 Producing *American put prices* similar to *Simulated American* in table 1 in Longstaff.\n",
    "- Where the simulation is based on 100000 (50000 plus 50000 antithetic) paths for the stock price."
   ]
  },
  {
   "cell_type": "code",
   "execution_count": null,
   "id": "fc47b138-51c6-4f3d-895c-5d3e0cb9bfa7",
   "metadata": {},
   "outputs": [],
   "source": []
  }
 ],
 "metadata": {
  "kernelspec": {
   "display_name": "Python 3 (ipykernel)",
   "language": "python",
   "name": "python3"
  },
  "language_info": {
   "codemirror_mode": {
    "name": "ipython",
    "version": 3
   },
   "file_extension": ".py",
   "mimetype": "text/x-python",
   "name": "python",
   "nbconvert_exporter": "python",
   "pygments_lexer": "ipython3",
   "version": "3.9.12"
  }
 },
 "nbformat": 4,
 "nbformat_minor": 5
}
