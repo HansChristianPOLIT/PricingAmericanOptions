{
 "cells": [
  {
   "cell_type": "markdown",
   "id": "d7942cf2-db0c-43b7-aae4-8fa13ace1d50",
   "metadata": {},
   "source": [
    "# Results"
   ]
  },
  {
   "cell_type": "markdown",
   "id": "c0f439b3-c597-4134-be53-17bbc188f66d",
   "metadata": {},
   "source": [
    "## Table of Contents\n",
    "* [1)*American Put Prices* Applying Least-Square Monte Carlo with Longstaff-Schwartz Parameters](#first-bullet)\n",
    "    - [1a) Black-Scholes (*Akin to Table 1 in Longstaff-Schwartz*)](#firsta-bullet)\n",
    "    - [1b) Jump Merton](#firstb-bullet)\n",
    "    - [1c) Constant Elasticity of Variance (CEV)](#firstc-bullet)\n",
    "* [2) *American Put Prices* Applying Least-Square Monte Carlo with Our Own Parameter Values](#second-bullet)\n",
    "    - [2a) Black-Scholes](#seconda-bullet)\n",
    "    - [2b) Jump Merton](#secondb-bullet)\n",
    "    - [2c) Constant Elasticity of Variance (CEV)](#secondc-bullet)"
   ]
  },
  {
   "cell_type": "markdown",
   "id": "dd33b3a8-0512-469a-9109-eae22e4e2935",
   "metadata": {},
   "source": [
    "## Setup"
   ]
  },
  {
   "cell_type": "code",
   "execution_count": 1,
   "id": "e6fa62cb-125b-470c-adf6-1a8906847242",
   "metadata": {},
   "outputs": [],
   "source": [
    "%load_ext autoreload\n",
    "%autoreload 2\n",
    "\n",
    "import numpy as np\n",
    "import matplotlib.pyplot as plt\n",
    "import os\n",
    "\n",
    "# local\n",
    "from DC import DynamicChebyshev\n",
    "from LSM import MonteCarloOptionPricing\n",
    "from FD import AmericanPutFiniteDifference"
   ]
  },
  {
   "cell_type": "markdown",
   "id": "a3781ed2-6b66-4db7-94f6-862c8ba88125",
   "metadata": {},
   "source": [
    "## 1) *American Put Prices* Applying Least-Square Monte Carlo with Longstaff-Schwartz Parameters <a class=\"anchor\" id=\"first-bullet\"></a>\n",
    "The simulation is based on 100,000 (50,000 plus 50,000 antithetic) paths for the stock price."
   ]
  },
  {
   "cell_type": "code",
   "execution_count": 5,
   "id": "020ce567-efde-48d0-8c61-0b34d4c81223",
   "metadata": {},
   "outputs": [],
   "source": [
    "# Parameter inputs\n",
    "r = 0.06  # risk-free rate\n",
    "K = 40.   # strike price\n",
    "λ = 0.4 # intensity rate of the Poisson process\n",
    "dim = 10_000  # number of simulation paths\n",
    "n = 50  # number of exercise rights per year\n",
    "seed = 15_001  # random seed for reproducibility\n",
    "n_chebyshev_pol = 100\n",
    "use_AV = True  # antithetic variates\n",
    "poly_degree = 3  # polynomial degree for LSM regression"
   ]
  },
  {
   "cell_type": "code",
   "execution_count": 6,
   "id": "d4eac0d9-3285-4060-a307-7c2095da3979",
   "metadata": {},
   "outputs": [],
   "source": [
    "# Varying option parameters\n",
    "S0_values = [36, 38, 40, 42, 44]\n",
    "σ_values = [0.20, 0.40]\n",
    "T_values = [1, 2]"
   ]
  },
  {
   "cell_type": "markdown",
   "id": "9993aa54-7826-43d7-a446-29b30807ff7d",
   "metadata": {},
   "source": [
    "### 1a) Black-Scholes (*Akin to Table 1 in Longstaff-Schwartz*) <a class=\"anchor\" id=\"firsta-bullet\"></a>\n"
   ]
  },
  {
   "cell_type": "code",
   "execution_count": 7,
   "id": "7cdebacf-b9f7-4c10-bb4e-9dd3bfcb4aa6",
   "metadata": {},
   "outputs": [
    {
     "name": "stdout",
     "output_type": "stream",
     "text": [
      "S0/Sigma/T: 36/0.2/1, EUR Put: 3.8443, LSM: 4.4760, Premium: 0.6317, F.D.: 4.4650, s.e.: 0.0291, D.C.: 4.5445, s.e.: 0.0772\n",
      "S0/Sigma/T: 36/0.2/2, EUR Put: 3.7630, LSM: 4.8401, Premium: 1.0771, F.D.: 4.8114, s.e.: 0.0358, D.C.: 4.9248, s.e.: 0.0934\n",
      "S0/Sigma/T: 36/0.4/1, EUR Put: 6.7114, LSM: 7.0991, Premium: 0.3877, F.D.: 7.0754, s.e.: 0.0614, D.C.: 7.2365, s.e.: 0.1195\n",
      "S0/Sigma/T: 36/0.4/2, EUR Put: 7.7000, LSM: 8.4803, Premium: 0.7802, F.D.: 8.3893, s.e.: 0.0728, D.C.: 8.6651, s.e.: 0.1397\n",
      "S0/Sigma/T: 38/0.2/1, EUR Put: 2.8519, LSM: 3.2598, Premium: 0.4079, F.D.: 3.2368, s.e.: 0.0309, D.C.: 3.3359, s.e.: 0.0723\n",
      "S0/Sigma/T: 38/0.2/2, EUR Put: 2.9906, LSM: 3.7552, Premium: 0.7646, F.D.: 3.7185, s.e.: 0.0361, D.C.: 3.8472, s.e.: 0.0891\n",
      "S0/Sigma/T: 38/0.4/1, EUR Put: 5.8343, LSM: 6.1525, Premium: 0.3182, F.D.: 6.1224, s.e.: 0.0601, D.C.: 6.2928, s.e.: 0.1168\n",
      "S0/Sigma/T: 38/0.4/2, EUR Put: 6.9788, LSM: 7.6809, Premium: 0.7021, F.D.: 7.5687, s.e.: 0.0723, D.C.: 7.8383, s.e.: 0.1380\n",
      "S0/Sigma/T: 40/0.2/1, EUR Put: 2.0664, LSM: 2.3336, Premium: 0.2672, F.D.: 2.3014, s.e.: 0.0276, D.C.: 2.4050, s.e.: 0.0672\n",
      "S0/Sigma/T: 40/0.2/2, EUR Put: 2.3559, LSM: 2.8966, Premium: 0.5408, F.D.: 2.8612, s.e.: 0.0338, D.C.: 2.9935, s.e.: 0.0848\n",
      "S0/Sigma/T: 40/0.4/1, EUR Put: 5.0596, LSM: 5.3158, Premium: 0.2561, F.D.: 5.2877, s.e.: 0.0570, D.C.: 5.4685, s.e.: 0.1140\n",
      "S0/Sigma/T: 40/0.4/2, EUR Put: 6.3260, LSM: 6.9236, Premium: 0.5976, F.D.: 6.8320, s.e.: 0.0703, D.C.: 7.0961, s.e.: 0.1361\n",
      "S0/Sigma/T: 42/0.2/1, EUR Put: 1.4645, LSM: 1.6275, Premium: 0.1630, F.D.: 1.6061, s.e.: 0.0238, D.C.: 1.7058, s.e.: 0.0621\n",
      "S0/Sigma/T: 42/0.2/2, EUR Put: 1.8414, LSM: 2.2382, Premium: 0.3969, F.D.: 2.1921, s.e.: 0.0308, D.C.: 2.3224, s.e.: 0.0805\n",
      "S0/Sigma/T: 42/0.4/1, EUR Put: 4.3787, LSM: 4.5866, Premium: 0.2078, F.D.: 4.5596, s.e.: 0.0540, D.C.: 4.7427, s.e.: 0.1112\n",
      "S0/Sigma/T: 42/0.4/2, EUR Put: 5.7356, LSM: 6.2448, Premium: 0.5092, F.D.: 6.1707, s.e.: 0.0679, D.C.: 6.4286, s.e.: 0.1343\n",
      "S0/Sigma/T: 44/0.2/1, EUR Put: 1.0169, LSM: 1.1092, Premium: 0.0923, F.D.: 1.1015, s.e.: 0.0205, D.C.: 1.1901, s.e.: 0.0570\n",
      "S0/Sigma/T: 44/0.2/2, EUR Put: 1.4292, LSM: 1.7007, Premium: 0.2715, F.D.: 1.6728, s.e.: 0.0276, D.C.: 1.7957, s.e.: 0.0762\n",
      "S0/Sigma/T: 44/0.4/1, EUR Put: 3.7828, LSM: 3.9498, Premium: 0.1670, F.D.: 3.9265, s.e.: 0.0511, D.C.: 4.1054, s.e.: 0.1083\n",
      "S0/Sigma/T: 44/0.4/2, EUR Put: 5.2020, LSM: 5.6292, Premium: 0.4272, F.D.: 5.5769, s.e.: 0.0658, D.C.: 5.8273, s.e.: 0.1325\n"
     ]
    }
   ],
   "source": [
    "# Store results\n",
    "Option_Pricing_Results_BS = []\n",
    "\n",
    "# Iterate over each combination of S, sigma, and T\n",
    "for S0 in S0_values:\n",
    "    for σ in σ_values:\n",
    "        for T in T_values:\n",
    "            # Create instance from class\n",
    "            MC_Option_Pricing_BS = MonteCarloOptionPricing(r, S0, K, T, σ, λ, dim, n, seed, use_AV)\n",
    "            \n",
    "            # 1) Calculate European Put using Black-Scholes\n",
    "            BS_Price = MC_Option_Pricing_BS.BS_option_value('put')\n",
    "            \n",
    "            # 2) Compute American Put using LSM\n",
    "            MC_Option_Pricing_BS.GeometricBrownianMotion_vec() # simulate GBM paths\n",
    "            American_put_price = MC_Option_Pricing_BS.american_option_LSM(poly_degree, otype='put') # price option\n",
    "            \n",
    "            # 3) Calculate premium\n",
    "            Option_Premium = American_put_price[0] - BS_Price \n",
    "            \n",
    "            # 4) Compute American Put using Implicit Finite Difference\n",
    "            Implicit_Finite_Difference = AmericanPutFiniteDifference(K, r, M = 1_000)\n",
    "            FD = Implicit_Finite_Difference.implicit_FD(S0, σ, T, N=n)\n",
    "            \n",
    "            # 5) Compute American Put using Dynamic Chebyshev \n",
    "            DC_option_pricing = DynamicChebyshev(r, S0, K, T, σ, λ, dim, n, n_chebyshev_pol, seed, use_AV)\n",
    "            \n",
    "            # a) offline phase\n",
    "            domain = DC_option_pricing.calculate_truncated_domain_GBM()\n",
    "            xknots = DC_option_pricing.calculate_nodal_points(domain)\n",
    "            BS = DC_option_pricing.generate_GBM_path(xknots)\n",
    "            Γ = DC_option_pricing.compute_generalized_moments(domain, xknots)\n",
    "\n",
    "            # b) online phase\n",
    "            DC = DC_option_pricing.price_option_with_dynamic_chebyshev(xknots, Γ)\n",
    "            \n",
    "            # 6) Store the results\n",
    "            Option_Pricing_Results_BS.append((S0, σ, T, BS_Price, American_put_price[0], Option_Premium, FD, American_put_price[3], DC[0], DC[1]))\n",
    "            \n",
    "            # Print\n",
    "            print(f'S0/Sigma/T: {S0}/{σ}/{T}, EUR Put: {BS_Price:.4f}, LSM: {American_put_price[0]:.4f}, Premium: {Option_Premium:.4f}, F.D.: {FD:.4f}, s.e.: {American_put_price[3]:.4f}, D.C.: {DC[0]:.4f}, s.e.: {DC[1]:.4f}')"
   ]
  },
  {
   "cell_type": "markdown",
   "id": "e10d8ccf-2158-431a-8dbf-21a6c1959911",
   "metadata": {},
   "source": [
    "### 1b) Jump Merton <a class=\"anchor\" id=\"firstb-bullet\"></a>"
   ]
  },
  {
   "cell_type": "code",
   "execution_count": 8,
   "id": "143eafe4-164a-4137-90c1-55dab4e11609",
   "metadata": {},
   "outputs": [],
   "source": [
    "λ = 0.4 # intensity rate of the Poisson process\n",
    "α = -0.5 # Mean of log-normal jump size\n",
    "β = 0.4 # Volatility of log-normal jump size\n",
    "σ = 0.2 # diffusion parameter"
   ]
  },
  {
   "cell_type": "code",
   "execution_count": 9,
   "id": "08f1a1fa-19f7-4531-a217-841909be7027",
   "metadata": {},
   "outputs": [
    {
     "name": "stdout",
     "output_type": "stream",
     "text": [
      "S0/Sigma/T: 36/1, EUR Put: 5.7636, LSM: 6.2070, D.C.: 5.8151\n",
      "S0/Sigma/T: 36/2, EUR Put: 7.1273, LSM: 8.1578, D.C.: 8.0533\n",
      "S0/Sigma/T: 38/1, EUR Put: 5.0684, LSM: 5.4040, D.C.: 4.9568\n",
      "S0/Sigma/T: 38/2, EUR Put: 6.5609, LSM: 7.5066, D.C.: 7.3789\n",
      "S0/Sigma/T: 40/1, EUR Put: 4.5068, LSM: 4.7774, D.C.: 4.2746\n",
      "S0/Sigma/T: 40/2, EUR Put: 6.0619, LSM: 6.9193, D.C.: 6.7883\n",
      "S0/Sigma/T: 42/1, EUR Put: 4.0494, LSM: 4.2979, D.C.: 3.7218\n",
      "S0/Sigma/T: 42/2, EUR Put: 5.6189, LSM: 6.4151, D.C.: 6.2650\n",
      "S0/Sigma/T: 44/1, EUR Put: 3.6710, LSM: 3.8963, D.C.: 3.2744\n",
      "S0/Sigma/T: 44/2, EUR Put: 5.2229, LSM: 5.9829, D.C.: 5.7965\n"
     ]
    }
   ],
   "source": [
    "# Store results\n",
    "Option_Pricing_Results_JM = []\n",
    "\n",
    "# Iterate over each combination of S and T\n",
    "for S0 in S0_values:\n",
    "    for T in T_values:\n",
    "        # Create instance from class\n",
    "        MC_Option_Pricing_JM = MonteCarloOptionPricing(r, S0, K, T, σ, λ, dim, n, seed, use_AV)\n",
    "\n",
    "        # 1) Calculate European Put using Jump Merton semi-closed solution\n",
    "        JumpMerton_price = MC_Option_Pricing_JM.merton_jump_option_value(α, β)\n",
    "\n",
    "        # 2) Compute American Put using LSM\n",
    "        MC_Option_Pricing_JM.MertonJumpDiffusion_vec(α, β) # simulate jump paths\n",
    "        American_put_price = MC_Option_Pricing_JM.american_option_LSM(poly_degree, otype='put') # price option\n",
    "\n",
    "        # 3) Calculate premium\n",
    "        Option_Premium = American_put_price[0] - JumpMerton_price \n",
    "\n",
    "        # 4) Compute American Put using Dynamic Chebyshev \n",
    "        DC_option_pricing = DynamicChebyshev(r, S0, K, T, σ, λ, dim, n, n_chebyshev_pol, seed, use_AV)\n",
    "        # a) offline phase\n",
    "        domain = DC_option_pricing.calculate_truncated_domain_JumpMerton(α, β)\n",
    "        xknots = DC_option_pricing.calculate_nodal_points(domain)\n",
    "        JM = DC_option_pricing.generate_Jump_path(xknots, α, β)\n",
    "        Γ = DC_option_pricing.compute_generalized_moments(domain,xknots)\n",
    "\n",
    "        # b) online phase\n",
    "        DC = DC_option_pricing.price_option_with_dynamic_chebyshev(xknots,Γ)\n",
    "\n",
    "        # 5) Store the results\n",
    "        Option_Pricing_Results_JM.append((S0, σ, T, JumpMerton_price, American_put_price[0], Option_Premium, DC[0]))\n",
    "\n",
    "        # Print\n",
    "        print(f'S0/Sigma/T: {S0}/{T}, EUR Put: {JumpMerton_price:.4f}, LSM: {American_put_price[0]:.4f}, D.C.: {DC[0]:.4f}')"
   ]
  },
  {
   "cell_type": "markdown",
   "id": "3bc0d3de-84d3-4cb8-9977-ebc3c611080b",
   "metadata": {},
   "source": [
    "### 1c) Constant Elasticity of Variance (CEV) <a class=\"anchor\" id=\"firstc-bullet\"></a>"
   ]
  },
  {
   "cell_type": "code",
   "execution_count": 10,
   "id": "3d4de9fe-9989-4fb5-a13b-8fa32d0269b0",
   "metadata": {},
   "outputs": [],
   "source": [
    "γ = 1.5 # parameter governing elasticity with respect to price, if set = 2 then we obtain BS prices"
   ]
  },
  {
   "cell_type": "code",
   "execution_count": 11,
   "id": "8cecbcf9-0b08-4a67-9606-e8d428240299",
   "metadata": {},
   "outputs": [
    {
     "name": "stdout",
     "output_type": "stream",
     "text": [
      "S0/Sigma/T: 36/1, LSM: 3.9521, D.C.: 4.0606\n",
      "S0/Sigma/T: 36/2, LSM: 3.9042, D.C.: 4.1675\n",
      "S0/Sigma/T: 38/1, LSM: 1.9563, D.C.: 2.6215\n",
      "S0/Sigma/T: 38/2, LSM: 1.9376, D.C.: 2.8772\n",
      "S0/Sigma/T: 40/1, LSM: 0.6246, D.C.: 1.6299\n",
      "S0/Sigma/T: 40/2, LSM: 0.6965, D.C.: 1.9655\n",
      "S0/Sigma/T: 42/1, LSM: 0.1642, D.C.: 0.9772\n",
      "S0/Sigma/T: 42/2, LSM: 0.2336, D.C.: 1.3288\n",
      "S0/Sigma/T: 44/1, LSM: 0.0359, D.C.: 0.5641\n",
      "S0/Sigma/T: 44/2, LSM: 0.0729, D.C.: 0.8894\n"
     ]
    }
   ],
   "source": [
    "# Store results\n",
    "Option_Pricing_Results_CEV = []\n",
    "\n",
    "# Iterate over each combination of S and T\n",
    "for S0 in S0_values:\n",
    "    for T in T_values:\n",
    "        # Create instance from class\n",
    "        MC_Option_Pricing_CEV = MonteCarloOptionPricing(r, S0, K, T, σ, λ, dim, n, seed, use_AV)\n",
    "\n",
    "        # 1) Compute American Put using LSM\n",
    "        MC_Option_Pricing_CEV.CEV(γ) # simulate CEV paths\n",
    "        American_put_price = MC_Option_Pricing_CEV.american_option_LSM(poly_degree, otype='put') # price option\n",
    "\n",
    "        # 2) Compute American Put using Dynamic Chebyshev\n",
    "        DC_option_pricing = DynamicChebyshev(r, S0, K, T, σ, λ, dim, n, n_chebyshev_pol, seed, use_AV)\n",
    "        # a) offline phase\n",
    "        domain = DC_option_pricing.calculate_truncated_domain_GBM()\n",
    "        xknots = DC_option_pricing.calculate_nodal_points(domain)\n",
    "        CEV = DC_option_pricing.generate_CEV_path(xknots, γ)\n",
    "        Γ = DC_option_pricing.compute_generalized_moments(domain, xknots)\n",
    "\n",
    "        # b) online phase\n",
    "        DC = DC_option_pricing.price_option_with_dynamic_chebyshev(xknots, Γ)\n",
    "\n",
    "        # 3) Store the results\n",
    "        Option_Pricing_Results_CEV.append((S0, σ, T, American_put_price[0], DC[0]))\n",
    "\n",
    "        # Print\n",
    "        print(f'S0/Sigma/T: {S0}/{T}, LSM: {American_put_price[0]:.4f}, D.C.: {DC[0]:.4f}')"
   ]
  },
  {
   "cell_type": "markdown",
   "id": "8609c565-7d30-4b32-8132-d81fa9b11e98",
   "metadata": {},
   "source": [
    "## 2) *American Put Prices* Applying Least-Square Monte Carlo with Our Own Parameter Values <a class=\"anchor\" id=\"second-bullet\"></a>\n",
    "The simulation is based on 100,000 (50,000 plus 50,000 antithetic) paths for the stock price."
   ]
  },
  {
   "cell_type": "code",
   "execution_count": 12,
   "id": "febfde22-9651-41a6-94c5-c134d2c93dd0",
   "metadata": {},
   "outputs": [],
   "source": [
    "# Parameter inputs\n",
    "r = 0.06  # risk-free rate\n",
    "K = 100.   # strike price\n",
    "λ = 0.4 # intensity rate of the Poisson process\n",
    "dim = 10_000  # number of simulation paths\n",
    "n = 252  # number of exercise rights per year\n",
    "n_chebyshev_pol = 100\n",
    "seed = 15_001  # random seed for reproducibility\n",
    "use_AV = True  # antithetic variates\n",
    "poly_degree = 3  # polynomial degree for LSM regression"
   ]
  },
  {
   "cell_type": "code",
   "execution_count": 13,
   "id": "d884a001-f571-4cf1-a7d6-e507f6cf7a0c",
   "metadata": {},
   "outputs": [],
   "source": [
    "# Option parameters\n",
    "S0_values = [90, 95, 100, 105, 110]\n",
    "σ_values = [0.20, 0.40]\n",
    "T_values = [1, 2]"
   ]
  },
  {
   "cell_type": "markdown",
   "id": "485aa59c-67e1-43de-bd43-db3956744c26",
   "metadata": {
    "tags": []
   },
   "source": [
    "## 2a) Black-Scholes <a class=\"anchor\" id=\"seconda-bullet\"></a>"
   ]
  },
  {
   "cell_type": "code",
   "execution_count": 14,
   "id": "194f6a7f-95e5-4a78-9221-5b0499075c35",
   "metadata": {},
   "outputs": [
    {
     "name": "stdout",
     "output_type": "stream",
     "text": [
      "S0/Sigma/T: 90/0.2/1, EUR Put: 9.6108, LSM: 11.2581, Premium: 1.6474, F.D.: 11.2053, s.e.: 0.0750, D.C.: 12.0103, s.e.: 0.1923\n",
      "S0/Sigma/T: 90/0.2/2, EUR Put: 9.4075, LSM: 12.1344, Premium: 2.7269, F.D.: 12.1015, s.e.: 0.0886, D.C.: 13.2345, s.e.: 0.2326\n",
      "S0/Sigma/T: 90/0.4/1, EUR Put: 16.7785, LSM: 17.8591, Premium: 1.0806, F.D.: 17.7493, s.e.: 0.1446, D.C.: 19.2846, s.e.: 0.2974\n",
      "S0/Sigma/T: 90/0.4/2, EUR Put: 19.2501, LSM: 21.4514, Premium: 2.2013, F.D.: 21.0758, s.e.: 0.1750, D.C.: 23.1401, s.e.: 0.3477\n",
      "S0/Sigma/T: 95/0.2/1, EUR Put: 7.1298, LSM: 8.2376, Premium: 1.1078, F.D.: 8.1321, s.e.: 0.0734, D.C.: 9.1349, s.e.: 0.1800\n",
      "S0/Sigma/T: 95/0.2/2, EUR Put: 7.4764, LSM: 9.4766, Premium: 2.0002, F.D.: 9.3612, s.e.: 0.0887, D.C.: 10.6659, s.e.: 0.2220\n",
      "S0/Sigma/T: 95/0.4/1, EUR Put: 14.5858, LSM: 15.5552, Premium: 0.9694, F.D.: 15.3660, s.e.: 0.1420, D.C.: 17.0226, s.e.: 0.2906\n",
      "S0/Sigma/T: 95/0.4/2, EUR Put: 17.4470, LSM: 19.3706, Premium: 1.9236, F.D.: 19.0214, s.e.: 0.1728, D.C.: 21.1619, s.e.: 0.3433\n",
      "S0/Sigma/T: 100/0.2/1, EUR Put: 5.1660, LSM: 5.9137, Premium: 0.7477, F.D.: 5.7891, s.e.: 0.0659, D.C.: 6.8564, s.e.: 0.1674\n",
      "S0/Sigma/T: 100/0.2/2, EUR Put: 5.8897, LSM: 7.3979, Premium: 1.5082, F.D.: 7.2096, s.e.: 0.0818, D.C.: 8.5735, s.e.: 0.2113\n",
      "S0/Sigma/T: 100/0.4/1, EUR Put: 12.6491, LSM: 13.3979, Premium: 0.7488, F.D.: 13.2773, s.e.: 0.1370, D.C.: 15.0296, s.e.: 0.2837\n",
      "S0/Sigma/T: 100/0.4/2, EUR Put: 15.8150, LSM: 17.5240, Premium: 1.7090, F.D.: 17.1760, s.e.: 0.1688, D.C.: 19.3761, s.e.: 0.3388\n",
      "S0/Sigma/T: 105/0.2/1, EUR Put: 3.6613, LSM: 4.0474, Premium: 0.3862, F.D.: 4.0447, s.e.: 0.0570, D.C.: 5.0828, s.e.: 0.1547\n",
      "S0/Sigma/T: 105/0.2/2, EUR Put: 4.6034, LSM: 5.5796, Premium: 0.9762, F.D.: 5.5286, s.e.: 0.0733, D.C.: 6.8777, s.e.: 0.2006\n",
      "S0/Sigma/T: 105/0.4/1, EUR Put: 10.9468, LSM: 11.4998, Premium: 0.5530, F.D.: 11.4537, s.e.: 0.1305, D.C.: 13.2573, s.e.: 0.2767\n",
      "S0/Sigma/T: 105/0.4/2, EUR Put: 14.3390, LSM: 15.7583, Premium: 1.4192, F.D.: 15.5183, s.e.: 0.1637, D.C.: 17.7596, s.e.: 0.3343\n",
      "S0/Sigma/T: 110/0.2/1, EUR Put: 2.5423, LSM: 2.7796, Premium: 0.2373, F.D.: 2.7760, s.e.: 0.0506, D.C.: 3.7194, s.e.: 0.1420\n",
      "S0/Sigma/T: 110/0.2/2, EUR Put: 3.5730, LSM: 4.2721, Premium: 0.6991, F.D.: 4.2222, s.e.: 0.0686, D.C.: 5.5035, s.e.: 0.1899\n",
      "S0/Sigma/T: 110/0.4/1, EUR Put: 9.4570, LSM: 9.9021, Premium: 0.4451, F.D.: 9.8669, s.e.: 0.1233, D.C.: 11.6825, s.e.: 0.2697\n",
      "S0/Sigma/T: 110/0.4/2, EUR Put: 13.0050, LSM: 14.1815, Premium: 1.1765, F.D.: 14.0291, s.e.: 0.1577, D.C.: 16.2921, s.e.: 0.3297\n"
     ]
    }
   ],
   "source": [
    "# Store results\n",
    "Results_BS = []\n",
    "\n",
    "# Store results\n",
    "Option_Pricing_Results_BS = []\n",
    "\n",
    "# Iterate over each combination of S, sigma, and T\n",
    "for S0 in S0_values:\n",
    "    for σ in σ_values:\n",
    "        for T in T_values:\n",
    "            # Create instance from class\n",
    "            MC_Option_Pricing_BS = MonteCarloOptionPricing(r, S0, K, T, σ, λ, dim, n, seed, use_AV)\n",
    "            \n",
    "            # 1) Calculate European Put using Black-Scholes\n",
    "            BS_Price = MC_Option_Pricing_BS.BS_option_value('put')\n",
    "            \n",
    "            # 2) Compute American Put using LSM\n",
    "            MC_Option_Pricing_BS.GeometricBrownianMotion_vec() # simulate GBM paths\n",
    "            American_put_price = MC_Option_Pricing_BS.american_option_LSM(poly_degree, otype='put') # price option\n",
    "            \n",
    "            # 3) Calculate premium\n",
    "            Option_Premium = American_put_price[0] - BS_Price \n",
    "            \n",
    "            # 4) Compute American Put using Implicit Finite Difference\n",
    "            Implicit_Finite_Difference = AmericanPutFiniteDifference(K, r, M = 1_000)\n",
    "            FD = Implicit_Finite_Difference.implicit_FD(S0, σ, T, N=n)\n",
    "            \n",
    "            # 5) Compute American Put using Dynamic Chebyshev \n",
    "            DC_option_pricing = DynamicChebyshev(r, S0, K, T, σ, λ, dim, n, n_chebyshev_pol, seed, use_AV)\n",
    "            \n",
    "            # a) offline phase\n",
    "            domain = DC_option_pricing.calculate_truncated_domain_GBM()\n",
    "            xknots = DC_option_pricing.calculate_nodal_points(domain)\n",
    "            BS = DC_option_pricing.generate_GBM_path(xknots)\n",
    "            Γ = DC_option_pricing.compute_generalized_moments(domain, xknots)\n",
    "\n",
    "            # b) online phase\n",
    "            DC = DC_option_pricing.price_option_with_dynamic_chebyshev(xknots, Γ)\n",
    "            \n",
    "            # 6) Store the results\n",
    "            Results_BS.append((S0, σ, T, BS_Price, American_put_price[0], Option_Premium, FD, American_put_price[3], DC[0], DC[1]))\n",
    "            \n",
    "            # Print\n",
    "            print(f'S0/Sigma/T: {S0}/{σ}/{T}, EUR Put: {BS_Price:.4f}, LSM: {American_put_price[0]:.4f}, Premium: {Option_Premium:.4f}, F.D.: {FD:.4f}, s.e.: {American_put_price[3]:.4f}, D.C.: {DC[0]:.4f}, s.e.: {DC[1]:.4f}')"
   ]
  },
  {
   "cell_type": "markdown",
   "id": "a0517fe5-dc35-44b4-87ed-21535ee87cc1",
   "metadata": {},
   "source": [
    "## 2b) Jump Merton <a class=\"anchor\" id=\"secondb-bullet\"></a>"
   ]
  },
  {
   "cell_type": "code",
   "execution_count": 15,
   "id": "a2269dfc-5467-45ef-bff6-0457b1bb14d2",
   "metadata": {},
   "outputs": [],
   "source": [
    "λ = 0.4 # intensity rate of the Poisson process\n",
    "α = -0.5 # Mean of log-normal jump size\n",
    "β = 0.4 # Volatility of log-normal jump size\n",
    "σ = 0.2 # diffusion parameter"
   ]
  },
  {
   "cell_type": "code",
   "execution_count": 16,
   "id": "ee34f679-bfe7-4077-b73c-e6f6635231f6",
   "metadata": {},
   "outputs": [
    {
     "name": "stdout",
     "output_type": "stream",
     "text": [
      "S0/Sigma/T: 90/1, EUR Put: 14.4089, LSM: 15.5227, D.C.: 16.9176\n",
      "S0/Sigma/T: 90/2, EUR Put: 17.8182, LSM: 20.3477, D.C.: 22.7808\n",
      "S0/Sigma/T: 95/1, EUR Put: 12.6710, LSM: 13.5883, D.C.: 14.7929\n",
      "S0/Sigma/T: 95/2, EUR Put: 16.4024, LSM: 18.6529, D.C.: 21.0232\n",
      "S0/Sigma/T: 100/1, EUR Put: 11.2670, LSM: 12.0897, D.C.: 12.9719\n",
      "S0/Sigma/T: 100/2, EUR Put: 15.1547, LSM: 17.1334, D.C.: 19.4376\n",
      "S0/Sigma/T: 105/1, EUR Put: 10.1234, LSM: 10.9404, D.C.: 11.3995\n",
      "S0/Sigma/T: 105/2, EUR Put: 14.0472, LSM: 15.8141, D.C.: 18.0007\n",
      "S0/Sigma/T: 110/1, EUR Put: 9.1776, LSM: 9.9055, D.C.: 10.0525\n",
      "S0/Sigma/T: 110/2, EUR Put: 13.0571, LSM: 14.6897, D.C.: 16.6917\n"
     ]
    }
   ],
   "source": [
    "# Store results\n",
    "Results_JM = []\n",
    "\n",
    "# Iterate over each combination of S and T\n",
    "for S0 in S0_values:\n",
    "    for T in T_values:\n",
    "        # Create instance from class\n",
    "        MC_Option_Pricing_JM = MonteCarloOptionPricing(r, S0, K, T, σ, λ, dim, n, seed, use_AV)\n",
    "\n",
    "        # 1) Calculate European Put using Jump Merton semi-closed solution\n",
    "        JumpMerton_price = MC_Option_Pricing_JM.merton_jump_option_value(α, β)\n",
    "\n",
    "        # 2) Compute American Put using LSM\n",
    "        MC_Option_Pricing_JM.MertonJumpDiffusion_vec(α, β) # simulate jump paths\n",
    "        American_put_price = MC_Option_Pricing_JM.american_option_LSM(poly_degree, otype='put') # price option\n",
    "\n",
    "        # 3) Calculate premium\n",
    "        Option_Premium = American_put_price[0] - JumpMerton_price \n",
    "\n",
    "        # 4) Compute American Put using Dynamic Chebyshev \n",
    "        DC_option_pricing = DynamicChebyshev(r, S0, K, T, σ, λ, dim, n, n_chebyshev_pol, seed, use_AV)\n",
    "        # a) offline phase\n",
    "        domain = DC_option_pricing.calculate_truncated_domain_JumpMerton(α, β)\n",
    "        xknots = DC_option_pricing.calculate_nodal_points(domain)\n",
    "        JM = DC_option_pricing.generate_Jump_path(xknots, α, β)\n",
    "        Γ = DC_option_pricing.compute_generalized_moments(domain,xknots)\n",
    "\n",
    "        # b) online phase\n",
    "        DC = DC_option_pricing.price_option_with_dynamic_chebyshev(xknots,Γ)\n",
    "\n",
    "        # 5) Store the results\n",
    "        Results_JM.append((S0, T, JumpMerton_price, American_put_price[0], Option_Premium, DC[0]))\n",
    "\n",
    "        # Print\n",
    "        print(f'S0/Sigma/T: {S0}/{T}, EUR Put: {JumpMerton_price:.4f}, LSM: {American_put_price[0]:.4f}, D.C.: {DC[0]:.4f}')"
   ]
  },
  {
   "cell_type": "markdown",
   "id": "1d15eb99-b47d-44c8-95e5-8d3eeb9c32c7",
   "metadata": {},
   "source": [
    "## 2c) Constant Elasticity of Variance (CEV) <a class=\"anchor\" id=\"secondc-bullet\"></a>"
   ]
  },
  {
   "cell_type": "code",
   "execution_count": 17,
   "id": "40e6eae9-a0a2-4a7d-b0f7-5d96c45aece6",
   "metadata": {},
   "outputs": [],
   "source": [
    "γ = 1.5 # parameter governing elasticity with respect to price, if set = 2 then we obtain BS prices"
   ]
  },
  {
   "cell_type": "code",
   "execution_count": 18,
   "id": "e136eac5-1669-4757-acca-c2189cb9c092",
   "metadata": {},
   "outputs": [
    {
     "name": "stdout",
     "output_type": "stream",
     "text": [
      "S0/Sigma/T: 90/1, LSM: 9.9762, D.C.: 10.6231\n",
      "S0/Sigma/T: 90/2, LSM: 9.9524, D.C.: 11.1944\n",
      "S0/Sigma/T: 95/1, LSM: 4.9761, D.C.: 7.3549\n",
      "S0/Sigma/T: 95/2, LSM: 4.9524, D.C.: 8.2602\n",
      "S0/Sigma/T: 100/1, LSM: 1.0856, D.C.: 4.9656\n",
      "S0/Sigma/T: 100/2, LSM: 1.1671, D.C.: 6.0541\n",
      "S0/Sigma/T: 105/1, LSM: 0.1635, D.C.: 3.2703\n",
      "S0/Sigma/T: 105/2, LSM: 0.2217, D.C.: 4.4112\n",
      "S0/Sigma/T: 110/1, LSM: 0.0201, D.C.: 2.0961\n",
      "S0/Sigma/T: 110/2, LSM: 0.0411, D.C.: 3.1921\n"
     ]
    }
   ],
   "source": [
    "# Store results\n",
    "Results_CEV = []\n",
    "\n",
    "# Iterate over each combination of S and T\n",
    "for S0 in S0_values:\n",
    "    for T in T_values:\n",
    "        # Create instance from class\n",
    "        MC_Option_Pricing_CEV = MonteCarloOptionPricing(r, S0, K, T, σ, λ, dim, n, seed, use_AV)\n",
    "\n",
    "        # 1) Compute American Put using LSM\n",
    "        MC_Option_Pricing_CEV.CEV(γ) # simulate CEV paths\n",
    "        American_put_price = MC_Option_Pricing_CEV.american_option_LSM(poly_degree, otype='put') # price option\n",
    "\n",
    "        # 2) Compute American Put using Dynamic Chebyshev\n",
    "        DC_option_pricing = DynamicChebyshev(r, S0, K, T, σ, λ, dim, n, n_chebyshev_pol, seed, use_AV)\n",
    "        # a) offline phase\n",
    "        domain = DC_option_pricing.calculate_truncated_domain_GBM()\n",
    "        xknots = DC_option_pricing.calculate_nodal_points(domain)\n",
    "        CEV = DC_option_pricing.generate_CEV_path(xknots, γ)\n",
    "        Γ = DC_option_pricing.compute_generalized_moments(domain, xknots)\n",
    "\n",
    "        # b) online phase\n",
    "        DC = DC_option_pricing.price_option_with_dynamic_chebyshev(xknots, Γ)\n",
    "\n",
    "        # 3) Store the results\n",
    "        Results_CEV.append((S0, σ, T, American_put_price[0], DC[0]))\n",
    "\n",
    "        # Print\n",
    "        print(f'S0/Sigma/T: {S0}/{T}, LSM: {American_put_price[0]:.4f}, D.C.: {DC[0]:.4f}')"
   ]
  },
  {
   "cell_type": "code",
   "execution_count": null,
   "id": "cc631779-0765-400a-8cf2-fa2a0bed8084",
   "metadata": {},
   "outputs": [],
   "source": []
  }
 ],
 "metadata": {
  "kernelspec": {
   "display_name": "Python 3 (ipykernel)",
   "language": "python",
   "name": "python3"
  },
  "language_info": {
   "codemirror_mode": {
    "name": "ipython",
    "version": 3
   },
   "file_extension": ".py",
   "mimetype": "text/x-python",
   "name": "python",
   "nbconvert_exporter": "python",
   "pygments_lexer": "ipython3",
   "version": "3.9.12"
  }
 },
 "nbformat": 4,
 "nbformat_minor": 5
}
