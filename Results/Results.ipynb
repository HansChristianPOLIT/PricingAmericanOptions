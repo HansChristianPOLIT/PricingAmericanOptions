{
 "cells": [
  {
   "cell_type": "markdown",
   "id": "d7942cf2-db0c-43b7-aae4-8fa13ace1d50",
   "metadata": {},
   "source": [
    "# Results"
   ]
  },
  {
   "cell_type": "markdown",
   "id": "c0f439b3-c597-4134-be53-17bbc188f66d",
   "metadata": {},
   "source": [
    "## Table of Contents\n",
    "* [1)Reproducing Table 1 in in Longstaff-Schwartz](#first-bullet)\n",
    "* [2) *American Put Prices* Applying Least-Square Monte Carlo with Our Own Parameter Values](#second-bullet)\n",
    "    - [2a) Black-Scholes](#seconda-bullet)\n",
    "    - [2b) Jump Merton](#secondb-bullet)\n",
    "        - [2b extra) Jump Merton (BAD TRUNCATION)](#secondba-bullet)\n",
    "    - [2c) Constant Elasticity of Variance (CEV)](#secondc-bullet)"
   ]
  },
  {
   "cell_type": "markdown",
   "id": "dd33b3a8-0512-469a-9109-eae22e4e2935",
   "metadata": {},
   "source": [
    "## Setup"
   ]
  },
  {
   "cell_type": "code",
   "execution_count": 1,
   "id": "e6fa62cb-125b-470c-adf6-1a8906847242",
   "metadata": {},
   "outputs": [],
   "source": [
    "%load_ext autoreload\n",
    "%autoreload 2\n",
    "\n",
    "import numpy as np\n",
    "import matplotlib.pyplot as plt\n",
    "import os\n",
    "\n",
    "# local\n",
    "from DC import DynamicChebyshev\n",
    "from LSM import MonteCarloOptionPricing\n",
    "from FD import AmericanPutFiniteDifference"
   ]
  },
  {
   "cell_type": "markdown",
   "id": "a3781ed2-6b66-4db7-94f6-862c8ba88125",
   "metadata": {},
   "source": [
    "## 1) *American Put Prices* Applying Least-Square Monte Carlo with Longstaff-Schwartz Parameters <a class=\"anchor\" id=\"first-bullet\"></a>\n",
    "The simulation is based on 100,000 (50,000 plus 50,000 antithetic) paths for the stock price."
   ]
  },
  {
   "cell_type": "code",
   "execution_count": 13,
   "id": "020ce567-efde-48d0-8c61-0b34d4c81223",
   "metadata": {},
   "outputs": [],
   "source": [
    "# Parameter inputs\n",
    "r = 0.06  # risk-free rate\n",
    "K = 40.   # strike price\n",
    "λ = 0.4 # intensity rate of the Poisson process\n",
    "dim = 100_000  # number of simulation paths\n",
    "n = 50  # number of exercise rights per year\n",
    "seed = 15_001  # random seed for reproducibility\n",
    "use_AV = True  # antithetic variates\n",
    "poly_degree = 3  # polynomial degree for LSM regression"
   ]
  },
  {
   "cell_type": "code",
   "execution_count": 14,
   "id": "d4eac0d9-3285-4060-a307-7c2095da3979",
   "metadata": {},
   "outputs": [],
   "source": [
    "# Varying option parameters\n",
    "S0_values = [36, 38, 40, 42, 44]\n",
    "σ_values = [0.20, 0.40]\n",
    "T_values = [1, 2]"
   ]
  },
  {
   "cell_type": "markdown",
   "id": "9993aa54-7826-43d7-a446-29b30807ff7d",
   "metadata": {},
   "source": [
    "**Black-Scholes (*Akin to Table 1 in Longstaff-Schwartz*)**:"
   ]
  },
  {
   "cell_type": "code",
   "execution_count": 15,
   "id": "7cdebacf-b9f7-4c10-bb4e-9dd3bfcb4aa6",
   "metadata": {},
   "outputs": [
    {
     "name": "stdout",
     "output_type": "stream",
     "text": [
      "S0/Sigma/T: 36/0.2/1, F.D.: 4.487, EUR Put: 3.844, Premium: 0.642  LSM: 4.472, s.e. 0.009, Premium: 0.628, Diff. in Prem:0.015\n",
      "S0/Sigma/T: 36/0.2/2, F.D.: 4.848, EUR Put: 3.763, Premium: 1.085  LSM: 4.826, s.e. 0.011, Premium: 1.063, Diff. in Prem:0.022\n",
      "S0/Sigma/T: 36/0.4/1, F.D.: 7.106, EUR Put: 6.711, Premium: 0.395  LSM: 7.075, s.e. 0.019, Premium: 0.364, Diff. in Prem:0.031\n",
      "S0/Sigma/T: 36/0.4/2, F.D.: 8.441, EUR Put: 7.700, Premium: 0.741  LSM: 8.459, s.e. 0.023, Premium: 0.759, Diff. in Prem:-0.018\n",
      "S0/Sigma/T: 38/0.2/1, F.D.: 3.257, EUR Put: 2.852, Premium: 0.405  LSM: 3.240, s.e. 0.009, Premium: 0.388, Diff. in Prem:0.017\n",
      "S0/Sigma/T: 38/0.2/2, F.D.: 3.751, EUR Put: 2.991, Premium: 0.761  LSM: 3.727, s.e. 0.011, Premium: 0.736, Diff. in Prem:0.025\n",
      "S0/Sigma/T: 38/0.4/1, F.D.: 6.153, EUR Put: 5.834, Premium: 0.319  LSM: 6.122, s.e. 0.019, Premium: 0.288, Diff. in Prem:0.031\n",
      "S0/Sigma/T: 38/0.4/2, F.D.: 7.619, EUR Put: 6.979, Premium: 0.640  LSM: 7.629, s.e. 0.022, Premium: 0.651, Diff. in Prem:-0.010\n",
      "S0/Sigma/T: 40/0.2/1, F.D.: 2.320, EUR Put: 2.066, Premium: 0.253  LSM: 2.305, s.e. 0.009, Premium: 0.239, Diff. in Prem:0.015\n",
      "S0/Sigma/T: 40/0.2/2, F.D.: 2.890, EUR Put: 2.356, Premium: 0.534  LSM: 2.873, s.e. 0.011, Premium: 0.517, Diff. in Prem:0.017\n",
      "S0/Sigma/T: 40/0.4/1, F.D.: 5.317, EUR Put: 5.060, Premium: 0.258  LSM: 5.275, s.e. 0.018, Premium: 0.216, Diff. in Prem:0.042\n",
      "S0/Sigma/T: 40/0.4/2, F.D.: 6.881, EUR Put: 6.326, Premium: 0.555  LSM: 6.878, s.e. 0.022, Premium: 0.552, Diff. in Prem:0.002\n",
      "S0/Sigma/T: 42/0.2/1, F.D.: 1.621, EUR Put: 1.465, Premium: 0.157  LSM: 1.604, s.e. 0.008, Premium: 0.139, Diff. in Prem:0.017\n",
      "S0/Sigma/T: 42/0.2/2, F.D.: 2.217, EUR Put: 1.841, Premium: 0.375  LSM: 2.199, s.e. 0.010, Premium: 0.358, Diff. in Prem:0.018\n",
      "S0/Sigma/T: 42/0.4/1, F.D.: 4.588, EUR Put: 4.379, Premium: 0.209  LSM: 4.547, s.e. 0.017, Premium: 0.168, Diff. in Prem:0.041\n",
      "S0/Sigma/T: 42/0.4/2, F.D.: 6.217, EUR Put: 5.736, Premium: 0.482  LSM: 6.198, s.e. 0.021, Premium: 0.462, Diff. in Prem:0.019\n",
      "S0/Sigma/T: 44/0.2/1, F.D.: 1.113, EUR Put: 1.017, Premium: 0.096  LSM: 1.094, s.e. 0.007, Premium: 0.078, Diff. in Prem:0.018\n",
      "S0/Sigma/T: 44/0.2/2, F.D.: 1.693, EUR Put: 1.429, Premium: 0.264  LSM: 1.669, s.e. 0.009, Premium: 0.240, Diff. in Prem:0.024\n",
      "S0/Sigma/T: 44/0.4/1, F.D.: 3.952, EUR Put: 3.783, Premium: 0.170  LSM: 3.905, s.e. 0.016, Premium: 0.122, Diff. in Prem:0.047\n",
      "S0/Sigma/T: 44/0.4/2, F.D.: 5.621, EUR Put: 5.202, Premium: 0.419  LSM: 5.588, s.e. 0.021, Premium: 0.386, Diff. in Prem:0.033\n"
     ]
    }
   ],
   "source": [
    "# Store results\n",
    "Option_Pricing_Results_BS = []\n",
    "\n",
    "# Iterate over each combination of S, sigma, and T\n",
    "for S0 in S0_values:\n",
    "    for σ in σ_values:\n",
    "        for T in T_values:\n",
    "            # Create instance from class\n",
    "            MC_Option_Pricing_BS = MonteCarloOptionPricing(r, S0, K, T, σ, λ, dim, n, seed, use_AV)\n",
    "            \n",
    "            # 1) Calculate European Put using Black-Scholes\n",
    "            BS_Price = MC_Option_Pricing_BS.BS_option_value('put')\n",
    "            \n",
    "            # 2) Compute American Put using LSM\n",
    "            MC_Option_Pricing_BS.GeometricBrownianMotion_vec() # simulate GBM paths\n",
    "            American_put_price = MC_Option_Pricing_BS.american_option_LSM(poly_degree, otype='put') # price option\n",
    "            \n",
    "            # 3) Calculate premium\n",
    "            Option_Premium_LSM = American_put_price[0] - BS_Price \n",
    "            \n",
    "            # 4) Compute American Put using Implicit Finite Difference\n",
    "            Implicit_Finite_Difference = AmericanPutFiniteDifference(K, r, M = 1_000)\n",
    "            FD = Implicit_Finite_Difference.implicit_FD(S0, σ, T, T*40_000)\n",
    "            \n",
    "            # 5) Calculate premium\n",
    "            Option_Premium_FD = FD - BS_Price \n",
    "            \n",
    "            # 6) diff in premium\n",
    "            Diff_prem = Option_Premium_FD - Option_Premium_LSM\n",
    "            \n",
    "            # 7) Store the results\n",
    "            Option_Pricing_Results_BS.append((S0, σ, T, FD, BS_Price, Option_Premium_FD, American_put_price[0],American_put_price[3], Option_Premium_LSM, Diff_prem))\n",
    "            \n",
    "            # Print\n",
    "            print(f'S0/Sigma/T: {S0}/{σ}/{T}, F.D.: {FD:.3f}, EUR Put: {BS_Price:.3f}, Premium: {Option_Premium_FD:.3f}  LSM: {American_put_price[0]:.3f}, s.e. {American_put_price[3]:.3f}, Premium: {Option_Premium_LSM:.3f}, Diff. in Prem:{Diff_prem:.3f}')"
   ]
  },
  {
   "cell_type": "markdown",
   "id": "8609c565-7d30-4b32-8132-d81fa9b11e98",
   "metadata": {},
   "source": [
    "## 2) *American Put Prices* Applying Least-Square Monte Carlo with Our Own Parameter Values <a class=\"anchor\" id=\"second-bullet\"></a>\n",
    "The simulation is based on 100,000 (50,000 plus 50,000 antithetic) paths for the stock price."
   ]
  },
  {
   "cell_type": "code",
   "execution_count": 2,
   "id": "febfde22-9651-41a6-94c5-c134d2c93dd0",
   "metadata": {},
   "outputs": [],
   "source": [
    "# Parameter inputs\n",
    "r = 0.03  # risk-free rate\n",
    "K = 100.   # strike price\n",
    "λ = 0.4 # intensity rate of the Poisson process\n",
    "dim = 100_000  # number of simulation paths\n",
    "n = 252  # number of exercise rights per year\n",
    "n_chebyshev_pol = 100 # degree of chebyshev polynomials\n",
    "seed = 15_001  # random seed for reproducibility\n",
    "use_AV = True  # antithetic variates\n",
    "poly_degree = 3  # polynomial degree for LSM regression"
   ]
  },
  {
   "cell_type": "code",
   "execution_count": 3,
   "id": "d884a001-f571-4cf1-a7d6-e507f6cf7a0c",
   "metadata": {},
   "outputs": [],
   "source": [
    "# Option parameters\n",
    "S0_values = [90, 95, 100, 105, 110]\n",
    "σ_values = [0.20, 0.40]\n",
    "T_values = [1, 2]"
   ]
  },
  {
   "cell_type": "markdown",
   "id": "485aa59c-67e1-43de-bd43-db3956744c26",
   "metadata": {
    "tags": []
   },
   "source": [
    "## 2a) Black-Scholes <a class=\"anchor\" id=\"seconda-bullet\"></a>"
   ]
  },
  {
   "cell_type": "code",
   "execution_count": 6,
   "id": "194f6a7f-95e5-4a78-9221-5b0499075c35",
   "metadata": {},
   "outputs": [
    {
     "name": "stdout",
     "output_type": "stream",
     "text": [
      "S0/Sigma/T: 90/0.2/1, EUR Put: 11.4925, LSM: 12.1566, Premium: 0.6641, F.D.: 12.1630, s.e.: 0.0274, D.C.: 12.2697, s.e.: 0.0629\n",
      "S0/Sigma/T: 90/0.2/2, EUR Put: 12.5767, LSM: 13.7671, Premium: 1.1904, F.D.: 13.7741, s.e.: 0.0340, D.C.: 13.9227, s.e.: 0.0770\n",
      "S0/Sigma/T: 90/0.4/1, EUR Put: 18.6061, LSM: 19.0255, Premium: 0.4194, F.D.: 19.0261, s.e.: 0.0507, D.C.: 19.2287, s.e.: 0.0955\n",
      "S0/Sigma/T: 90/0.4/2, EUR Put: 22.6607, LSM: 23.5532, Premium: 0.8925, F.D.: 23.3660, s.e.: 0.0620, D.C.: 23.7807, s.e.: 0.1117\n",
      "S0/Sigma/T: 95/0.2/1, EUR Put: 8.7142, LSM: 9.1444, Premium: 0.4302, F.D.: 9.1538, s.e.: 0.0265, D.C.: 9.2923, s.e.: 0.0592\n",
      "S0/Sigma/T: 95/0.2/2, EUR Put: 10.2309, LSM: 11.0850, Premium: 0.8541, F.D.: 11.1041, s.e.: 0.0332, D.C.: 11.2800, s.e.: 0.0740\n",
      "S0/Sigma/T: 95/0.4/1, EUR Put: 16.2649, LSM: 16.5653, Premium: 0.3004, F.D.: 16.6079, s.e.: 0.0493, D.C.: 16.8376, s.e.: 0.0934\n",
      "S0/Sigma/T: 95/0.4/2, EUR Put: 20.6557, LSM: 21.3921, Premium: 0.7364, F.D.: 21.2829, s.e.: 0.0611, D.C.: 21.6767, s.e.: 0.1104\n",
      "S0/Sigma/T: 100/0.2/1, EUR Put: 6.4580, LSM: 6.7222, Premium: 0.2643, F.D.: 6.7428, s.e.: 0.0243, D.C.: 6.8998, s.e.: 0.0554\n",
      "S0/Sigma/T: 100/0.2/2, EUR Put: 8.2501, LSM: 8.8577, Premium: 0.6076, F.D.: 8.8864, s.e.: 0.0313, D.C.: 9.0798, s.e.: 0.0708\n",
      "S0/Sigma/T: 100/0.4/1, EUR Put: 14.1833, LSM: 14.4139, Premium: 0.2306, F.D.: 14.4636, s.e.: 0.0476, D.C.: 14.7120, s.e.: 0.0913\n",
      "S0/Sigma/T: 100/0.4/2, EUR Put: 18.8283, LSM: 19.4516, Premium: 0.6234, F.D.: 19.3854, s.e.: 0.0601, D.C.: 19.7633, s.e.: 0.1091\n",
      "S0/Sigma/T: 105/0.2/1, EUR Put: 4.6833, LSM: 4.8413, Premium: 0.1580, F.D.: 4.8659, s.e.: 0.0218, D.C.: 5.0203, s.e.: 0.0515\n",
      "S0/Sigma/T: 105/0.2/2, EUR Put: 6.6002, LSM: 7.0347, Premium: 0.4345, F.D.: 7.0635, s.e.: 0.0289, D.C.: 7.2640, s.e.: 0.0676\n",
      "S0/Sigma/T: 105/0.4/1, EUR Put: 12.3416, LSM: 12.5213, Premium: 0.1797, F.D.: 12.5710, s.e.: 0.0458, D.C.: 12.8213, s.e.: 0.0892\n",
      "S0/Sigma/T: 105/0.4/2, EUR Put: 17.1644, LSM: 17.7043, Premium: 0.5399, F.D.: 17.6589, s.e.: 0.0588, D.C.: 18.0223, s.e.: 0.1077\n",
      "S0/Sigma/T: 110/0.2/1, EUR Put: 3.3283, LSM: 3.4240, Premium: 0.0957, F.D.: 3.4440, s.e.: 0.0187, D.C.: 3.5920, s.e.: 0.0476\n",
      "S0/Sigma/T: 110/0.2/2, EUR Put: 5.2426, LSM: 5.5597, Premium: 0.3171, F.D.: 5.5799, s.e.: 0.0265, D.C.: 5.7758, s.e.: 0.0645\n",
      "S0/Sigma/T: 110/0.4/1, EUR Put: 10.7194, LSM: 10.8435, Premium: 0.1240, F.D.: 10.9075, s.e.: 0.0434, D.C.: 11.1731, s.e.: 0.0870\n",
      "S0/Sigma/T: 110/0.4/2, EUR Put: 15.6505, LSM: 16.1079, Premium: 0.4573, F.D.: 16.0895, s.e.: 0.0573, D.C.: 16.4494, s.e.: 0.1064\n"
     ]
    }
   ],
   "source": [
    "# Store results\n",
    "Results_BS = []\n",
    "\n",
    "# Store results\n",
    "Option_Pricing_Results_BS = []\n",
    "\n",
    "# Iterate over each combination of S, sigma, and T\n",
    "for S0 in S0_values:\n",
    "    for σ in σ_values:\n",
    "        for T in T_values:\n",
    "            # Create instance from class\n",
    "            MC_Option_Pricing_BS = MonteCarloOptionPricing(r, S0, K, T, σ, λ, dim, n, seed, use_AV)\n",
    "            \n",
    "            # 1) Calculate European Put using Black-Scholes\n",
    "            BS_Price = MC_Option_Pricing_BS.BS_option_value('put')\n",
    "            \n",
    "            # 2) Compute American Put using LSM\n",
    "            MC_Option_Pricing_BS.GeometricBrownianMotion_vec() # simulate GBM paths\n",
    "            American_put_price = MC_Option_Pricing_BS.american_option_LSM(poly_degree, otype='put') # price option\n",
    "            \n",
    "            # 3) Calculate premium\n",
    "            Option_Premium = American_put_price[0] - BS_Price \n",
    "            \n",
    "            # 4) Compute American Put using Implicit Finite Difference\n",
    "            Implicit_Finite_Difference = AmericanPutFiniteDifference(K, r, M = 1_000)\n",
    "            FD = Implicit_Finite_Difference.implicit_FD(S0, σ, T, 40_000)\n",
    "            \n",
    "            # 5) Compute American Put using Dynamic Chebyshev \n",
    "            DC_option_pricing = DynamicChebyshev(r, S0, K, T, σ, λ, dim, 32, n_chebyshev_pol, seed, use_AV)\n",
    "            \n",
    "            # a) offline phase\n",
    "            domain = DC_option_pricing.calculate_truncated_domain_GBM()\n",
    "            xknots = DC_option_pricing.calculate_nodal_points(domain)\n",
    "            BS = DC_option_pricing.generate_GBM_path(xknots)\n",
    "            Γ = DC_option_pricing.compute_generalized_moments(domain, xknots)\n",
    "\n",
    "            # b) online phase\n",
    "            DC = DC_option_pricing.price_option_with_dynamic_chebyshev(xknots, Γ)\n",
    "            \n",
    "            # 6) Store the results\n",
    "            Results_BS.append((S0, σ, T, BS_Price, American_put_price[0], Option_Premium, FD, American_put_price[3], DC[0], DC[1]))\n",
    "            \n",
    "            # Print\n",
    "            print(f'S0/Sigma/T: {S0}/{σ}/{T}, EUR Put: {BS_Price:.4f}, LSM: {American_put_price[0]:.4f}, Premium: {Option_Premium:.4f}, F.D.: {FD:.4f}, s.e.: {American_put_price[3]:.4f}, D.C.: {DC[0]:.4f}, s.e.: {DC[1]:.4f}')"
   ]
  },
  {
   "cell_type": "markdown",
   "id": "a0517fe5-dc35-44b4-87ed-21535ee87cc1",
   "metadata": {},
   "source": [
    "## 2b) Jump Merton <a class=\"anchor\" id=\"secondb-bullet\"></a>"
   ]
  },
  {
   "cell_type": "code",
   "execution_count": 4,
   "id": "a2269dfc-5467-45ef-bff6-0457b1bb14d2",
   "metadata": {},
   "outputs": [],
   "source": [
    "λ = 0.4 # intensity rate of the Poisson process\n",
    "α = -0.5 # Mean of log-normal jump size\n",
    "β = 0.4 # Volatility of log-normal jump size\n",
    "σ = 0.25 # diffusion parameter"
   ]
  },
  {
   "cell_type": "code",
   "execution_count": 8,
   "id": "ee34f679-bfe7-4077-b73c-e6f6635231f6",
   "metadata": {},
   "outputs": [
    {
     "name": "stdout",
     "output_type": "stream",
     "text": [
      "S0/Sigma/T: 90/1, EUR Put: 17.4123, LSM: 17.7160, D.C.: 20.4271\n",
      "S0/Sigma/T: 90/2, EUR Put: 22.3260, LSM: 23.3259, D.C.: 26.0414\n",
      "S0/Sigma/T: 95/1, EUR Put: 15.3938, LSM: 15.6155, D.C.: 18.3506\n",
      "S0/Sigma/T: 95/2, EUR Put: 20.6251, LSM: 21.5210, D.C.: 24.2490\n",
      "S0/Sigma/T: 100/1, EUR Put: 13.6913, LSM: 13.8622, D.C.: 16.5189\n",
      "S0/Sigma/T: 100/2, EUR Put: 19.1072, LSM: 19.8982, D.C.: 22.6149\n",
      "S0/Sigma/T: 105/1, EUR Put: 12.2571, LSM: 12.3934, D.C.: 14.9042\n",
      "S0/Sigma/T: 105/2, EUR Put: 17.7487, LSM: 18.4351, D.C.: 21.1430\n",
      "S0/Sigma/T: 110/1, EUR Put: 11.0457, LSM: 11.1449, D.C.: 13.4796\n",
      "S0/Sigma/T: 110/2, EUR Put: 16.5288, LSM: 17.1719, D.C.: 19.8019\n"
     ]
    }
   ],
   "source": [
    "# Store results\n",
    "Results_JM = []\n",
    "\n",
    "# Iterate over each combination of S and T\n",
    "for S0 in S0_values:\n",
    "    for T in T_values:\n",
    "        # Create instance from class\n",
    "        MC_Option_Pricing_JM = MonteCarloOptionPricing(r, S0, K, T, σ, λ, dim, n, seed, use_AV)\n",
    "\n",
    "        # 1) Calculate European Put using Jump Merton semi-closed solution\n",
    "        JumpMerton_price = MC_Option_Pricing_JM.merton_jump_option_value(α, β)\n",
    "\n",
    "        # 2) Compute American Put using LSM\n",
    "        MC_Option_Pricing_JM.MertonJumpDiffusion_vec(α, β) # simulate jump paths\n",
    "        American_put_price = MC_Option_Pricing_JM.american_option_LSM(poly_degree, otype='put') # price option\n",
    "\n",
    "        # 3) Calculate premium\n",
    "        Option_Premium = American_put_price[0] - JumpMerton_price \n",
    "\n",
    "        # 4) Compute American Put using Dynamic Chebyshev \n",
    "        DC_option_pricing = DynamicChebyshev(r, S0, K, T, σ, λ, dim, n, n_chebyshev_pol, seed, use_AV)\n",
    "        # a) offline phase\n",
    "        domain = DC_option_pricing.calculate_truncated_domain_JumpMerton(α, β)\n",
    "        xknots = DC_option_pricing.calculate_nodal_points(domain)\n",
    "        JM = DC_option_pricing.generate_Jump_path(xknots, α, β)\n",
    "        Γ = DC_option_pricing.compute_generalized_moments(domain,xknots)\n",
    "\n",
    "        # b) online phase\n",
    "        DC = DC_option_pricing.price_option_with_dynamic_chebyshev(xknots,Γ)\n",
    "\n",
    "        # 5) Store the results\n",
    "        Results_JM.append((S0, T, JumpMerton_price, American_put_price[0], Option_Premium, DC[0]))\n",
    "\n",
    "        # Print\n",
    "        print(f'S0/Sigma/T: {S0}/{T}, EUR Put: {JumpMerton_price:.4f}, LSM: {American_put_price[0]:.4f}, D.C.: {DC[0]:.4f}')"
   ]
  },
  {
   "cell_type": "markdown",
   "id": "438a2c93-a0ac-49b1-992c-0dbcdbd3e126",
   "metadata": {},
   "source": [
    "### 2b extra) Jump Merton (BAD TRUNCATION) <a class=\"anchor\" id=\"secondba-bullet\"></a>"
   ]
  },
  {
   "cell_type": "code",
   "execution_count": 9,
   "id": "f3aa5659-2f7f-4b5f-b72d-66158d480806",
   "metadata": {},
   "outputs": [
    {
     "name": "stdout",
     "output_type": "stream",
     "text": [
      "S0/Sigma/T: 90/1, EUR Put: 17.4123, LSM: 17.7160, D.C.: 15.6394\n",
      "S0/Sigma/T: 90/2, EUR Put: 22.3260, LSM: 23.3259, D.C.: 22.3241\n",
      "S0/Sigma/T: 95/1, EUR Put: 15.3938, LSM: 15.6155, D.C.: 13.2309\n",
      "S0/Sigma/T: 95/2, EUR Put: 20.6251, LSM: 21.5210, D.C.: 20.3239\n",
      "S0/Sigma/T: 100/1, EUR Put: 13.6913, LSM: 13.8622, D.C.: 11.1931\n",
      "S0/Sigma/T: 100/2, EUR Put: 19.1072, LSM: 19.8982, D.C.: 18.5193\n",
      "S0/Sigma/T: 105/1, EUR Put: 12.2571, LSM: 12.3934, D.C.: 9.4750\n",
      "S0/Sigma/T: 105/2, EUR Put: 17.7487, LSM: 18.4351, D.C.: 16.8955\n",
      "S0/Sigma/T: 110/1, EUR Put: 11.0457, LSM: 11.1449, D.C.: 8.0276\n",
      "S0/Sigma/T: 110/2, EUR Put: 16.5288, LSM: 17.1719, D.C.: 15.4205\n"
     ]
    }
   ],
   "source": [
    "# Store results\n",
    "Results_JM = []\n",
    "\n",
    "# Iterate over each combination of S and T\n",
    "for S0 in S0_values:\n",
    "    for T in T_values:\n",
    "        # Create instance from class\n",
    "        MC_Option_Pricing_JM = MonteCarloOptionPricing(r, S0, K, T, σ, λ, dim, n, seed, use_AV)\n",
    "\n",
    "        # 1) Calculate European Put using Jump Merton semi-closed solution\n",
    "        JumpMerton_price = MC_Option_Pricing_JM.merton_jump_option_value(α, β)\n",
    "\n",
    "        # 2) Compute American Put using LSM\n",
    "        MC_Option_Pricing_JM.MertonJumpDiffusion_vec(α, β) # simulate jump paths\n",
    "        American_put_price = MC_Option_Pricing_JM.american_option_LSM(poly_degree, otype='put') # price option\n",
    "\n",
    "        # 3) Calculate premium\n",
    "        Option_Premium = American_put_price[0] - JumpMerton_price \n",
    "\n",
    "        # 4) Compute American Put using Dynamic Chebyshev \n",
    "        DC_option_pricing = DynamicChebyshev(r, S0, K, T, σ, λ, dim, n, n_chebyshev_pol, seed, use_AV)\n",
    "        # a) offline phase\n",
    "        domain = DC_option_pricing.calculate_truncated_domain_GBM()\n",
    "        xknots = DC_option_pricing.calculate_nodal_points(domain)\n",
    "        JM = DC_option_pricing.generate_Jump_path(xknots, α, β)\n",
    "        Γ = DC_option_pricing.compute_generalized_moments(domain,xknots)\n",
    "\n",
    "        # b) online phase\n",
    "        DC = DC_option_pricing.price_option_with_dynamic_chebyshev(xknots,Γ)\n",
    "\n",
    "        # 5) Store the results\n",
    "        Results_JM.append((S0, T, JumpMerton_price, American_put_price[0], Option_Premium, DC[0]))\n",
    "\n",
    "        # Print\n",
    "        print(f'S0/Sigma/T: {S0}/{T}, EUR Put: {JumpMerton_price:.4f}, LSM: {American_put_price[0]:.4f}, D.C.: {DC[0]:.4f}')"
   ]
  },
  {
   "cell_type": "markdown",
   "id": "1d15eb99-b47d-44c8-95e5-8d3eeb9c32c7",
   "metadata": {},
   "source": [
    "## 2c) Constant Elasticity of Variance (CEV) <a class=\"anchor\" id=\"secondc-bullet\"></a>"
   ]
  },
  {
   "cell_type": "code",
   "execution_count": 5,
   "id": "40e6eae9-a0a2-4a7d-b0f7-5d96c45aece6",
   "metadata": {},
   "outputs": [],
   "source": [
    "γ = 1.5 # parameter governing elasticity with respect to price, if set = 2 then we obtain BS prices"
   ]
  },
  {
   "cell_type": "code",
   "execution_count": 11,
   "id": "e136eac5-1669-4757-acca-c2189cb9c092",
   "metadata": {},
   "outputs": [
    {
     "name": "stdout",
     "output_type": "stream",
     "text": [
      "S0/Sigma/T: 90/1, LSM: 9.9881, D.C.: 11.4798\n",
      "S0/Sigma/T: 90/2, LSM: 9.9762, D.C.: 12.7280\n",
      "S0/Sigma/T: 95/1, LSM: 5.1661, D.C.: 8.3407\n",
      "S0/Sigma/T: 95/2, LSM: 5.3761, D.C.: 9.9463\n",
      "S0/Sigma/T: 100/1, LSM: 2.1379, D.C.: 5.8836\n",
      "S0/Sigma/T: 100/2, LSM: 2.6115, D.C.: 7.6823\n",
      "S0/Sigma/T: 105/1, LSM: 0.7258, D.C.: 4.0348\n",
      "S0/Sigma/T: 105/2, LSM: 1.1687, D.C.: 5.8856\n",
      "S0/Sigma/T: 110/1, LSM: 0.2001, D.C.: 2.6916\n",
      "S0/Sigma/T: 110/2, LSM: 0.4747, D.C.: 4.4581\n"
     ]
    }
   ],
   "source": [
    "# Store results\n",
    "Results_CEV = []\n",
    "\n",
    "# Iterate over each combination of S and T\n",
    "for S0 in S0_values:\n",
    "    for T in T_values:\n",
    "        # Create instance from class\n",
    "        MC_Option_Pricing_CEV = MonteCarloOptionPricing(r, S0, K, T, σ, λ, dim, n, seed, use_AV)\n",
    "\n",
    "        # 1) Compute American Put using LSM\n",
    "        MC_Option_Pricing_CEV.CEV(γ) # simulate CEV paths\n",
    "        American_put_price = MC_Option_Pricing_CEV.american_option_LSM(poly_degree, otype='put') # price option\n",
    "\n",
    "        # 2) Compute American Put using Dynamic Chebyshev\n",
    "        DC_option_pricing = DynamicChebyshev(r, S0, K, T, σ, λ, dim, 32, n_chebyshev_pol, seed, use_AV)\n",
    "        # a) offline phase\n",
    "        domain = DC_option_pricing.calculate_truncated_domain_GBM()\n",
    "        xknots = DC_option_pricing.calculate_nodal_points(domain)\n",
    "        CEV = DC_option_pricing.generate_CEV_path(xknots, γ)\n",
    "        Γ = DC_option_pricing.compute_generalized_moments(domain, xknots)\n",
    "\n",
    "        # b) online phase\n",
    "        DC = DC_option_pricing.price_option_with_dynamic_chebyshev(xknots, Γ)\n",
    "\n",
    "        # 3) Store the results\n",
    "        Results_CEV.append((S0, σ, T, American_put_price[0], DC[0]))\n",
    "\n",
    "        # Print\n",
    "        print(f'S0/Sigma/T: {S0}/{T}, LSM: {American_put_price[0]:.4f}, D.C.: {DC[0]:.4f}')"
   ]
  },
  {
   "cell_type": "code",
   "execution_count": null,
   "id": "d6ef5f74-0982-4559-a1fd-2a7f0745087f",
   "metadata": {},
   "outputs": [],
   "source": []
  }
 ],
 "metadata": {
  "kernelspec": {
   "display_name": "Python 3 (ipykernel)",
   "language": "python",
   "name": "python3"
  },
  "language_info": {
   "codemirror_mode": {
    "name": "ipython",
    "version": 3
   },
   "file_extension": ".py",
   "mimetype": "text/x-python",
   "name": "python",
   "nbconvert_exporter": "python",
   "pygments_lexer": "ipython3",
   "version": "3.9.12"
  }
 },
 "nbformat": 4,
 "nbformat_minor": 5
}
