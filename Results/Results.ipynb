{
 "cells": [
  {
   "cell_type": "markdown",
   "id": "d7942cf2-db0c-43b7-aae4-8fa13ace1d50",
   "metadata": {},
   "source": [
    "# Results"
   ]
  },
  {
   "cell_type": "markdown",
   "id": "c0f439b3-c597-4134-be53-17bbc188f66d",
   "metadata": {},
   "source": [
    "## Table of Contents\n",
    "* [1)*American Put Prices* Applying Least-Square Monte Carlo with Longstaff-Schwartz Parameters](#first-bullet)\n",
    "    - [1a) Black-Scholes (*Akin to Table 1 in Longstaff-Schwartz*)](#firsta-bullet)\n",
    "    - [1b) Jump Merton](#firstb-bullet)\n",
    "    - [1c) Constant Elasticity of Variance (CEV)](#firstc-bullet)\n",
    "* [2) *American Put Prices* Applying Least-Square Monte Carlo with Our Own Parameter Values](#second-bullet)\n",
    "    - [2a) Black-Scholes](#seconda-bullet)\n",
    "    - [2b) Jump Merton](#secondb-bullet)\n",
    "    - [2c) Constant Elasticity of Variance (CEV)](#secondc-bullet)"
   ]
  },
  {
   "cell_type": "markdown",
   "id": "dd33b3a8-0512-469a-9109-eae22e4e2935",
   "metadata": {},
   "source": [
    "## Setup"
   ]
  },
  {
   "cell_type": "code",
   "execution_count": 19,
   "id": "e6fa62cb-125b-470c-adf6-1a8906847242",
   "metadata": {},
   "outputs": [
    {
     "name": "stdout",
     "output_type": "stream",
     "text": [
      "The autoreload extension is already loaded. To reload it, use:\n",
      "  %reload_ext autoreload\n"
     ]
    }
   ],
   "source": [
    "%load_ext autoreload\n",
    "%autoreload 2\n",
    "\n",
    "import numpy as np\n",
    "import matplotlib.pyplot as plt\n",
    "import os\n",
    "\n",
    "# local\n",
    "from DC import DynamicChebyshev\n",
    "from LSM import MonteCarloOptionPricing\n",
    "from FD import AmericanPutFiniteDifference"
   ]
  },
  {
   "cell_type": "markdown",
   "id": "a3781ed2-6b66-4db7-94f6-862c8ba88125",
   "metadata": {},
   "source": [
    "## 1) *American Put Prices* Applying Least-Square Monte Carlo with Longstaff-Schwartz Parameters <a class=\"anchor\" id=\"first-bullet\"></a>\n",
    "The simulation is based on 100,000 (50,000 plus 50,000 antithetic) paths for the stock price."
   ]
  },
  {
   "cell_type": "code",
   "execution_count": 20,
   "id": "020ce567-efde-48d0-8c61-0b34d4c81223",
   "metadata": {},
   "outputs": [],
   "source": [
    "# Parameter inputs\n",
    "r = 0.06  # risk-free rate\n",
    "K = 40.   # strike price\n",
    "λ = 0.4 # intensity rate of the Poisson process\n",
    "dim = 10_000  # number of simulation paths\n",
    "n = 50  # number of exercise rights per year\n",
    "seed = 15001  # random seed for reproducibility\n",
    "n_chebyshev_pol = 100\n",
    "use_AV = True  # antithetic variates\n",
    "poly_degree = 3  # polynomial degree for LSM regression"
   ]
  },
  {
   "cell_type": "code",
   "execution_count": 21,
   "id": "d4eac0d9-3285-4060-a307-7c2095da3979",
   "metadata": {},
   "outputs": [],
   "source": [
    "# Varying option parameters\n",
    "S0_values = [36, 38, 40, 42, 44]\n",
    "σ_values = [0.20, 0.40]\n",
    "T_values = [1, 2]"
   ]
  },
  {
   "cell_type": "markdown",
   "id": "9993aa54-7826-43d7-a446-29b30807ff7d",
   "metadata": {},
   "source": [
    "### 1a) Black-Scholes (*Akin to Table 1 in Longstaff-Schwartz*) <a class=\"anchor\" id=\"firsta-bullet\"></a>\n"
   ]
  },
  {
   "cell_type": "code",
   "execution_count": 22,
   "id": "7cdebacf-b9f7-4c10-bb4e-9dd3bfcb4aa6",
   "metadata": {},
   "outputs": [
    {
     "name": "stdout",
     "output_type": "stream",
     "text": [
      "S0/Sigma/T: 36/0.2/1, EUR Put: 3.8443, LSM: 4.4760, Premium: 0.6317, F.D.: 4.4650, s.e.: 0.0291, D.C.: 4.5445, s.e.: 0.0772\n",
      "S0/Sigma/T: 36/0.2/2, EUR Put: 3.7630, LSM: 4.8401, Premium: 1.0771, F.D.: 4.8114, s.e.: 0.0358, D.C.: 4.9248, s.e.: 0.0934\n",
      "S0/Sigma/T: 36/0.4/1, EUR Put: 6.7114, LSM: 7.0991, Premium: 0.3877, F.D.: 7.0754, s.e.: 0.0614, D.C.: 7.2365, s.e.: 0.1195\n",
      "S0/Sigma/T: 36/0.4/2, EUR Put: 7.7000, LSM: 8.4803, Premium: 0.7802, F.D.: 8.3893, s.e.: 0.0728, D.C.: 8.6651, s.e.: 0.1397\n",
      "S0/Sigma/T: 38/0.2/1, EUR Put: 2.8519, LSM: 3.2598, Premium: 0.4079, F.D.: 3.2368, s.e.: 0.0309, D.C.: 3.3359, s.e.: 0.0723\n",
      "S0/Sigma/T: 38/0.2/2, EUR Put: 2.9906, LSM: 3.7552, Premium: 0.7646, F.D.: 3.7185, s.e.: 0.0361, D.C.: 3.8472, s.e.: 0.0891\n",
      "S0/Sigma/T: 38/0.4/1, EUR Put: 5.8343, LSM: 6.1525, Premium: 0.3182, F.D.: 6.1224, s.e.: 0.0601, D.C.: 6.2928, s.e.: 0.1168\n",
      "S0/Sigma/T: 38/0.4/2, EUR Put: 6.9788, LSM: 7.6809, Premium: 0.7021, F.D.: 7.5687, s.e.: 0.0723, D.C.: 7.8383, s.e.: 0.1380\n",
      "S0/Sigma/T: 40/0.2/1, EUR Put: 2.0664, LSM: 2.3336, Premium: 0.2672, F.D.: 2.3014, s.e.: 0.0276, D.C.: 2.4050, s.e.: 0.0672\n",
      "S0/Sigma/T: 40/0.2/2, EUR Put: 2.3559, LSM: 2.8966, Premium: 0.5408, F.D.: 2.8612, s.e.: 0.0338, D.C.: 2.9935, s.e.: 0.0848\n",
      "S0/Sigma/T: 40/0.4/1, EUR Put: 5.0596, LSM: 5.3158, Premium: 0.2561, F.D.: 5.2877, s.e.: 0.0570, D.C.: 5.4685, s.e.: 0.1140\n",
      "S0/Sigma/T: 40/0.4/2, EUR Put: 6.3260, LSM: 6.9236, Premium: 0.5976, F.D.: 6.8320, s.e.: 0.0703, D.C.: 7.0961, s.e.: 0.1361\n",
      "S0/Sigma/T: 42/0.2/1, EUR Put: 1.4645, LSM: 1.6275, Premium: 0.1630, F.D.: 1.6061, s.e.: 0.0238, D.C.: 1.7058, s.e.: 0.0621\n",
      "S0/Sigma/T: 42/0.2/2, EUR Put: 1.8414, LSM: 2.2382, Premium: 0.3969, F.D.: 2.1921, s.e.: 0.0308, D.C.: 2.3224, s.e.: 0.0805\n",
      "S0/Sigma/T: 42/0.4/1, EUR Put: 4.3787, LSM: 4.5866, Premium: 0.2078, F.D.: 4.5596, s.e.: 0.0540, D.C.: 4.7427, s.e.: 0.1112\n",
      "S0/Sigma/T: 42/0.4/2, EUR Put: 5.7356, LSM: 6.2448, Premium: 0.5092, F.D.: 6.1707, s.e.: 0.0679, D.C.: 6.4286, s.e.: 0.1343\n",
      "S0/Sigma/T: 44/0.2/1, EUR Put: 1.0169, LSM: 1.1092, Premium: 0.0923, F.D.: 1.1015, s.e.: 0.0205, D.C.: 1.1901, s.e.: 0.0570\n",
      "S0/Sigma/T: 44/0.2/2, EUR Put: 1.4292, LSM: 1.7007, Premium: 0.2715, F.D.: 1.6728, s.e.: 0.0276, D.C.: 1.7957, s.e.: 0.0762\n",
      "S0/Sigma/T: 44/0.4/1, EUR Put: 3.7828, LSM: 3.9498, Premium: 0.1670, F.D.: 3.9265, s.e.: 0.0511, D.C.: 4.1054, s.e.: 0.1083\n",
      "S0/Sigma/T: 44/0.4/2, EUR Put: 5.2020, LSM: 5.6292, Premium: 0.4272, F.D.: 5.5769, s.e.: 0.0658, D.C.: 5.8273, s.e.: 0.1325\n"
     ]
    }
   ],
   "source": [
    "# Store results\n",
    "Option_Pricing_Results_BS = []\n",
    "\n",
    "# Iterate over each combination of S, sigma, and T\n",
    "for S0 in S0_values:\n",
    "    for σ in σ_values:\n",
    "        for T in T_values:\n",
    "            # Create instance from class\n",
    "            MC_Option_Pricing_BS = MonteCarloOptionPricing(r, S0, K, T, σ, λ, dim, n, seed, use_AV)\n",
    "            \n",
    "            # 1) Calculate European Put using Black-Scholes\n",
    "            BS_Price = MC_Option_Pricing_BS.BS_option_value('put')\n",
    "            \n",
    "            # 2) Compute American Put using LSM\n",
    "            MC_Option_Pricing_BS.GeometricBrownianMotion_vec() # simulate GBM paths\n",
    "            American_put_price = MC_Option_Pricing_BS.american_option_LSM(poly_degree, otype='put') # price option\n",
    "            \n",
    "            # 3) Calculate premium\n",
    "            Option_Premium = American_put_price[0] - BS_Price \n",
    "            \n",
    "            # 4) Compute American Put using Implicit Finite Difference\n",
    "            Implicit_Finite_Difference = AmericanPutFiniteDifference(K, r, M = 1_000)\n",
    "            FD = Implicit_Finite_Difference.implicit_FD(S0, σ, T, N=n)\n",
    "            \n",
    "            # 5) Compute American Put using Dynamic Chebyshev \n",
    "            DC_option_pricing = DynamicChebyshev(r, S0, K, T, σ, λ, dim, n, n_chebyshev_pol, seed, use_AV)\n",
    "            \n",
    "            # a) offline phase\n",
    "            domain = DC_option_pricing.calculate_truncated_domain_GBM()\n",
    "            xknots = DC_option_pricing.calculate_nodal_points(domain)\n",
    "            BS = DC_option_pricing.generate_GBM_path(xknots)\n",
    "            Γ = DC_option_pricing.compute_generalized_moments(domain, xknots)\n",
    "\n",
    "            # b) online phase\n",
    "            DC = DC_option_pricing.price_option_with_dynamic_chebyshev(xknots, Γ)\n",
    "            \n",
    "            # 6) Store the results\n",
    "            Option_Pricing_Results_BS.append((S0, σ, T, BS_Price, American_put_price[0], Option_Premium, FD, American_put_price[3], DC[0], DC[1]))\n",
    "            \n",
    "            # Print\n",
    "            print(f'S0/Sigma/T: {S0}/{σ}/{T}, EUR Put: {BS_Price:.4f}, LSM: {American_put_price[0]:.4f}, Premium: {Option_Premium:.4f}, F.D.: {FD:.4f}, s.e.: {American_put_price[3]:.4f}, D.C.: {DC[0]:.4f}, s.e.: {DC[1]:.4f}')"
   ]
  },
  {
   "cell_type": "markdown",
   "id": "e10d8ccf-2158-431a-8dbf-21a6c1959911",
   "metadata": {},
   "source": [
    "### 1b) Jump Merton <a class=\"anchor\" id=\"firstb-bullet\"></a>"
   ]
  },
  {
   "cell_type": "code",
   "execution_count": 23,
   "id": "143eafe4-164a-4137-90c1-55dab4e11609",
   "metadata": {},
   "outputs": [],
   "source": [
    "λ = 0.4 # intensity rate of the Poisson process\n",
    "α = -0.5 # Mean of log-normal jump size\n",
    "β = 0.4 # Volatility of log-normal jump size"
   ]
  },
  {
   "cell_type": "code",
   "execution_count": 24,
   "id": "08f1a1fa-19f7-4531-a217-841909be7027",
   "metadata": {},
   "outputs": [
    {
     "name": "stdout",
     "output_type": "stream",
     "text": [
      "S0/Sigma/T: 36/0.2/1, EUR Put: 5.7636, LSM: 6.2070, Premium: 0.4434, D.C.: 6.8556\n",
      "S0/Sigma/T: 36/0.2/2, EUR Put: 7.1273, LSM: 8.1578, Premium: 1.0305, D.C.: 8.6021\n",
      "S0/Sigma/T: 36/0.4/1, EUR Put: 8.0853, LSM: 8.5250, Premium: 0.4396, D.C.: 9.8797\n",
      "S0/Sigma/T: 36/0.4/2, EUR Put: 9.8050, LSM: 10.7811, Premium: 0.9761, D.C.: 12.0403\n",
      "S0/Sigma/T: 38/0.2/1, EUR Put: 5.0684, LSM: 5.4040, Premium: 0.3356, D.C.: 6.0276\n",
      "S0/Sigma/T: 38/0.2/2, EUR Put: 6.5609, LSM: 7.5066, Premium: 0.9457, D.C.: 7.8989\n",
      "S0/Sigma/T: 38/0.4/1, EUR Put: 7.3232, LSM: 7.7162, Premium: 0.3930, D.C.: 9.1396\n",
      "S0/Sigma/T: 38/0.4/2, EUR Put: 9.1839, LSM: 10.0724, Premium: 0.8885, D.C.: 11.3532\n",
      "S0/Sigma/T: 40/0.2/1, EUR Put: 4.5068, LSM: 4.7774, Premium: 0.2706, D.C.: 5.3177\n",
      "S0/Sigma/T: 40/0.2/2, EUR Put: 6.0619, LSM: 6.9193, Premium: 0.8574, D.C.: 7.2888\n",
      "S0/Sigma/T: 40/0.4/1, EUR Put: 6.6461, LSM: 7.0019, Premium: 0.3558, D.C.: 8.4338\n",
      "S0/Sigma/T: 40/0.4/2, EUR Put: 8.6154, LSM: 9.4270, Premium: 0.8115, D.C.: 10.7300\n",
      "S0/Sigma/T: 42/0.2/1, EUR Put: 4.0494, LSM: 4.2979, Premium: 0.2485, D.C.: 4.7090\n",
      "S0/Sigma/T: 42/0.2/2, EUR Put: 5.6189, LSM: 6.4151, Premium: 0.7962, D.C.: 6.7451\n",
      "S0/Sigma/T: 42/0.4/1, EUR Put: 6.0448, LSM: 6.3677, Premium: 0.3229, D.C.: 7.7786\n",
      "S0/Sigma/T: 42/0.4/2, EUR Put: 8.0946, LSM: 8.8609, Premium: 0.7664, D.C.: 10.1922\n",
      "S0/Sigma/T: 44/0.2/1, EUR Put: 3.6710, LSM: 3.8963, Premium: 0.2252, D.C.: 4.2231\n",
      "S0/Sigma/T: 44/0.2/2, EUR Put: 5.2229, LSM: 5.9829, Premium: 0.7600, D.C.: 6.2593\n",
      "S0/Sigma/T: 44/0.4/1, EUR Put: 5.5109, LSM: 5.7779, Premium: 0.2670, D.C.: 7.2266\n",
      "S0/Sigma/T: 44/0.4/2, EUR Put: 7.6165, LSM: 8.3336, Premium: 0.7171, D.C.: 9.6772\n"
     ]
    }
   ],
   "source": [
    "# Store results\n",
    "Option_Pricing_Results_JM = []\n",
    "\n",
    "# Iterate over each combination of S, sigma, and T\n",
    "for S0 in S0_values:\n",
    "    for σ in σ_values:\n",
    "        for T in T_values:\n",
    "            # Create instance from class\n",
    "            MC_Option_Pricing_JM = MonteCarloOptionPricing(r, S0, K, T, σ, λ, dim, n, seed, use_AV)\n",
    "            \n",
    "            # 1) Calculate European Put using Jump Merton semi-closed solution\n",
    "            JumpMerton_price = MC_Option_Pricing_JM.merton_jump_option_value(α, β)\n",
    "            \n",
    "            # 2) Compute American Put using LSM\n",
    "            MC_Option_Pricing_JM.MertonJumpDiffusion_vec(α, β) # simulate jump paths\n",
    "            American_put_price = MC_Option_Pricing_JM.american_option_LSM(poly_degree, otype='put') # price option\n",
    "            \n",
    "            # 3) Calculate premium\n",
    "            Option_Premium = American_put_price[0] - JumpMerton_price \n",
    "            \n",
    "            # 4) Compute American Put using Dynamic Chebyshev \n",
    "            DC_option_pricing = DynamicChebyshev(r, S0, K, T, σ, λ, dim, n, n_chebyshev_pol, seed, use_AV)\n",
    "            # a) offline phase\n",
    "            domain = DC_option_pricing.calculate_truncated_domain_JumpMerton(α, β)\n",
    "            xknots = DC_option_pricing.calculate_nodal_points(domain)\n",
    "            JM = DC_option_pricing.generate_Jump_path(xknots, α, β)\n",
    "            Γ = DC_option_pricing.compute_generalized_moments(domain,xknots)\n",
    "\n",
    "            # b) online phase\n",
    "            DC = DC_option_pricing.price_option_with_dynamic_chebyshev(xknots,Γ)\n",
    "            \n",
    "            # 5) Store the results\n",
    "            Option_Pricing_Results_JM.append((S0, σ, T, JumpMerton_price, American_put_price[0], Option_Premium, DC[0]))\n",
    "            \n",
    "            # Print\n",
    "            print(f'S0/Sigma/T: {S0}/{σ}/{T}, EUR Put: {JumpMerton_price:.4f}, LSM: {American_put_price[0]:.4f}, Premium: {Option_Premium:.4f}, D.C.: {DC[0]:.4f}')"
   ]
  },
  {
   "cell_type": "markdown",
   "id": "3bc0d3de-84d3-4cb8-9977-ebc3c611080b",
   "metadata": {},
   "source": [
    "### 1c) Constant Elasticity of Variance (CEV) <a class=\"anchor\" id=\"firstc-bullet\"></a>"
   ]
  },
  {
   "cell_type": "code",
   "execution_count": 25,
   "id": "3d4de9fe-9989-4fb5-a13b-8fa32d0269b0",
   "metadata": {},
   "outputs": [],
   "source": [
    "γ = 1.5 # parameter governing elasticity with respect to price, if set = 2 then we obtain BS prices"
   ]
  },
  {
   "cell_type": "code",
   "execution_count": 26,
   "id": "8cecbcf9-0b08-4a67-9606-e8d428240299",
   "metadata": {},
   "outputs": [
    {
     "name": "stdout",
     "output_type": "stream",
     "text": [
      "S0/Sigma/T: 36/0.2/1, LSM: 3.9521, D.C.: 4.0606\n",
      "S0/Sigma/T: 36/0.2/2, LSM: 3.9042, D.C.: 4.1675\n",
      "S0/Sigma/T: 36/0.4/1, LSM: 4.0818, D.C.: 5.7912\n",
      "S0/Sigma/T: 36/0.4/2, LSM: 4.2452, D.C.: 6.6713\n",
      "S0/Sigma/T: 38/0.2/1, LSM: 1.9563, D.C.: 2.6215\n",
      "S0/Sigma/T: 38/0.2/2, LSM: 1.9376, D.C.: 2.8772\n",
      "S0/Sigma/T: 38/0.4/1, LSM: 2.7075, D.C.: 4.7465\n",
      "S0/Sigma/T: 38/0.4/2, LSM: 3.0111, D.C.: 5.7437\n",
      "S0/Sigma/T: 40/0.2/1, LSM: 0.6246, D.C.: 1.6299\n",
      "S0/Sigma/T: 40/0.2/2, LSM: 0.6965, D.C.: 1.9655\n",
      "S0/Sigma/T: 40/0.4/1, LSM: 1.7271, D.C.: 3.8732\n",
      "S0/Sigma/T: 40/0.4/2, LSM: 2.0944, D.C.: 4.9426\n",
      "S0/Sigma/T: 42/0.2/1, LSM: 0.1642, D.C.: 0.9772\n",
      "S0/Sigma/T: 42/0.2/2, LSM: 0.2336, D.C.: 1.3288\n",
      "S0/Sigma/T: 42/0.4/1, LSM: 1.0499, D.C.: 3.1390\n",
      "S0/Sigma/T: 42/0.4/2, LSM: 1.4388, D.C.: 4.2503\n",
      "S0/Sigma/T: 44/0.2/1, LSM: 0.0359, D.C.: 0.5641\n",
      "S0/Sigma/T: 44/0.2/2, LSM: 0.0729, D.C.: 0.8894\n",
      "S0/Sigma/T: 44/0.4/1, LSM: 0.6016, D.C.: 2.5261\n",
      "S0/Sigma/T: 44/0.4/2, LSM: 0.9627, D.C.: 3.6511\n"
     ]
    }
   ],
   "source": [
    "# Store results\n",
    "Option_Pricing_Results_CEV = []\n",
    "\n",
    "# Iterate over each combination of S, sigma, and T\n",
    "for S0 in S0_values:\n",
    "    for σ in σ_values:\n",
    "        for T in T_values:\n",
    "            # Create instance from class\n",
    "            MC_Option_Pricing_CEV = MonteCarloOptionPricing(r, S0, K, T, σ, λ, dim, n, seed, use_AV)\n",
    "            \n",
    "            # 1) Compute American Put using LSM\n",
    "            MC_Option_Pricing_CEV.CEV(γ) # simulate CEV paths\n",
    "            American_put_price = MC_Option_Pricing_CEV.american_option_LSM(poly_degree, otype='put') # price option\n",
    "            \n",
    "            # 2) Compute American Put using Dynamic Chebyshev\n",
    "            DC_option_pricing = DynamicChebyshev(r, S0, K, T, σ, λ, dim, n, n_chebyshev_pol, seed, use_AV)\n",
    "            # a) offline phase\n",
    "            domain = DC_option_pricing.calculate_truncated_domain_GBM()\n",
    "            xknots = DC_option_pricing.calculate_nodal_points(domain)\n",
    "            CEV = DC_option_pricing.generate_CEV_path(xknots, γ)\n",
    "            Γ = DC_option_pricing.compute_generalized_moments(domain, xknots)\n",
    "\n",
    "            # b) online phase\n",
    "            DC = DC_option_pricing.price_option_with_dynamic_chebyshev(xknots, Γ)\n",
    "            \n",
    "            # 3) Store the results\n",
    "            Option_Pricing_Results_CEV.append((S0, σ, T, American_put_price[0], DC[0]))\n",
    "            \n",
    "            # Print\n",
    "            print(f'S0/Sigma/T: {S0}/{σ}/{T}, LSM: {American_put_price[0]:.4f}, D.C.: {DC[0]:.4f}')"
   ]
  },
  {
   "cell_type": "markdown",
   "id": "8609c565-7d30-4b32-8132-d81fa9b11e98",
   "metadata": {},
   "source": [
    "## 2) *American Put Prices* Applying Least-Square Monte Carlo with Our Own Parameter Values <a class=\"anchor\" id=\"second-bullet\"></a>\n",
    "The simulation is based on 100,000 (50,000 plus 50,000 antithetic) paths for the stock price."
   ]
  },
  {
   "cell_type": "code",
   "execution_count": 27,
   "id": "febfde22-9651-41a6-94c5-c134d2c93dd0",
   "metadata": {},
   "outputs": [],
   "source": [
    "# Parameter inputs\n",
    "r = 0.04  # risk-free rate\n",
    "K = 100.   # strike price\n",
    "λ = 0.4 # intensity rate of the Poisson process\n",
    "dim = 1_000  # number of simulation paths\n",
    "n = 50  # number of exercise rights per year\n",
    "seed = 15001  # random seed for reproducibility\n",
    "use_AV = True  # antithetic variates\n",
    "poly_degree = 3  # polynomial degree for LSM regression"
   ]
  },
  {
   "cell_type": "code",
   "execution_count": 28,
   "id": "d884a001-f571-4cf1-a7d6-e507f6cf7a0c",
   "metadata": {},
   "outputs": [],
   "source": [
    "# Option parameters\n",
    "S0_values = [90, 95, 100, 105, 110]\n",
    "σ_values = [0.20, 0.40]\n",
    "T_values = [1, 2]"
   ]
  },
  {
   "cell_type": "markdown",
   "id": "485aa59c-67e1-43de-bd43-db3956744c26",
   "metadata": {
    "tags": []
   },
   "source": [
    "## 2a) Black-Scholes <a class=\"anchor\" id=\"seconda-bullet\"></a>"
   ]
  },
  {
   "cell_type": "code",
   "execution_count": 29,
   "id": "194f6a7f-95e5-4a78-9221-5b0499075c35",
   "metadata": {},
   "outputs": [
    {
     "name": "stdout",
     "output_type": "stream",
     "text": [
      "S0/Sigma/T: 90/0.2/1, EUR Put: 10.8414, LSM: 11.9158, Premium: 1.0744, F.D.: 11.7637, s.e.: 0.2711, D.C.: 11.9093, s.e.: 0.6232\n",
      "S0/Sigma/T: 90/0.2/2, EUR Put: 11.4484, LSM: 13.0711, Premium: 1.6227, F.D.: 13.0708, s.e.: 0.3303, D.C.: 13.2832, s.e.: 0.7600\n",
      "S0/Sigma/T: 90/0.4/1, EUR Put: 17.9818, LSM: 18.2961, Premium: 0.3143, F.D.: 18.5139, s.e.: 0.5135, D.C.: 18.7789, s.e.: 0.9514\n",
      "S0/Sigma/T: 90/0.4/2, EUR Put: 21.4763, LSM: 22.4897, Premium: 1.0134, F.D.: 22.4386, s.e.: 0.6211, D.C.: 22.9933, s.e.: 1.1125\n",
      "S0/Sigma/T: 95/0.2/1, EUR Put: 8.1618, LSM: 8.7700, Premium: 0.6082, F.D.: 8.7437, s.e.: 0.2618, D.C.: 8.9148, s.e.: 0.5853\n",
      "S0/Sigma/T: 95/0.2/2, EUR Put: 9.2425, LSM: 10.3594, Premium: 1.1169, F.D.: 10.3942, s.e.: 0.3262, D.C.: 10.6283, s.e.: 0.7282\n",
      "S0/Sigma/T: 95/0.4/1, EUR Put: 15.6903, LSM: 15.8683, Premium: 0.1780, F.D.: 16.1098, s.e.: 0.4803, D.C.: 16.3971, s.e.: 0.9304\n",
      "S0/Sigma/T: 95/0.4/2, EUR Put: 19.5394, LSM: 20.2437, Premium: 0.7043, F.D.: 20.3707, s.e.: 0.5958, D.C.: 20.8977, s.e.: 1.0994\n",
      "S0/Sigma/T: 100/0.2/1, EUR Put: 6.0040, LSM: 6.4612, Premium: 0.4572, F.D.: 6.3640, s.e.: 0.2594, D.C.: 6.5396, s.e.: 0.5466\n",
      "S0/Sigma/T: 100/0.2/2, EUR Put: 7.3963, LSM: 8.2445, Premium: 0.8481, F.D.: 8.2119, s.e.: 0.3084, D.C.: 8.4499, s.e.: 0.6960\n",
      "S0/Sigma/T: 100/0.4/1, EUR Put: 13.6572, LSM: 13.9564, Premium: 0.2992, F.D.: 13.9875, s.e.: 0.5004, D.C.: 14.2761, s.e.: 0.9091\n",
      "S0/Sigma/T: 100/0.4/2, EUR Put: 17.7780, LSM: 18.7606, Premium: 0.9826, F.D.: 18.4965, s.e.: 0.6166, D.C.: 19.0028, s.e.: 1.0859\n",
      "S0/Sigma/T: 105/0.2/1, EUR Put: 4.3213, LSM: 4.6752, Premium: 0.3539, F.D.: 4.5405, s.e.: 0.2160, D.C.: 4.7113, s.e.: 0.5073\n",
      "S0/Sigma/T: 105/0.2/2, EUR Put: 5.8722, LSM: 6.5889, Premium: 0.7167, F.D.: 6.4487, s.e.: 0.2863, D.C.: 6.6805, s.e.: 0.6636\n",
      "S0/Sigma/T: 105/0.4/1, EUR Put: 11.8625, LSM: 12.3368, Premium: 0.4743, F.D.: 12.1225, s.e.: 0.4833, D.C.: 12.4199, s.e.: 0.8874\n",
      "S0/Sigma/T: 105/0.4/2, EUR Put: 16.1778, LSM: 16.9885, Premium: 0.8108, F.D.: 16.7995, s.e.: 0.6097, D.C.: 17.2875, s.e.: 1.0722\n",
      "S0/Sigma/T: 110/0.2/1, EUR Put: 3.0476, LSM: 3.2751, Premium: 0.2275, F.D.: 3.1801, s.e.: 0.1805, D.C.: 3.3400, s.e.: 0.4677\n",
      "S0/Sigma/T: 110/0.2/2, EUR Put: 4.6292, LSM: 5.1409, Premium: 0.5117, F.D.: 5.0365, s.e.: 0.2640, D.C.: 5.2593, s.e.: 0.6310\n",
      "S0/Sigma/T: 110/0.4/1, EUR Put: 10.2849, LSM: 10.7038, Premium: 0.4188, F.D.: 10.4901, s.e.: 0.4457, D.C.: 10.7866, s.e.: 0.8655\n",
      "S0/Sigma/T: 110/0.4/2, EUR Put: 14.7251, LSM: 15.5461, Premium: 0.8210, F.D.: 15.2637, s.e.: 0.5972, D.C.: 15.7321, s.e.: 1.0584\n"
     ]
    }
   ],
   "source": [
    "# Store results\n",
    "Results_BS = []\n",
    "\n",
    "# Store results\n",
    "Option_Pricing_Results_BS = []\n",
    "\n",
    "# Iterate over each combination of S, sigma, and T\n",
    "for S0 in S0_values:\n",
    "    for σ in σ_values:\n",
    "        for T in T_values:\n",
    "            # Create instance from class\n",
    "            MC_Option_Pricing_BS = MonteCarloOptionPricing(r, S0, K, T, σ, λ, dim, n, seed, use_AV)\n",
    "            \n",
    "            # 1) Calculate European Put using Black-Scholes\n",
    "            BS_Price = MC_Option_Pricing_BS.BS_option_value('put')\n",
    "            \n",
    "            # 2) Compute American Put using LSM\n",
    "            MC_Option_Pricing_BS.GeometricBrownianMotion_vec() # simulate GBM paths\n",
    "            American_put_price = MC_Option_Pricing_BS.american_option_LSM(poly_degree, otype='put') # price option\n",
    "            \n",
    "            # 3) Calculate premium\n",
    "            Option_Premium = American_put_price[0] - BS_Price \n",
    "            \n",
    "            # 4) Compute American Put using Implicit Finite Difference\n",
    "            Implicit_Finite_Difference = AmericanPutFiniteDifference(K, r, M = 1_000)\n",
    "            FD = Implicit_Finite_Difference.implicit_FD(S0, σ, T, N=n)\n",
    "            \n",
    "            # 5) Compute American Put using Dynamic Chebyshev \n",
    "            DC_option_pricing = DynamicChebyshev(r, S0, K, T, σ, λ, dim, n, n_chebyshev_pol, seed, use_AV)\n",
    "            \n",
    "            # a) offline phase\n",
    "            domain = DC_option_pricing.calculate_truncated_domain_GBM()\n",
    "            xknots = DC_option_pricing.calculate_nodal_points(domain)\n",
    "            BS = DC_option_pricing.generate_GBM_path(xknots)\n",
    "            Γ = DC_option_pricing.compute_generalized_moments(domain, xknots)\n",
    "\n",
    "            # b) online phase\n",
    "            DC = DC_option_pricing.price_option_with_dynamic_chebyshev(xknots, Γ)\n",
    "            \n",
    "            # 6) Store the results\n",
    "            Results_BS.append((S0, σ, T, BS_Price, American_put_price[0], Option_Premium, FD, American_put_price[3], DC[0], DC[1]))\n",
    "            \n",
    "            # Print\n",
    "            print(f'S0/Sigma/T: {S0}/{σ}/{T}, EUR Put: {BS_Price:.4f}, LSM: {American_put_price[0]:.4f}, Premium: {Option_Premium:.4f}, F.D.: {FD:.4f}, s.e.: {American_put_price[3]:.4f}, D.C.: {DC[0]:.4f}, s.e.: {DC[1]:.4f}')"
   ]
  },
  {
   "cell_type": "markdown",
   "id": "a0517fe5-dc35-44b4-87ed-21535ee87cc1",
   "metadata": {},
   "source": [
    "## 2b) Jump Merton <a class=\"anchor\" id=\"secondb-bullet\"></a>"
   ]
  },
  {
   "cell_type": "code",
   "execution_count": 30,
   "id": "a2269dfc-5467-45ef-bff6-0457b1bb14d2",
   "metadata": {},
   "outputs": [],
   "source": [
    "λ = 0.4 # intensity rate of the Poisson process\n",
    "α = -0.5 # Mean of log-normal jump size\n",
    "β = 0.4 # Volatility of log-normal jump size"
   ]
  },
  {
   "cell_type": "code",
   "execution_count": 31,
   "id": "8334d63d-c3fa-408c-8531-30de51300835",
   "metadata": {},
   "outputs": [
    {
     "name": "stdout",
     "output_type": "stream",
     "text": [
      "S0/Sigma/T: 90/0.2/1, EUR Put: 15.4293, LSM: 15.2358, Premium: -0.1935, D.C.: 17.6415\n",
      "S0/Sigma/T: 90/0.2/2, EUR Put: 19.7099, LSM: 20.2854, Premium: 0.5755, D.C.: 23.3843\n",
      "S0/Sigma/T: 90/0.4/1, EUR Put: 21.3713, LSM: 21.2404, Premium: -0.1309, D.C.: 25.4698\n",
      "S0/Sigma/T: 90/0.4/2, EUR Put: 26.7443, LSM: 27.4076, Premium: 0.6634, D.C.: 32.6467\n",
      "S0/Sigma/T: 95/0.2/1, EUR Put: 13.5498, LSM: 13.2739, Premium: -0.2759, D.C.: 15.4845\n",
      "S0/Sigma/T: 95/0.2/2, EUR Put: 18.1511, LSM: 18.7382, Premium: 0.5870, D.C.: 21.6288\n",
      "S0/Sigma/T: 95/0.4/1, EUR Put: 19.3825, LSM: 19.2284, Premium: -0.1541, D.C.: 23.5186\n",
      "S0/Sigma/T: 95/0.4/2, EUR Put: 25.0869, LSM: 25.5603, Premium: 0.4734, D.C.: 31.0005\n",
      "S0/Sigma/T: 100/0.2/1, EUR Put: 12.0261, LSM: 11.6292, Premium: -0.3969, D.C.: 13.6469\n",
      "S0/Sigma/T: 100/0.2/2, EUR Put: 16.7778, LSM: 17.1873, Premium: 0.4095, D.C.: 19.9897\n",
      "S0/Sigma/T: 100/0.4/1, EUR Put: 17.6104, LSM: 17.2227, Premium: -0.3877, D.C.: 21.7062\n",
      "S0/Sigma/T: 100/0.4/2, EUR Put: 23.5664, LSM: 23.7937, Premium: 0.2273, D.C.: 29.4003\n",
      "S0/Sigma/T: 105/0.2/1, EUR Put: 10.7852, LSM: 10.2955, Premium: -0.4897, D.C.: 12.1782\n",
      "S0/Sigma/T: 105/0.2/2, EUR Put: 15.5598, LSM: 15.7688, Premium: 0.2090, D.C.: 18.5840\n",
      "S0/Sigma/T: 105/0.4/1, EUR Put: 16.0329, LSM: 15.5154, Premium: -0.5175, D.C.: 19.9507\n",
      "S0/Sigma/T: 105/0.4/2, EUR Put: 22.1697, LSM: 22.3399, Premium: 0.1702, D.C.: 27.9657\n",
      "S0/Sigma/T: 110/0.2/1, EUR Put: 9.7621, LSM: 9.1975, Premium: -0.5646, D.C.: 10.9341\n",
      "S0/Sigma/T: 110/0.2/2, EUR Put: 14.4721, LSM: 14.6946, Premium: 0.2224, D.C.: 17.2623\n",
      "S0/Sigma/T: 110/0.4/1, EUR Put: 14.6290, LSM: 14.0539, Premium: -0.5751, D.C.: 18.4882\n",
      "S0/Sigma/T: 110/0.4/2, EUR Put: 20.8850, LSM: 20.8553, Premium: -0.0298, D.C.: 26.6763\n"
     ]
    }
   ],
   "source": [
    "# Store results\n",
    "Results_JM = []\n",
    "\n",
    "# Iterate over each combination of S, sigma, and T\n",
    "for S0 in S0_values:\n",
    "    for σ in σ_values:\n",
    "        for T in T_values:\n",
    "            # Create instance from class\n",
    "            MC_Option_Pricing_JM = MonteCarloOptionPricing(r, S0, K, T, σ, λ, dim, n, seed, use_AV)\n",
    "            \n",
    "            # 1) Calculate European Put using Jump Merton semi-closed solution\n",
    "            JumpMerton_price = MC_Option_Pricing_JM.merton_jump_option_value(α, β)\n",
    "            \n",
    "            # 2) Compute American Put using LSM\n",
    "            MC_Option_Pricing_JM.MertonJumpDiffusion_vec(α, β) # simulate jump paths\n",
    "            American_put_price = MC_Option_Pricing_JM.american_option_LSM(poly_degree, otype='put') # price option\n",
    "            \n",
    "            # 3) Calculate premium\n",
    "            Option_Premium = American_put_price[0] - JumpMerton_price \n",
    "            \n",
    "            # 4) Compute American Put using Dynamic Chebyshev \n",
    "            DC_option_pricing = DynamicChebyshev(r, S0, K, T, σ, λ, dim, n, n_chebyshev_pol, seed, use_AV)\n",
    "            # a) offline phase\n",
    "            domain = DC_option_pricing.calculate_truncated_domain_JumpMerton(α, β)\n",
    "            xknots = DC_option_pricing.calculate_nodal_points(domain)\n",
    "            JM = DC_option_pricing.generate_Jump_path(xknots, α, β)\n",
    "            Γ = DC_option_pricing.compute_generalized_moments(domain,xknots)\n",
    "\n",
    "            # b) online phase\n",
    "            DC = DC_option_pricing.price_option_with_dynamic_chebyshev(xknots,Γ)\n",
    "            \n",
    "            # 5) Store the results\n",
    "            Results_JM.append((S0, σ, T, JumpMerton_price, American_put_price[0], Option_Premium, DC[0]))\n",
    "            \n",
    "            # Print\n",
    "            print(f'S0/Sigma/T: {S0}/{σ}/{T}, EUR Put: {JumpMerton_price:.4f}, LSM: {American_put_price[0]:.4f}, Premium: {Option_Premium:.4f}, D.C.: {DC[0]:.4f}')"
   ]
  },
  {
   "cell_type": "markdown",
   "id": "1d15eb99-b47d-44c8-95e5-8d3eeb9c32c7",
   "metadata": {},
   "source": [
    "## 2c) Constant Elasticity of Variance (CEV) <a class=\"anchor\" id=\"secondc-bullet\"></a>"
   ]
  },
  {
   "cell_type": "code",
   "execution_count": 32,
   "id": "40e6eae9-a0a2-4a7d-b0f7-5d96c45aece6",
   "metadata": {},
   "outputs": [],
   "source": [
    "γ = 1.5 # parameter governing elasticity with respect to price, if set = 2 then we obtain BS prices"
   ]
  },
  {
   "cell_type": "code",
   "execution_count": 33,
   "id": "e136eac5-1669-4757-acca-c2189cb9c092",
   "metadata": {},
   "outputs": [
    {
     "name": "stdout",
     "output_type": "stream",
     "text": [
      "S0/Sigma/T: 90/0.2/1, LSM: 9.9255, D.C.: 10.3373\n",
      "S0/Sigma/T: 90/0.2/2, LSM: 9.8402, D.C.: 10.8464\n",
      "S0/Sigma/T: 90/0.4/1, LSM: 10.0482, D.C.: 14.5960\n",
      "S0/Sigma/T: 90/0.4/2, LSM: 10.2632, D.C.: 17.1494\n",
      "S0/Sigma/T: 95/0.2/1, LSM: 4.9297, D.C.: 6.8071\n",
      "S0/Sigma/T: 95/0.2/2, LSM: 4.9353, D.C.: 7.7088\n",
      "S0/Sigma/T: 95/0.4/1, LSM: 6.2868, D.C.: 11.9440\n",
      "S0/Sigma/T: 95/0.4/2, LSM: 6.9045, D.C.: 14.7843\n",
      "S0/Sigma/T: 100/0.2/1, LSM: 1.3617, D.C.: 4.2796\n",
      "S0/Sigma/T: 100/0.2/2, LSM: 1.5167, D.C.: 5.3875\n",
      "S0/Sigma/T: 100/0.4/1, LSM: 3.6363, D.C.: 9.6798\n",
      "S0/Sigma/T: 100/0.4/2, LSM: 4.5347, D.C.: 12.7250\n",
      "S0/Sigma/T: 105/0.2/1, LSM: 0.2798, D.C.: 2.5683\n",
      "S0/Sigma/T: 105/0.2/2, LSM: 0.4309, D.C.: 3.6999\n",
      "S0/Sigma/T: 105/0.4/1, LSM: 2.0190, D.C.: 7.8023\n",
      "S0/Sigma/T: 105/0.4/2, LSM: 2.9312, D.C.: 10.9364\n",
      "S0/Sigma/T: 110/0.2/1, LSM: 0.0280, D.C.: 1.4772\n",
      "S0/Sigma/T: 110/0.2/2, LSM: 0.1014, D.C.: 2.5010\n",
      "S0/Sigma/T: 110/0.4/1, LSM: 0.9367, D.C.: 6.2436\n",
      "S0/Sigma/T: 110/0.4/2, LSM: 1.7988, D.C.: 9.3831\n"
     ]
    }
   ],
   "source": [
    "# Store results\n",
    "Results_CEV = []\n",
    "\n",
    "# Iterate over each combination of S, sigma, and T\n",
    "for S0 in S0_values:\n",
    "    for σ in σ_values:\n",
    "        for T in T_values:\n",
    "            # Create instance from class\n",
    "            MC_Option_Pricing_CEV = MonteCarloOptionPricing(r, S0, K, T, σ, λ, dim, n, seed, use_AV)\n",
    "            \n",
    "            # 1) Compute American Put using LSM\n",
    "            MC_Option_Pricing_CEV.CEV(γ) # simulate CEV paths\n",
    "            American_put_price = MC_Option_Pricing_CEV.american_option_LSM(poly_degree, otype='put') # price option\n",
    "            \n",
    "            # 2) Compute American Put using Dynamic Chebyshev\n",
    "            DC_option_pricing = DynamicChebyshev(r, S0, K, T, σ, λ, dim, n, n_chebyshev_pol, seed, use_AV)\n",
    "            # a) offline phase\n",
    "            domain = DC_option_pricing.calculate_truncated_domain_GBM()\n",
    "            xknots = DC_option_pricing.calculate_nodal_points(domain)\n",
    "            CEV = DC_option_pricing.generate_CEV_path(xknots, γ)\n",
    "            Γ = DC_option_pricing.compute_generalized_moments(domain, xknots)\n",
    "\n",
    "            # b) online phase\n",
    "            DC = DC_option_pricing.price_option_with_dynamic_chebyshev(xknots, Γ)\n",
    "            \n",
    "            # 3) Store the results\n",
    "            Results_CEV.append((S0, σ, T, American_put_price[0], DC[0]))\n",
    "            \n",
    "            # Print\n",
    "            print(f'S0/Sigma/T: {S0}/{σ}/{T}, LSM: {American_put_price[0]:.4f}, D.C.: {DC[0]:.4f}')"
   ]
  },
  {
   "cell_type": "code",
   "execution_count": null,
   "id": "cc631779-0765-400a-8cf2-fa2a0bed8084",
   "metadata": {},
   "outputs": [],
   "source": []
  }
 ],
 "metadata": {
  "kernelspec": {
   "display_name": "Python 3 (ipykernel)",
   "language": "python",
   "name": "python3"
  },
  "language_info": {
   "codemirror_mode": {
    "name": "ipython",
    "version": 3
   },
   "file_extension": ".py",
   "mimetype": "text/x-python",
   "name": "python",
   "nbconvert_exporter": "python",
   "pygments_lexer": "ipython3",
   "version": "3.9.12"
  }
 },
 "nbformat": 4,
 "nbformat_minor": 5
}
