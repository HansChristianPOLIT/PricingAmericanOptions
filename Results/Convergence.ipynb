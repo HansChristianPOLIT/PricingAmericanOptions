{
 "cells": [
  {
   "cell_type": "markdown",
   "id": "dd528a42-6649-4b25-90da-4bfedf83557c",
   "metadata": {},
   "source": [
    "# Convergence"
   ]
  },
  {
   "cell_type": "code",
   "execution_count": 18,
   "id": "38b27530-dff4-4b4f-819a-b8fff1b9133f",
   "metadata": {},
   "outputs": [],
   "source": [
    "import scipy.sparse\n",
    "import scipy.sparse.linalg\n",
    "import pandas as pd\n",
    "import numpy as np\n",
    "import matplotlib.pyplot as plt\n",
    "import os\n",
    "\n",
    "# local\n",
    "from DC import DynamicChebyshev\n",
    "from FD import AmericanPutFiniteDifference"
   ]
  },
  {
   "cell_type": "code",
   "execution_count": 15,
   "id": "04c13467-1814-457f-a661-ec5eca76568a",
   "metadata": {},
   "outputs": [
    {
     "data": {
      "text/plain": [
       "array(4.85908753)"
      ]
     },
     "execution_count": 15,
     "metadata": {},
     "output_type": "execute_result"
    }
   ],
   "source": [
    "# initialize\n",
    "DC_option_pricing = DynamicChebyshev(r=0.06, S0=36., K=40., T=1., σ=0.2, dim=10_000, n=252, n_chebyshev_pol=100, seed=150_000)\n",
    "\n",
    "# offline phase\n",
    "domain = DC_option_pricing.trunc_domain()\n",
    "xknots = DC_option_pricing.nodal_points(domain)\n",
    "Γ = DC_option_pricing.generalized_MC(domain,xknots)\n",
    "\n",
    "# online phase\n",
    "DC_option_pricing.dynamic_chebyshev(xknots,Γ)"
   ]
  },
  {
   "cell_type": "markdown",
   "id": "85ad388e-02c0-4a0d-8e0a-9aa531ab5110",
   "metadata": {},
   "source": [
    "# Checking Approximation for Increasing Number of Knot Points"
   ]
  },
  {
   "cell_type": "code",
   "execution_count": null,
   "id": "b2af228a-3181-41bf-a020-4691b778c424",
   "metadata": {},
   "outputs": [],
   "source": [
    "# Define the array of number of Chebyshev points to loop over\n",
    "chebyshev_points_array = [10, 20, 50, 100, 250]\n",
    "\n",
    "# Initialize the figure for plotting\n",
    "plt.figure(figsize=(10, 6))\n",
    "\n",
    "# Loop over the array of Chebyshev points\n",
    "for n_chebyshev_pol in chebyshev_points_array:\n",
    "    # Initialize the DynamicChebyshev object with the current number of Chebyshev points\n",
    "    option_pricing = DynamicChebyshev(r=0.06, S0=36., K=40., T=1., σ=0.2, dim=10_000, n=252, \n",
    "                                      n_chebyshev_pol=n_chebyshev_pol, seed=150_000)\n",
    "\n",
    "    # Calculate domain, xknots, and generalized moments\n",
    "    domain = option_pricing.trunc_domain()\n",
    "    xknots = option_pricing.nodal_points(domain)\n",
    "    Γ = option_pricing.generalized_MC(domain, xknots)\n",
    "    option_pricing.dynamic_chebyshev(xknots, Γ)\n",
    "\n",
    "    # Plot the continuation value at t=0 for each number of Chebyshev points\n",
    "    plt.plot(np.exp(xknots), option_pricing.C[:,0], '.-', label=f'Continuation Value at $t=0$ (Chebyshev Points: {n_chebyshev_pol})')\n",
    "\n",
    "# Plot the intrinsic value (only once, as it does not depend on the number of Chebyshev points)\n",
    "asset_prices_range = np.exp(np.arange(domain[0], domain[1], 0.01))\n",
    "intrinsic_value = np.maximum(option_pricing.K - asset_prices_range, 0)\n",
    "plt.plot(asset_prices_range, intrinsic_value, '-r', label='Intrinsic Value')\n",
    "\n",
    "# Adding labels and title\n",
    "plt.xlabel('Asset Price, $S_0$')\n",
    "plt.ylabel('Option Value')\n",
    "plt.title('Dynamic Chebyshev Method - Computed using MC for Different Chebyshev Points')\n",
    "\n",
    "# Adding a legend\n",
    "plt.legend()\n",
    "\n",
    "plt.tight_layout()\n",
    "\n",
    "if not os.path.exists(\"../Results/plots\"):\n",
    "    os.makedirs(\"../Results/plots\")\n",
    "    \n",
    "plt.savefig(\"../Results/plots/DC_approximation.pdf\", bbox_inches='tight')\n",
    "\n",
    "# Display the plot\n",
    "plt.show()"
   ]
  },
  {
   "cell_type": "markdown",
   "id": "84346aef-f20d-46b4-8ecf-21d55bbf8943",
   "metadata": {},
   "source": [
    "### Reference Algorithmm"
   ]
  },
  {
   "cell_type": "code",
   "execution_count": 15,
   "id": "27362051-9b61-49b9-bef3-c1b9a08a2aa5",
   "metadata": {},
   "outputs": [],
   "source": [
    "implicit_FD = AmericanPutFiniteDifference(K = 40., r=0.06, M = 1_000)"
   ]
  },
  {
   "cell_type": "code",
   "execution_count": 16,
   "id": "ccc8a6c7-7ad8-4ef1-9604-47a0e15fe39f",
   "metadata": {},
   "outputs": [
    {
     "name": "stdout",
     "output_type": "stream",
     "text": [
      "    S0    σ  Maturity     Price\n",
      "0   36  0.2         1  4.464959\n",
      "1   36  0.2         2  4.829426\n",
      "2   36  0.4         1  7.075359\n",
      "3   36  0.4         2  8.414515\n",
      "4   38  0.2         1  3.236798\n",
      "5   38  0.2         2  3.734485\n",
      "6   38  0.4         1  6.122398\n",
      "7   38  0.4         2  7.593174\n",
      "8   40  0.2         1  2.301416\n",
      "9   40  0.2         2  2.875075\n",
      "10  40  0.4         1  5.287724\n",
      "11  40  0.4         2  6.855543\n",
      "12  42  0.2         1  1.606117\n",
      "13  42  0.2         2  2.203934\n",
      "14  42  0.4         1  4.559553\n",
      "15  42  0.4         2  6.193117\n",
      "16  44  0.2         1  1.101470\n",
      "17  44  0.2         2  1.682617\n",
      "18  44  0.4         1  3.926463\n",
      "19  44  0.4         2  5.598173\n"
     ]
    }
   ],
   "source": [
    "# Combinations of S0, σ, and T\n",
    "combinations = [\n",
    "    (36, 0.20, 1), (36, 0.20, 2), (36, 0.40, 1), (36, 0.40, 2),\n",
    "    (38, 0.20, 1), (38, 0.20, 2), (38, 0.40, 1), (38, 0.40, 2),\n",
    "    (40, 0.20, 1), (40, 0.20, 2), (40, 0.40, 1), (40, 0.40, 2),\n",
    "    (42, 0.20, 1), (42, 0.20, 2), (42, 0.40, 1), (42, 0.40, 2),\n",
    "    (44, 0.20, 1), (44, 0.20, 2), (44, 0.40, 1), (44, 0.40, 2)\n",
    "]\n",
    "\n",
    "# Calculate prices\n",
    "results = implicit_FD.option_pricing(combinations, N=50) # timestep = 50\n",
    "\n",
    "# Convert results to a DataFrame for better visualization\n",
    "df = pd.DataFrame(results)\n",
    "print(df)"
   ]
  },
  {
   "cell_type": "markdown",
   "id": "4fdd3a83-fc33-4536-8b1c-6a35c2f0b44c",
   "metadata": {},
   "source": [
    "### Dynamic Chebyshev"
   ]
  },
  {
   "cell_type": "code",
   "execution_count": null,
   "id": "61ada138-f4f4-4b5a-87b8-d3f068629c44",
   "metadata": {},
   "outputs": [],
   "source": []
  }
 ],
 "metadata": {
  "kernelspec": {
   "display_name": "Python 3 (ipykernel)",
   "language": "python",
   "name": "python3"
  },
  "language_info": {
   "codemirror_mode": {
    "name": "ipython",
    "version": 3
   },
   "file_extension": ".py",
   "mimetype": "text/x-python",
   "name": "python",
   "nbconvert_exporter": "python",
   "pygments_lexer": "ipython3",
   "version": "3.9.12"
  }
 },
 "nbformat": 4,
 "nbformat_minor": 5
}
