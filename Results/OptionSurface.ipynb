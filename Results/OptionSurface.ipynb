{
 "cells": [
  {
   "cell_type": "markdown",
   "id": "a4071fd1-8d87-483f-a7de-97f27209230e",
   "metadata": {},
   "source": [
    "# Option Pricing Surace"
   ]
  },
  {
   "cell_type": "markdown",
   "id": "0f40ea0d-083a-45ae-90c2-cae703ef8bc6",
   "metadata": {},
   "source": [
    "## Setup"
   ]
  },
  {
   "cell_type": "code",
   "execution_count": null,
   "id": "895b0e6d-f683-41ad-a26d-cd47b464efad",
   "metadata": {},
   "outputs": [],
   "source": [
    "%load_ext autoreload\n",
    "%autoreload 2\n",
    "\n",
    "import numpy as np\n",
    "import matplotlib.pyplot as plt\n",
    "from mpl_toolkits.mplot3d import Axes3D\n",
    "from scipy.interpolate import griddata\n",
    "import os\n",
    "\n",
    "# local\n",
    "from DC import DynamicChebyshev\n",
    "from LSM import MonteCarloOptionPricing\n",
    "from FD import AmericanPutFiniteDifference"
   ]
  },
  {
   "cell_type": "code",
   "execution_count": null,
   "id": "83765acf-397e-4f1c-8534-3e0794853c47",
   "metadata": {},
   "outputs": [],
   "source": [
    "# Parameter inputs\n",
    "S0 = 100  # current stock price\n",
    "r = 0.03  # risk-free rate\n",
    "K = 100.   # strike price\n",
    "λ = 0.4 # intensity rate of the Poisson process\n",
    "dim = 100_000  # number of simulation paths\n",
    "n = 252  # number of exercise rights per year\n",
    "n_chebyshev_pol = 100 # degree of chebyshev polynomials\n",
    "seed = 15_001  # random seed for reproducibility\n",
    "use_AV = True  # antithetic variates\n",
    "poly_degree = 3  # polynomial degree for LSM regression\n",
    "M = 1_000 # number of price steps for Finite Differnece\n",
    "N = 40_000 # number of time steps for Finite Difference \n",
    "σ = 0.25 # volatiltiy parameter in diffusion term"
   ]
  },
  {
   "cell_type": "code",
   "execution_count": null,
   "id": "bda66038-33e7-473e-94a1-96c37fab7660",
   "metadata": {},
   "outputs": [],
   "source": [
    "# Define maturities and strikes\n",
    "maturities = np.array([1/12, 2/12, 3/12, 6/12, 9/12, 1, 15/12, 18/12, 2, 30/12, 3, 4])\n",
    "strikes = np.arange(0.8 * S0, 1.21 * S0, 0.05 * S0)"
   ]
  },
  {
   "cell_type": "markdown",
   "id": "34c052db-7edd-46af-a227-d4e61bf26cf3",
   "metadata": {},
   "source": [
    "## Option Pricing Surface"
   ]
  },
  {
   "cell_type": "markdown",
   "id": "39e3af27-78ed-4f92-8c80-c930b3479bc4",
   "metadata": {},
   "source": [
    "### Benchmark"
   ]
  },
  {
   "cell_type": "code",
   "execution_count": null,
   "id": "b4c46286-5687-45ef-b9bb-ef7521172ccf",
   "metadata": {},
   "outputs": [],
   "source": [
    "# Lists to store results\n",
    "prices_fd = []\n",
    "maturity_list_fd = []\n",
    "strike_list_fd = []"
   ]
  },
  {
   "cell_type": "code",
   "execution_count": null,
   "id": "1b692d4a-f315-4761-93ba-9492457ebb8e",
   "metadata": {},
   "outputs": [
    {
     "name": "stdout",
     "output_type": "stream",
     "text": [
      "K/T: 80.0/0.08333333333333333, F.D.: 0.0016\n",
      "K/T: 85.0/0.08333333333333333, F.D.: 0.0254\n",
      "K/T: 90.0/0.08333333333333333, F.D.: 0.2034\n",
      "K/T: 95.0/0.08333333333333333, F.D.: 0.9323\n",
      "K/T: 100.0/0.08333333333333333, F.D.: 2.7672\n",
      "K/T: 105.0/0.08333333333333333, F.D.: 5.9470\n",
      "K/T: 110.0/0.08333333333333333, F.D.: 10.1848\n",
      "K/T: 115.0/0.08333333333333333, F.D.: 15.0012\n",
      "K/T: 120.0/0.08333333333333333, F.D.: 20.0000\n",
      "K/T: 80.0/0.16666666666666666, F.D.: 0.0403\n",
      "K/T: 85.0/0.16666666666666666, F.D.: 0.1985\n",
      "K/T: 90.0/0.16666666666666666, F.D.: 0.6910\n",
      "K/T: 95.0/0.16666666666666666, F.D.: 1.8213\n",
      "K/T: 100.0/0.16666666666666666, F.D.: 3.8498\n",
      "K/T: 105.0/0.16666666666666666, F.D.: 6.8529\n",
      "K/T: 110.0/0.16666666666666666, F.D.: 10.7019\n",
      "K/T: 115.0/0.16666666666666666, F.D.: 15.1611\n",
      "K/T: 120.0/0.16666666666666666, F.D.: 20.0019\n",
      "K/T: 80.0/0.25, F.D.: 0.1424\n",
      "K/T: 85.0/0.25, F.D.: 0.4618\n",
      "K/T: 90.0/0.25, F.D.: 1.1885\n",
      "K/T: 95.0/0.25, F.D.: 2.5363\n",
      "K/T: 100.0/0.25, F.D.: 4.6556\n",
      "K/T: 105.0/0.25, F.D.: 7.5793\n",
      "K/T: 110.0/0.25, F.D.: 11.2261\n",
      "K/T: 115.0/0.25, F.D.: 15.4477\n",
      "K/T: 120.0/0.25, F.D.: 20.0840\n",
      "K/T: 80.0/0.5, F.D.: 0.6513\n",
      "K/T: 85.0/0.5, F.D.: 1.3510\n",
      "K/T: 90.0/0.5, F.D.: 2.4876\n",
      "K/T: 95.0/0.5, F.D.: 4.1530\n",
      "K/T: 100.0/0.5, F.D.: 6.3958\n",
      "K/T: 105.0/0.5, F.D.: 9.2176\n",
      "K/T: 110.0/0.5, F.D.: 12.5792\n",
      "K/T: 115.0/0.5, F.D.: 16.4153\n",
      "K/T: 120.0/0.5, F.D.: 20.6490\n",
      "K/T: 80.0/0.75, F.D.: 1.2421\n",
      "K/T: 85.0/0.75, F.D.: 2.1855\n",
      "K/T: 90.0/0.75, F.D.: 3.5412\n",
      "K/T: 95.0/0.75, F.D.: 5.3583\n",
      "K/T: 100.0/0.75, F.D.: 7.6585\n",
      "K/T: 105.0/0.75, F.D.: 10.4367\n",
      "K/T: 110.0/0.75, F.D.: 13.6668\n",
      "K/T: 115.0/0.75, F.D.: 17.3079\n",
      "K/T: 120.0/0.75, F.D.: 21.3121\n",
      "K/T: 80.0/1.0, F.D.: 1.8217\n",
      "K/T: 85.0/1.0, F.D.: 2.9330\n",
      "K/T: 90.0/1.0, F.D.: 4.4292\n",
      "K/T: 95.0/1.0, F.D.: 6.3396\n",
      "K/T: 100.0/1.0, F.D.: 8.6747\n",
      "K/T: 105.0/1.0, F.D.: 11.4278\n",
      "K/T: 110.0/1.0, F.D.: 14.5789\n",
      "K/T: 115.0/1.0, F.D.: 18.0984\n",
      "K/T: 120.0/1.0, F.D.: 21.9521\n",
      "K/T: 80.0/1.25, F.D.: 2.3689\n",
      "K/T: 85.0/1.25, F.D.: 3.6040\n",
      "K/T: 90.0/1.25, F.D.: 5.1997\n",
      "K/T: 95.0/1.25, F.D.: 7.1748\n",
      "K/T: 100.0/1.25, F.D.: 9.5341\n",
      "K/T: 105.0/1.25, F.D.: 12.2706\n",
      "K/T: 110.0/1.25, F.D.: 15.3676\n",
      "K/T: 115.0/1.25, F.D.: 18.8024\n",
      "K/T: 120.0/1.25, F.D.: 22.5484\n",
      "K/T: 80.0/1.5, F.D.: 2.8803\n",
      "K/T: 85.0/1.5, F.D.: 4.2111\n",
      "K/T: 90.0/1.5, F.D.: 5.8819\n",
      "K/T: 95.0/1.5, F.D.: 7.9052\n",
      "K/T: 100.0/1.5, F.D.: 10.2826\n",
      "K/T: 105.0/1.5, F.D.: 13.0070\n",
      "K/T: 110.0/1.5, F.D.: 16.0642\n"
     ]
    }
   ],
   "source": [
    "# Iterate over each maturity and strike combination\n",
    "for T in maturities:\n",
    "    for K in strikes:\n",
    "        Implicit_Finite_Difference = AmericanPutFiniteDifference(K, r, M)\n",
    "        FD = Implicit_Finite_Difference.implicit_FD(S0, σ, T, N)\n",
    "        # Store the results\n",
    "        prices_fd.append(FD)\n",
    "        maturity_list_fd.append(T)\n",
    "        strike_list_fd.append(K)\n",
    "        # Print\n",
    "        print(f'K/T: {K}/{T}, F.D.: {FD:.4f}')"
   ]
  },
  {
   "cell_type": "code",
   "execution_count": null,
   "id": "1ead9381-71fa-4d87-a9d4-516d4bc1e8e4",
   "metadata": {},
   "outputs": [],
   "source": [
    "# Convert lists to numpy arrays for processing\n",
    "maturities_np_fd = np.array(maturity_list_fd)\n",
    "strikes_np_fd = np.array(strike_list_fd)\n",
    "prices_np_fd = np.array(prices_fd)\n",
    "\n",
    "# Creating a grid for maturities and strikes\n",
    "maturity_grid, strike_grid = np.meshgrid(np.linspace(maturities_np_fd.min(), maturities_np_fd.max(), 100),\n",
    "                                         np.linspace(strikes_np_fd.min(), strikes_np_fd.max(), 100))\n",
    "\n",
    "# Interpolating the prices onto the grid\n",
    "\n",
    "price_grid = griddata((maturities_np_fd, strikes_np_fd), prices_np_fd, (maturity_grid, strike_grid), method='cubic')"
   ]
  },
  {
   "cell_type": "code",
   "execution_count": null,
   "id": "1ae5772b-c6f1-4275-9fcc-cee318935c4b",
   "metadata": {},
   "outputs": [],
   "source": [
    "# Creating the plot\n",
    "fig = plt.figure()\n",
    "ax = fig.add_subplot(111, projection='3d')\n",
    "\n",
    "# Plotting the surface\n",
    "surface = ax.plot_surface(maturity_grid, strike_grid, price_grid, cmap='viridis', edgecolor='none')\n",
    "\n",
    "# Adding labels and title\n",
    "ax.set_xlabel('Maturity (Years)')\n",
    "ax.set_ylabel('Strike Price')\n",
    "ax.set_zlabel('Option Price')\n",
    "plt.title('Surface Plot of Interpolated Prices')\n",
    "\n",
    "# Adding a color bar for reference\n",
    "plt.colorbar(surface, shrink=0.5, aspect=5)\n",
    "\n",
    "# Display the plot\n",
    "plt.show()"
   ]
  },
  {
   "cell_type": "markdown",
   "id": "e4a9f0f5-abad-458c-9d6a-6a6f6bc51339",
   "metadata": {},
   "source": [
    "### LSM"
   ]
  },
  {
   "cell_type": "code",
   "execution_count": null,
   "id": "50294cda-6021-4651-8ab4-33df1ac4f6b8",
   "metadata": {},
   "outputs": [],
   "source": [
    "# Lists to store results\n",
    "prices_lsm = []\n",
    "maturity_list_lsm = []\n",
    "strike_list_lsm = []\n",
    "\n",
    "# Iterate over each maturity and strike combination\n",
    "for T in maturities:\n",
    "    for K in strikes:\n",
    "        # Initialize the Monte Carlo pricer\n",
    "        mcpricer = MonteCarloOptionPricing(r, S0, K, T, σ, λ, dim, n, seed)\n",
    "        # Simulate the asset paths\n",
    "        mcpricer.GeometricBrownianMotion_vec()\n",
    "        # Price the option using LSM\n",
    "        option_price = mcpricer.american_option_LSM(poly_degree, otype='put')[0]\n",
    "\n",
    "        # Store the results\n",
    "        prices_lsm.append(option_price)\n",
    "        maturity_list_lsm.append(T)\n",
    "        strike_list_lsm.append(K)\n",
    "        print(f'K/T: {K}/{T}, LSM: {option_price:.4f}')"
   ]
  },
  {
   "cell_type": "code",
   "execution_count": null,
   "id": "b69c2f7a-7bdc-4ef4-b60c-a85369d7a3d7",
   "metadata": {},
   "outputs": [],
   "source": [
    "# Convert lists to numpy arrays for processing\n",
    "maturities_np_lsm = np.array(maturity_list_lsm)\n",
    "strikes_np_lsm = np.array(strike_list_lsm)\n",
    "prices_np_lsm = np.array(prices_lsm)\n",
    "\n",
    "# Creating a grid for maturities and strikes\n",
    "maturity_grid, strike_grid = np.meshgrid(np.linspace(maturities_np_lsm.min(), maturities_np_lsm.max(), 100),\n",
    "                                         np.linspace(strikes_np_lsm.min(), strikes_np_lsm.max(), 100))\n",
    "\n",
    "# Interpolating the prices onto the grid\n",
    "\n",
    "price_grid = griddata((maturities_np_lsm, strikes_np_lsm), prices_np_lsm, (maturity_grid, strike_grid), method='cubic')"
   ]
  },
  {
   "cell_type": "code",
   "execution_count": null,
   "id": "f39ddaf4-100c-42c0-9315-604a695605f7",
   "metadata": {},
   "outputs": [],
   "source": [
    "# Creating the plot\n",
    "fig = plt.figure()\n",
    "ax = fig.add_subplot(111, projection='3d')\n",
    "\n",
    "# Plotting the surface\n",
    "surface = ax.plot_surface(maturity_grid, strike_grid, price_grid, cmap='viridis', edgecolor='none')\n",
    "\n",
    "# Adding labels and title\n",
    "ax.set_xlabel('Maturity (Years)')\n",
    "ax.set_ylabel('Strike Price')\n",
    "ax.set_zlabel('Option Price')\n",
    "plt.title('Black Scholes - LSM')\n",
    "\n",
    "# Adding a color bar for reference\n",
    "plt.colorbar(surface, shrink=0.5, aspect=5)\n",
    "\n",
    "# Display the plot\n",
    "plt.show()"
   ]
  },
  {
   "cell_type": "markdown",
   "id": "fdc85c7a-6ba6-49c4-bac4-66d259311c92",
   "metadata": {},
   "source": [
    "### Dynamic Chebyshev"
   ]
  },
  {
   "cell_type": "code",
   "execution_count": null,
   "id": "6e34be4b-8ba7-413a-afd4-9f14dcb266db",
   "metadata": {},
   "outputs": [],
   "source": [
    "# Lists to store results\n",
    "prices_dc = []\n",
    "maturity_list_dc = []\n",
    "strike_list_dc = []\n",
    "\n",
    "# Iterate over each maturity and strike combination\n",
    "for T in maturities:\n",
    "    for K in strikes:\n",
    "        DC_option_pricing = DynamicChebyshev(r, S0, K, T, σ, λ, dim, 32, n_chebyshev_pol, seed, use_AV)\n",
    "        # a) offline phase\n",
    "        domain = DC_option_pricing.calculate_truncated_domain_GBM()\n",
    "        xknots = DC_option_pricing.calculate_nodal_points(domain)\n",
    "        BS = DC_option_pricing.generate_GBM_path(xknots)\n",
    "        Γ = DC_option_pricing.compute_generalized_moments(domain, xknots)\n",
    "\n",
    "        # b) online phase\n",
    "        DC = DC_option_pricing.price_option_with_dynamic_chebyshev(xknots, Γ)[0]\n",
    "\n",
    "        # Store the results\n",
    "        prices_dc.append(DC)\n",
    "        maturity_list_dc.append(T)\n",
    "        strike_list_dc.append(K)\n",
    "        print(f'K/T: {K}/{T}, D.C.: {DC:.4f}')"
   ]
  },
  {
   "cell_type": "code",
   "execution_count": null,
   "id": "bd45342f-5f64-4a5c-b73d-c1a4bc6b89bf",
   "metadata": {},
   "outputs": [],
   "source": [
    "# Convert lists to numpy arrays for processing\n",
    "maturities_np_dc = np.array(maturity_list_dc)\n",
    "strikes_np_dc = np.array(strike_list_dc)\n",
    "prices_np_dc = np.array(prices_dc)\n",
    "\n",
    "# Creating a grid for maturities and strikes\n",
    "maturity_grid, strike_grid = np.meshgrid(np.linspace(maturities_np_dc.min(), maturities_np_dc.max(), 100),\n",
    "                                         np.linspace(strikes_np_dc.min(), strikes_np_dc.max(), 100))\n",
    "\n",
    "# Interpolating the prices onto the grid\n",
    "\n",
    "price_grid = griddata((maturities_np_dc, strikes_np_dc), prices_np_dc, (maturity_grid, strike_grid), method='cubic')"
   ]
  },
  {
   "cell_type": "code",
   "execution_count": null,
   "id": "cc0ebd6f-fbe9-4848-91f7-62a358d9ec64",
   "metadata": {},
   "outputs": [],
   "source": [
    "# Creating the plot\n",
    "fig = plt.figure()\n",
    "ax = fig.add_subplot(111, projection='3d')\n",
    "\n",
    "# Plotting the surface\n",
    "surface = ax.plot_surface(maturity_grid, strike_grid, price_grid, cmap='viridis', edgecolor='none')\n",
    "\n",
    "# Adding labels and title\n",
    "ax.set_xlabel('Maturity (Years)')\n",
    "ax.set_ylabel('Strike Price')\n",
    "ax.set_zlabel('Option Price')\n",
    "plt.title('Dynamic Chebyshev - LSM')\n",
    "\n",
    "# Adding a color bar for reference\n",
    "plt.colorbar(surface, shrink=0.5, aspect=5)\n",
    "\n",
    "# Display the plot\n",
    "plt.show()"
   ]
  },
  {
   "cell_type": "markdown",
   "id": "cec5feab-675b-47fd-8d47-eb750224cbb0",
   "metadata": {},
   "source": [
    "## Error Surface"
   ]
  }
 ],
 "metadata": {
  "kernelspec": {
   "display_name": "Python 3 (ipykernel)",
   "language": "python",
   "name": "python3"
  },
  "language_info": {
   "codemirror_mode": {
    "name": "ipython",
    "version": 3
   },
   "file_extension": ".py",
   "mimetype": "text/x-python",
   "name": "python",
   "nbconvert_exporter": "python",
   "pygments_lexer": "ipython3",
   "version": "3.9.12"
  }
 },
 "nbformat": 4,
 "nbformat_minor": 5
}
